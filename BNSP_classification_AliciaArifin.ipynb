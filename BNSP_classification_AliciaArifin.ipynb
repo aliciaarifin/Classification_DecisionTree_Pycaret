{
  "cells": [
    {
      "cell_type": "markdown",
      "metadata": {
        "id": "view-in-github",
        "colab_type": "text"
      },
      "source": [
        "<a href=\"https://colab.research.google.com/github/aliciaarifin/Classification_DecisionTree_Pycaret/blob/main/BNSP_classification_AliciaArifin.ipynb\" target=\"_parent\"><img src=\"https://colab.research.google.com/assets/colab-badge.svg\" alt=\"Open In Colab\"/></a>"
      ]
    },
    {
      "cell_type": "markdown",
      "id": "9c19e110-fbd3-4f04-ac63-17877e3265fd",
      "metadata": {
        "id": "9c19e110-fbd3-4f04-ac63-17877e3265fd"
      },
      "source": [
        "#Klasifikasi dengan Decision Tree dan Pycaret\n",
        "\n",
        "Data yang akan digunakan adalah data tentang penyakit jantung. Data didapatkan dari pelatihan sertifikasi BNSP Matana University pada tanggal 17-18 May 2025. Data berisikan tentang variabel-variabel yang dapat menyebabkan munculnya penyakit jantung pada pasien. Variabel yang disediakan adalah <br>\n",
        "•\tAge\t\t\t: umur <br>\n",
        "•\tSex\t\t\t: jenis kelamin<br>\n",
        "•\tChestPainType\t\t: tipe sakit dada<br>\n",
        "•\tRestingBP\t\t: tekanan darah saat istirahat<br>\n",
        "•\tCholesterol\t\t: kadar kolesterol<br>\n",
        "•\tFastingBS\t\t: gula darah saat berpuasa<br>\n",
        "•\tRestingECG\t\t: electrocardiogram<br>\n",
        "•\tMaxHR\t\t\t: nilai maksimum detak jantung (heart rate)<br>\n",
        "•\tExcerciseAngina\t: pasien nyeri dada saat olahraga<br>\n",
        "•\tOldpeak\t\t<br>\n",
        "•\tST_Slope\t<br>\n",
        "•\tHeartDisease\t\t: pasien terkena penyakit jantung atau tidak<br>\n",
        "<br>\n",
        "Data tentang penyakit jantung ini digunakan untuk memprediksi apakah suatu individu mengalami serangan jantung atau tidak berdasarkan gejala yang dialami. Data ini dilakukan klasifikasi dengan decision tree dan metode klasifikasi lainnya menggunakan library pycaret untuk mengetahui model terbaik untuk memprediksi penyakit jantung. Data ’heart.csv’ diimport ke dalam google collab atau jupiter menggunakan library pandas. Sebelum memulai menganalisis klasifikasi, library yang diperlukan adalah pandas, numpy, dan matplotlib.\n"
      ]
    },
    {
      "cell_type": "code",
      "execution_count": 3,
      "id": "99d4712a-1c3f-46cc-8e6c-f331df69eaf6",
      "metadata": {
        "id": "99d4712a-1c3f-46cc-8e6c-f331df69eaf6"
      },
      "outputs": [],
      "source": [
        "import pandas as pd\n",
        "import numpy as np\n",
        "import matplotlib.pyplot as plt\n",
        "#!pip install pycaret"
      ]
    },
    {
      "cell_type": "markdown",
      "id": "so1fwJrg1_Iu",
      "metadata": {
        "id": "so1fwJrg1_Iu"
      },
      "source": [
        "Library pycaret dijalankan satu kali saja. Setelah menginstall ulang pycaret, google collab akan secara deafult akan menyarankan merestart ulang python. Lakukan restart ulang python, lalu, code `!pip install pycaret` dapat diberikan tanda # di depan agar tidak dijalankan lagi.\n",
        "<br><br>\n",
        "Hal pertama yang akan dilakukan adalh mengimport data ke dalam google collab. Upload file 'heart.csv' pada files di menu files. Lalu, data sudah dapat diimport ke dalam google colab menggunakan library `pandas`."
      ]
    },
    {
      "cell_type": "code",
      "execution_count": 4,
      "id": "ec9fe240-9a20-403a-ad51-ac88313ac841",
      "metadata": {
        "colab": {
          "base_uri": "https://localhost:8080/",
          "height": 444
        },
        "id": "ec9fe240-9a20-403a-ad51-ac88313ac841",
        "outputId": "f0443584-1059-476a-9d7c-b0c2c38bcf06"
      },
      "outputs": [
        {
          "output_type": "execute_result",
          "data": {
            "text/plain": [
              "      Age Sex ChestPainType  RestingBP  Cholesterol  FastingBS RestingECG  \\\n",
              "0     NaN   M           ATA        140          289          0     Normal   \n",
              "1    49.0   F           NAP        160          180          0     Normal   \n",
              "2    37.0   M           ATA        130          283          0         ST   \n",
              "3    48.0   F           ASY        138          214          0     Normal   \n",
              "4    54.0   M           NAP        150          195          0     Normal   \n",
              "..    ...  ..           ...        ...          ...        ...        ...   \n",
              "913  45.0   M            TA        110          264          0     Normal   \n",
              "914  68.0   M           ASY        144          193          1     Normal   \n",
              "915  57.0   M           ASY        130          131          0     Normal   \n",
              "916  57.0   F           ATA        130          236          0        LVH   \n",
              "917  38.0   M           NAP        138          175          0     Normal   \n",
              "\n",
              "     MaxHR ExerciseAngina  Oldpeak ST_Slope  HeartDisease  \n",
              "0      172              N      0.0       Up             0  \n",
              "1      156              N      1.0     Flat             1  \n",
              "2       98              N      0.0       Up             0  \n",
              "3      108              Y      1.5     Flat             1  \n",
              "4      122              N      0.0       Up             0  \n",
              "..     ...            ...      ...      ...           ...  \n",
              "913    132              N      1.2     Flat             1  \n",
              "914    141              N      3.4     Flat             1  \n",
              "915    115              Y      1.2     Flat             1  \n",
              "916    174              N      0.0     Flat             1  \n",
              "917    173              N      0.0       Up             0  \n",
              "\n",
              "[918 rows x 12 columns]"
            ],
            "text/html": [
              "\n",
              "  <div id=\"df-1819f903-08f9-4b26-84d4-a68448513767\" class=\"colab-df-container\">\n",
              "    <div>\n",
              "<style scoped>\n",
              "    .dataframe tbody tr th:only-of-type {\n",
              "        vertical-align: middle;\n",
              "    }\n",
              "\n",
              "    .dataframe tbody tr th {\n",
              "        vertical-align: top;\n",
              "    }\n",
              "\n",
              "    .dataframe thead th {\n",
              "        text-align: right;\n",
              "    }\n",
              "</style>\n",
              "<table border=\"1\" class=\"dataframe\">\n",
              "  <thead>\n",
              "    <tr style=\"text-align: right;\">\n",
              "      <th></th>\n",
              "      <th>Age</th>\n",
              "      <th>Sex</th>\n",
              "      <th>ChestPainType</th>\n",
              "      <th>RestingBP</th>\n",
              "      <th>Cholesterol</th>\n",
              "      <th>FastingBS</th>\n",
              "      <th>RestingECG</th>\n",
              "      <th>MaxHR</th>\n",
              "      <th>ExerciseAngina</th>\n",
              "      <th>Oldpeak</th>\n",
              "      <th>ST_Slope</th>\n",
              "      <th>HeartDisease</th>\n",
              "    </tr>\n",
              "  </thead>\n",
              "  <tbody>\n",
              "    <tr>\n",
              "      <th>0</th>\n",
              "      <td>NaN</td>\n",
              "      <td>M</td>\n",
              "      <td>ATA</td>\n",
              "      <td>140</td>\n",
              "      <td>289</td>\n",
              "      <td>0</td>\n",
              "      <td>Normal</td>\n",
              "      <td>172</td>\n",
              "      <td>N</td>\n",
              "      <td>0.0</td>\n",
              "      <td>Up</td>\n",
              "      <td>0</td>\n",
              "    </tr>\n",
              "    <tr>\n",
              "      <th>1</th>\n",
              "      <td>49.0</td>\n",
              "      <td>F</td>\n",
              "      <td>NAP</td>\n",
              "      <td>160</td>\n",
              "      <td>180</td>\n",
              "      <td>0</td>\n",
              "      <td>Normal</td>\n",
              "      <td>156</td>\n",
              "      <td>N</td>\n",
              "      <td>1.0</td>\n",
              "      <td>Flat</td>\n",
              "      <td>1</td>\n",
              "    </tr>\n",
              "    <tr>\n",
              "      <th>2</th>\n",
              "      <td>37.0</td>\n",
              "      <td>M</td>\n",
              "      <td>ATA</td>\n",
              "      <td>130</td>\n",
              "      <td>283</td>\n",
              "      <td>0</td>\n",
              "      <td>ST</td>\n",
              "      <td>98</td>\n",
              "      <td>N</td>\n",
              "      <td>0.0</td>\n",
              "      <td>Up</td>\n",
              "      <td>0</td>\n",
              "    </tr>\n",
              "    <tr>\n",
              "      <th>3</th>\n",
              "      <td>48.0</td>\n",
              "      <td>F</td>\n",
              "      <td>ASY</td>\n",
              "      <td>138</td>\n",
              "      <td>214</td>\n",
              "      <td>0</td>\n",
              "      <td>Normal</td>\n",
              "      <td>108</td>\n",
              "      <td>Y</td>\n",
              "      <td>1.5</td>\n",
              "      <td>Flat</td>\n",
              "      <td>1</td>\n",
              "    </tr>\n",
              "    <tr>\n",
              "      <th>4</th>\n",
              "      <td>54.0</td>\n",
              "      <td>M</td>\n",
              "      <td>NAP</td>\n",
              "      <td>150</td>\n",
              "      <td>195</td>\n",
              "      <td>0</td>\n",
              "      <td>Normal</td>\n",
              "      <td>122</td>\n",
              "      <td>N</td>\n",
              "      <td>0.0</td>\n",
              "      <td>Up</td>\n",
              "      <td>0</td>\n",
              "    </tr>\n",
              "    <tr>\n",
              "      <th>...</th>\n",
              "      <td>...</td>\n",
              "      <td>...</td>\n",
              "      <td>...</td>\n",
              "      <td>...</td>\n",
              "      <td>...</td>\n",
              "      <td>...</td>\n",
              "      <td>...</td>\n",
              "      <td>...</td>\n",
              "      <td>...</td>\n",
              "      <td>...</td>\n",
              "      <td>...</td>\n",
              "      <td>...</td>\n",
              "    </tr>\n",
              "    <tr>\n",
              "      <th>913</th>\n",
              "      <td>45.0</td>\n",
              "      <td>M</td>\n",
              "      <td>TA</td>\n",
              "      <td>110</td>\n",
              "      <td>264</td>\n",
              "      <td>0</td>\n",
              "      <td>Normal</td>\n",
              "      <td>132</td>\n",
              "      <td>N</td>\n",
              "      <td>1.2</td>\n",
              "      <td>Flat</td>\n",
              "      <td>1</td>\n",
              "    </tr>\n",
              "    <tr>\n",
              "      <th>914</th>\n",
              "      <td>68.0</td>\n",
              "      <td>M</td>\n",
              "      <td>ASY</td>\n",
              "      <td>144</td>\n",
              "      <td>193</td>\n",
              "      <td>1</td>\n",
              "      <td>Normal</td>\n",
              "      <td>141</td>\n",
              "      <td>N</td>\n",
              "      <td>3.4</td>\n",
              "      <td>Flat</td>\n",
              "      <td>1</td>\n",
              "    </tr>\n",
              "    <tr>\n",
              "      <th>915</th>\n",
              "      <td>57.0</td>\n",
              "      <td>M</td>\n",
              "      <td>ASY</td>\n",
              "      <td>130</td>\n",
              "      <td>131</td>\n",
              "      <td>0</td>\n",
              "      <td>Normal</td>\n",
              "      <td>115</td>\n",
              "      <td>Y</td>\n",
              "      <td>1.2</td>\n",
              "      <td>Flat</td>\n",
              "      <td>1</td>\n",
              "    </tr>\n",
              "    <tr>\n",
              "      <th>916</th>\n",
              "      <td>57.0</td>\n",
              "      <td>F</td>\n",
              "      <td>ATA</td>\n",
              "      <td>130</td>\n",
              "      <td>236</td>\n",
              "      <td>0</td>\n",
              "      <td>LVH</td>\n",
              "      <td>174</td>\n",
              "      <td>N</td>\n",
              "      <td>0.0</td>\n",
              "      <td>Flat</td>\n",
              "      <td>1</td>\n",
              "    </tr>\n",
              "    <tr>\n",
              "      <th>917</th>\n",
              "      <td>38.0</td>\n",
              "      <td>M</td>\n",
              "      <td>NAP</td>\n",
              "      <td>138</td>\n",
              "      <td>175</td>\n",
              "      <td>0</td>\n",
              "      <td>Normal</td>\n",
              "      <td>173</td>\n",
              "      <td>N</td>\n",
              "      <td>0.0</td>\n",
              "      <td>Up</td>\n",
              "      <td>0</td>\n",
              "    </tr>\n",
              "  </tbody>\n",
              "</table>\n",
              "<p>918 rows × 12 columns</p>\n",
              "</div>\n",
              "    <div class=\"colab-df-buttons\">\n",
              "\n",
              "  <div class=\"colab-df-container\">\n",
              "    <button class=\"colab-df-convert\" onclick=\"convertToInteractive('df-1819f903-08f9-4b26-84d4-a68448513767')\"\n",
              "            title=\"Convert this dataframe to an interactive table.\"\n",
              "            style=\"display:none;\">\n",
              "\n",
              "  <svg xmlns=\"http://www.w3.org/2000/svg\" height=\"24px\" viewBox=\"0 -960 960 960\">\n",
              "    <path d=\"M120-120v-720h720v720H120Zm60-500h600v-160H180v160Zm220 220h160v-160H400v160Zm0 220h160v-160H400v160ZM180-400h160v-160H180v160Zm440 0h160v-160H620v160ZM180-180h160v-160H180v160Zm440 0h160v-160H620v160Z\"/>\n",
              "  </svg>\n",
              "    </button>\n",
              "\n",
              "  <style>\n",
              "    .colab-df-container {\n",
              "      display:flex;\n",
              "      gap: 12px;\n",
              "    }\n",
              "\n",
              "    .colab-df-convert {\n",
              "      background-color: #E8F0FE;\n",
              "      border: none;\n",
              "      border-radius: 50%;\n",
              "      cursor: pointer;\n",
              "      display: none;\n",
              "      fill: #1967D2;\n",
              "      height: 32px;\n",
              "      padding: 0 0 0 0;\n",
              "      width: 32px;\n",
              "    }\n",
              "\n",
              "    .colab-df-convert:hover {\n",
              "      background-color: #E2EBFA;\n",
              "      box-shadow: 0px 1px 2px rgba(60, 64, 67, 0.3), 0px 1px 3px 1px rgba(60, 64, 67, 0.15);\n",
              "      fill: #174EA6;\n",
              "    }\n",
              "\n",
              "    .colab-df-buttons div {\n",
              "      margin-bottom: 4px;\n",
              "    }\n",
              "\n",
              "    [theme=dark] .colab-df-convert {\n",
              "      background-color: #3B4455;\n",
              "      fill: #D2E3FC;\n",
              "    }\n",
              "\n",
              "    [theme=dark] .colab-df-convert:hover {\n",
              "      background-color: #434B5C;\n",
              "      box-shadow: 0px 1px 3px 1px rgba(0, 0, 0, 0.15);\n",
              "      filter: drop-shadow(0px 1px 2px rgba(0, 0, 0, 0.3));\n",
              "      fill: #FFFFFF;\n",
              "    }\n",
              "  </style>\n",
              "\n",
              "    <script>\n",
              "      const buttonEl =\n",
              "        document.querySelector('#df-1819f903-08f9-4b26-84d4-a68448513767 button.colab-df-convert');\n",
              "      buttonEl.style.display =\n",
              "        google.colab.kernel.accessAllowed ? 'block' : 'none';\n",
              "\n",
              "      async function convertToInteractive(key) {\n",
              "        const element = document.querySelector('#df-1819f903-08f9-4b26-84d4-a68448513767');\n",
              "        const dataTable =\n",
              "          await google.colab.kernel.invokeFunction('convertToInteractive',\n",
              "                                                    [key], {});\n",
              "        if (!dataTable) return;\n",
              "\n",
              "        const docLinkHtml = 'Like what you see? Visit the ' +\n",
              "          '<a target=\"_blank\" href=https://colab.research.google.com/notebooks/data_table.ipynb>data table notebook</a>'\n",
              "          + ' to learn more about interactive tables.';\n",
              "        element.innerHTML = '';\n",
              "        dataTable['output_type'] = 'display_data';\n",
              "        await google.colab.output.renderOutput(dataTable, element);\n",
              "        const docLink = document.createElement('div');\n",
              "        docLink.innerHTML = docLinkHtml;\n",
              "        element.appendChild(docLink);\n",
              "      }\n",
              "    </script>\n",
              "  </div>\n",
              "\n",
              "\n",
              "    <div id=\"df-3c7135b7-44df-4ee7-9788-e5b26bb106ff\">\n",
              "      <button class=\"colab-df-quickchart\" onclick=\"quickchart('df-3c7135b7-44df-4ee7-9788-e5b26bb106ff')\"\n",
              "                title=\"Suggest charts\"\n",
              "                style=\"display:none;\">\n",
              "\n",
              "<svg xmlns=\"http://www.w3.org/2000/svg\" height=\"24px\"viewBox=\"0 0 24 24\"\n",
              "     width=\"24px\">\n",
              "    <g>\n",
              "        <path d=\"M19 3H5c-1.1 0-2 .9-2 2v14c0 1.1.9 2 2 2h14c1.1 0 2-.9 2-2V5c0-1.1-.9-2-2-2zM9 17H7v-7h2v7zm4 0h-2V7h2v10zm4 0h-2v-4h2v4z\"/>\n",
              "    </g>\n",
              "</svg>\n",
              "      </button>\n",
              "\n",
              "<style>\n",
              "  .colab-df-quickchart {\n",
              "      --bg-color: #E8F0FE;\n",
              "      --fill-color: #1967D2;\n",
              "      --hover-bg-color: #E2EBFA;\n",
              "      --hover-fill-color: #174EA6;\n",
              "      --disabled-fill-color: #AAA;\n",
              "      --disabled-bg-color: #DDD;\n",
              "  }\n",
              "\n",
              "  [theme=dark] .colab-df-quickchart {\n",
              "      --bg-color: #3B4455;\n",
              "      --fill-color: #D2E3FC;\n",
              "      --hover-bg-color: #434B5C;\n",
              "      --hover-fill-color: #FFFFFF;\n",
              "      --disabled-bg-color: #3B4455;\n",
              "      --disabled-fill-color: #666;\n",
              "  }\n",
              "\n",
              "  .colab-df-quickchart {\n",
              "    background-color: var(--bg-color);\n",
              "    border: none;\n",
              "    border-radius: 50%;\n",
              "    cursor: pointer;\n",
              "    display: none;\n",
              "    fill: var(--fill-color);\n",
              "    height: 32px;\n",
              "    padding: 0;\n",
              "    width: 32px;\n",
              "  }\n",
              "\n",
              "  .colab-df-quickchart:hover {\n",
              "    background-color: var(--hover-bg-color);\n",
              "    box-shadow: 0 1px 2px rgba(60, 64, 67, 0.3), 0 1px 3px 1px rgba(60, 64, 67, 0.15);\n",
              "    fill: var(--button-hover-fill-color);\n",
              "  }\n",
              "\n",
              "  .colab-df-quickchart-complete:disabled,\n",
              "  .colab-df-quickchart-complete:disabled:hover {\n",
              "    background-color: var(--disabled-bg-color);\n",
              "    fill: var(--disabled-fill-color);\n",
              "    box-shadow: none;\n",
              "  }\n",
              "\n",
              "  .colab-df-spinner {\n",
              "    border: 2px solid var(--fill-color);\n",
              "    border-color: transparent;\n",
              "    border-bottom-color: var(--fill-color);\n",
              "    animation:\n",
              "      spin 1s steps(1) infinite;\n",
              "  }\n",
              "\n",
              "  @keyframes spin {\n",
              "    0% {\n",
              "      border-color: transparent;\n",
              "      border-bottom-color: var(--fill-color);\n",
              "      border-left-color: var(--fill-color);\n",
              "    }\n",
              "    20% {\n",
              "      border-color: transparent;\n",
              "      border-left-color: var(--fill-color);\n",
              "      border-top-color: var(--fill-color);\n",
              "    }\n",
              "    30% {\n",
              "      border-color: transparent;\n",
              "      border-left-color: var(--fill-color);\n",
              "      border-top-color: var(--fill-color);\n",
              "      border-right-color: var(--fill-color);\n",
              "    }\n",
              "    40% {\n",
              "      border-color: transparent;\n",
              "      border-right-color: var(--fill-color);\n",
              "      border-top-color: var(--fill-color);\n",
              "    }\n",
              "    60% {\n",
              "      border-color: transparent;\n",
              "      border-right-color: var(--fill-color);\n",
              "    }\n",
              "    80% {\n",
              "      border-color: transparent;\n",
              "      border-right-color: var(--fill-color);\n",
              "      border-bottom-color: var(--fill-color);\n",
              "    }\n",
              "    90% {\n",
              "      border-color: transparent;\n",
              "      border-bottom-color: var(--fill-color);\n",
              "    }\n",
              "  }\n",
              "</style>\n",
              "\n",
              "      <script>\n",
              "        async function quickchart(key) {\n",
              "          const quickchartButtonEl =\n",
              "            document.querySelector('#' + key + ' button');\n",
              "          quickchartButtonEl.disabled = true;  // To prevent multiple clicks.\n",
              "          quickchartButtonEl.classList.add('colab-df-spinner');\n",
              "          try {\n",
              "            const charts = await google.colab.kernel.invokeFunction(\n",
              "                'suggestCharts', [key], {});\n",
              "          } catch (error) {\n",
              "            console.error('Error during call to suggestCharts:', error);\n",
              "          }\n",
              "          quickchartButtonEl.classList.remove('colab-df-spinner');\n",
              "          quickchartButtonEl.classList.add('colab-df-quickchart-complete');\n",
              "        }\n",
              "        (() => {\n",
              "          let quickchartButtonEl =\n",
              "            document.querySelector('#df-3c7135b7-44df-4ee7-9788-e5b26bb106ff button');\n",
              "          quickchartButtonEl.style.display =\n",
              "            google.colab.kernel.accessAllowed ? 'block' : 'none';\n",
              "        })();\n",
              "      </script>\n",
              "    </div>\n",
              "\n",
              "  <div id=\"id_9b7192e3-960b-4464-ba42-928d6031606c\">\n",
              "    <style>\n",
              "      .colab-df-generate {\n",
              "        background-color: #E8F0FE;\n",
              "        border: none;\n",
              "        border-radius: 50%;\n",
              "        cursor: pointer;\n",
              "        display: none;\n",
              "        fill: #1967D2;\n",
              "        height: 32px;\n",
              "        padding: 0 0 0 0;\n",
              "        width: 32px;\n",
              "      }\n",
              "\n",
              "      .colab-df-generate:hover {\n",
              "        background-color: #E2EBFA;\n",
              "        box-shadow: 0px 1px 2px rgba(60, 64, 67, 0.3), 0px 1px 3px 1px rgba(60, 64, 67, 0.15);\n",
              "        fill: #174EA6;\n",
              "      }\n",
              "\n",
              "      [theme=dark] .colab-df-generate {\n",
              "        background-color: #3B4455;\n",
              "        fill: #D2E3FC;\n",
              "      }\n",
              "\n",
              "      [theme=dark] .colab-df-generate:hover {\n",
              "        background-color: #434B5C;\n",
              "        box-shadow: 0px 1px 3px 1px rgba(0, 0, 0, 0.15);\n",
              "        filter: drop-shadow(0px 1px 2px rgba(0, 0, 0, 0.3));\n",
              "        fill: #FFFFFF;\n",
              "      }\n",
              "    </style>\n",
              "    <button class=\"colab-df-generate\" onclick=\"generateWithVariable('df')\"\n",
              "            title=\"Generate code using this dataframe.\"\n",
              "            style=\"display:none;\">\n",
              "\n",
              "  <svg xmlns=\"http://www.w3.org/2000/svg\" height=\"24px\"viewBox=\"0 0 24 24\"\n",
              "       width=\"24px\">\n",
              "    <path d=\"M7,19H8.4L18.45,9,17,7.55,7,17.6ZM5,21V16.75L18.45,3.32a2,2,0,0,1,2.83,0l1.4,1.43a1.91,1.91,0,0,1,.58,1.4,1.91,1.91,0,0,1-.58,1.4L9.25,21ZM18.45,9,17,7.55Zm-12,3A5.31,5.31,0,0,0,4.9,8.1,5.31,5.31,0,0,0,1,6.5,5.31,5.31,0,0,0,4.9,4.9,5.31,5.31,0,0,0,6.5,1,5.31,5.31,0,0,0,8.1,4.9,5.31,5.31,0,0,0,12,6.5,5.46,5.46,0,0,0,6.5,12Z\"/>\n",
              "  </svg>\n",
              "    </button>\n",
              "    <script>\n",
              "      (() => {\n",
              "      const buttonEl =\n",
              "        document.querySelector('#id_9b7192e3-960b-4464-ba42-928d6031606c button.colab-df-generate');\n",
              "      buttonEl.style.display =\n",
              "        google.colab.kernel.accessAllowed ? 'block' : 'none';\n",
              "\n",
              "      buttonEl.onclick = () => {\n",
              "        google.colab.notebook.generateWithVariable('df');\n",
              "      }\n",
              "      })();\n",
              "    </script>\n",
              "  </div>\n",
              "\n",
              "    </div>\n",
              "  </div>\n"
            ],
            "application/vnd.google.colaboratory.intrinsic+json": {
              "type": "dataframe",
              "variable_name": "df",
              "summary": "{\n  \"name\": \"df\",\n  \"rows\": 918,\n  \"fields\": [\n    {\n      \"column\": \"Age\",\n      \"properties\": {\n        \"dtype\": \"number\",\n        \"std\": 12.988393214049628,\n        \"min\": 0.0,\n        \"max\": 177.0,\n        \"num_unique_values\": 57,\n        \"samples\": [\n          49.0,\n          45.0,\n          63.0\n        ],\n        \"semantic_type\": \"\",\n        \"description\": \"\"\n      }\n    },\n    {\n      \"column\": \"Sex\",\n      \"properties\": {\n        \"dtype\": \"category\",\n        \"num_unique_values\": 2,\n        \"samples\": [\n          \"F\",\n          \"M\"\n        ],\n        \"semantic_type\": \"\",\n        \"description\": \"\"\n      }\n    },\n    {\n      \"column\": \"ChestPainType\",\n      \"properties\": {\n        \"dtype\": \"category\",\n        \"num_unique_values\": 4,\n        \"samples\": [\n          \"NAP\",\n          \"TA\"\n        ],\n        \"semantic_type\": \"\",\n        \"description\": \"\"\n      }\n    },\n    {\n      \"column\": \"RestingBP\",\n      \"properties\": {\n        \"dtype\": \"number\",\n        \"std\": 18,\n        \"min\": 0,\n        \"max\": 200,\n        \"num_unique_values\": 67,\n        \"samples\": [\n          165,\n          118\n        ],\n        \"semantic_type\": \"\",\n        \"description\": \"\"\n      }\n    },\n    {\n      \"column\": \"Cholesterol\",\n      \"properties\": {\n        \"dtype\": \"number\",\n        \"std\": 109,\n        \"min\": 0,\n        \"max\": 603,\n        \"num_unique_values\": 222,\n        \"samples\": [\n          305,\n          321\n        ],\n        \"semantic_type\": \"\",\n        \"description\": \"\"\n      }\n    },\n    {\n      \"column\": \"FastingBS\",\n      \"properties\": {\n        \"dtype\": \"number\",\n        \"std\": 0,\n        \"min\": 0,\n        \"max\": 1,\n        \"num_unique_values\": 2,\n        \"samples\": [\n          1,\n          0\n        ],\n        \"semantic_type\": \"\",\n        \"description\": \"\"\n      }\n    },\n    {\n      \"column\": \"RestingECG\",\n      \"properties\": {\n        \"dtype\": \"category\",\n        \"num_unique_values\": 3,\n        \"samples\": [\n          \"Normal\",\n          \"ST\"\n        ],\n        \"semantic_type\": \"\",\n        \"description\": \"\"\n      }\n    },\n    {\n      \"column\": \"MaxHR\",\n      \"properties\": {\n        \"dtype\": \"number\",\n        \"std\": 25,\n        \"min\": 60,\n        \"max\": 202,\n        \"num_unique_values\": 119,\n        \"samples\": [\n          132,\n          157\n        ],\n        \"semantic_type\": \"\",\n        \"description\": \"\"\n      }\n    },\n    {\n      \"column\": \"ExerciseAngina\",\n      \"properties\": {\n        \"dtype\": \"category\",\n        \"num_unique_values\": 2,\n        \"samples\": [\n          \"Y\",\n          \"N\"\n        ],\n        \"semantic_type\": \"\",\n        \"description\": \"\"\n      }\n    },\n    {\n      \"column\": \"Oldpeak\",\n      \"properties\": {\n        \"dtype\": \"number\",\n        \"std\": 1.0665701510493233,\n        \"min\": -2.6,\n        \"max\": 6.2,\n        \"num_unique_values\": 53,\n        \"samples\": [\n          1.3,\n          0.6\n        ],\n        \"semantic_type\": \"\",\n        \"description\": \"\"\n      }\n    },\n    {\n      \"column\": \"ST_Slope\",\n      \"properties\": {\n        \"dtype\": \"category\",\n        \"num_unique_values\": 3,\n        \"samples\": [\n          \"Up\",\n          \"Flat\"\n        ],\n        \"semantic_type\": \"\",\n        \"description\": \"\"\n      }\n    },\n    {\n      \"column\": \"HeartDisease\",\n      \"properties\": {\n        \"dtype\": \"number\",\n        \"std\": 0,\n        \"min\": 0,\n        \"max\": 1,\n        \"num_unique_values\": 2,\n        \"samples\": [\n          1,\n          0\n        ],\n        \"semantic_type\": \"\",\n        \"description\": \"\"\n      }\n    }\n  ]\n}"
            }
          },
          "metadata": {},
          "execution_count": 4
        }
      ],
      "source": [
        "df = pd.read_csv(\"heart.csv\")\n",
        "df # memanggil data heart.csv\n",
        "# sebuah dataset untuk memprediksi heart disease, variabel target : heart disease, dan prediksi menggunakan klasifikasi."
      ]
    },
    {
      "cell_type": "markdown",
      "id": "tHq4Tzak3GuF",
      "metadata": {
        "id": "tHq4Tzak3GuF"
      },
      "source": [
        "Pada data heart, terdapat 918 baris dan 12 kolom. Maka terdapat 918 sample dan 12 variabel.\n",
        "\n",
        "\n",
        "Pada data heart.csv, dalam klasifikasi, variabel independen dapat berupa kategorik maupun numerik. Tipe data variabel target atau label target pada klasifikasi berupa kategorik. Secara keseluruhan, tipe data dapat dimunculkan dengan `df.info()` dan statistik deskriptif variabel numerik dapat dimunculkan dengan `df.describe()`."
      ]
    },
    {
      "cell_type": "code",
      "execution_count": 5,
      "id": "8aebf7e6-f960-4ef1-94ac-278d9407cf60",
      "metadata": {
        "colab": {
          "base_uri": "https://localhost:8080/",
          "height": 0
        },
        "id": "8aebf7e6-f960-4ef1-94ac-278d9407cf60",
        "outputId": "fce6754f-b49e-40af-e120-7067ff3e00ef"
      },
      "outputs": [
        {
          "output_type": "stream",
          "name": "stdout",
          "text": [
            "<class 'pandas.core.frame.DataFrame'>\n",
            "RangeIndex: 918 entries, 0 to 917\n",
            "Data columns (total 12 columns):\n",
            " #   Column          Non-Null Count  Dtype  \n",
            "---  ------          --------------  -----  \n",
            " 0   Age             911 non-null    float64\n",
            " 1   Sex             908 non-null    object \n",
            " 2   ChestPainType   918 non-null    object \n",
            " 3   RestingBP       918 non-null    int64  \n",
            " 4   Cholesterol     918 non-null    int64  \n",
            " 5   FastingBS       918 non-null    int64  \n",
            " 6   RestingECG      918 non-null    object \n",
            " 7   MaxHR           918 non-null    int64  \n",
            " 8   ExerciseAngina  918 non-null    object \n",
            " 9   Oldpeak         918 non-null    float64\n",
            " 10  ST_Slope        918 non-null    object \n",
            " 11  HeartDisease    918 non-null    int64  \n",
            "dtypes: float64(2), int64(5), object(5)\n",
            "memory usage: 86.2+ KB\n"
          ]
        }
      ],
      "source": [
        "# Penelaahan Data\n",
        "df.info() # mengidentifikasi setiap tipe data"
      ]
    },
    {
      "cell_type": "markdown",
      "id": "sS7ltH6B3dWS",
      "metadata": {
        "id": "sS7ltH6B3dWS"
      },
      "source": [
        "Variabel numerik akan muncul sebagai float dan integer. Variabel kategorik akan muncul dengan type object.\n",
        "\n",
        "Variabel yang terbaca variabel numerik adalah RestingBP, Cholesterol, MaxHR, fasting BS, oldpeak, dan age. Variabel yang terbaca variabel kategorik adalah sex, RestingECG, ChestPainType, Exercise Angina, HeartDisease dan ST Slope. Pada kolom Non-Null Count, didapatkan bahwa variabel age dan sex memiliki nilai NA, karena variabel Age memiliki nilai yang bukan NA (non-null) sebanyak 911 dan Sex memiliki nilai yang bukan NA (non-null) sebanyak 908.\n",
        "<br>\n",
        "<br>\n",
        "Berikut untuk statistik deskriptif dari variabel numerik"
      ]
    },
    {
      "cell_type": "code",
      "execution_count": 6,
      "id": "UxraBbC24PmD",
      "metadata": {
        "id": "UxraBbC24PmD",
        "colab": {
          "base_uri": "https://localhost:8080/",
          "height": 300
        },
        "outputId": "92fcabca-3bce-4093-d2cd-2856a76e1f47"
      },
      "outputs": [
        {
          "output_type": "execute_result",
          "data": {
            "text/plain": [
              "              Age   RestingBP  Cholesterol   FastingBS       MaxHR  \\\n",
              "count  911.000000  918.000000   918.000000  918.000000  918.000000   \n",
              "mean    54.102086  132.396514   198.799564    0.233115  136.809368   \n",
              "std     12.988393   18.514154   109.384145    0.423046   25.460334   \n",
              "min      0.000000    0.000000     0.000000    0.000000   60.000000   \n",
              "25%     47.000000  120.000000   173.250000    0.000000  120.000000   \n",
              "50%     54.000000  130.000000   223.000000    0.000000  138.000000   \n",
              "75%     60.000000  140.000000   267.000000    0.000000  156.000000   \n",
              "max    177.000000  200.000000   603.000000    1.000000  202.000000   \n",
              "\n",
              "          Oldpeak  HeartDisease  \n",
              "count  918.000000    918.000000  \n",
              "mean     0.887364      0.553377  \n",
              "std      1.066570      0.497414  \n",
              "min     -2.600000      0.000000  \n",
              "25%      0.000000      0.000000  \n",
              "50%      0.600000      1.000000  \n",
              "75%      1.500000      1.000000  \n",
              "max      6.200000      1.000000  "
            ],
            "text/html": [
              "\n",
              "  <div id=\"df-b7673789-fef2-4cb9-b494-4a84cc551f25\" class=\"colab-df-container\">\n",
              "    <div>\n",
              "<style scoped>\n",
              "    .dataframe tbody tr th:only-of-type {\n",
              "        vertical-align: middle;\n",
              "    }\n",
              "\n",
              "    .dataframe tbody tr th {\n",
              "        vertical-align: top;\n",
              "    }\n",
              "\n",
              "    .dataframe thead th {\n",
              "        text-align: right;\n",
              "    }\n",
              "</style>\n",
              "<table border=\"1\" class=\"dataframe\">\n",
              "  <thead>\n",
              "    <tr style=\"text-align: right;\">\n",
              "      <th></th>\n",
              "      <th>Age</th>\n",
              "      <th>RestingBP</th>\n",
              "      <th>Cholesterol</th>\n",
              "      <th>FastingBS</th>\n",
              "      <th>MaxHR</th>\n",
              "      <th>Oldpeak</th>\n",
              "      <th>HeartDisease</th>\n",
              "    </tr>\n",
              "  </thead>\n",
              "  <tbody>\n",
              "    <tr>\n",
              "      <th>count</th>\n",
              "      <td>911.000000</td>\n",
              "      <td>918.000000</td>\n",
              "      <td>918.000000</td>\n",
              "      <td>918.000000</td>\n",
              "      <td>918.000000</td>\n",
              "      <td>918.000000</td>\n",
              "      <td>918.000000</td>\n",
              "    </tr>\n",
              "    <tr>\n",
              "      <th>mean</th>\n",
              "      <td>54.102086</td>\n",
              "      <td>132.396514</td>\n",
              "      <td>198.799564</td>\n",
              "      <td>0.233115</td>\n",
              "      <td>136.809368</td>\n",
              "      <td>0.887364</td>\n",
              "      <td>0.553377</td>\n",
              "    </tr>\n",
              "    <tr>\n",
              "      <th>std</th>\n",
              "      <td>12.988393</td>\n",
              "      <td>18.514154</td>\n",
              "      <td>109.384145</td>\n",
              "      <td>0.423046</td>\n",
              "      <td>25.460334</td>\n",
              "      <td>1.066570</td>\n",
              "      <td>0.497414</td>\n",
              "    </tr>\n",
              "    <tr>\n",
              "      <th>min</th>\n",
              "      <td>0.000000</td>\n",
              "      <td>0.000000</td>\n",
              "      <td>0.000000</td>\n",
              "      <td>0.000000</td>\n",
              "      <td>60.000000</td>\n",
              "      <td>-2.600000</td>\n",
              "      <td>0.000000</td>\n",
              "    </tr>\n",
              "    <tr>\n",
              "      <th>25%</th>\n",
              "      <td>47.000000</td>\n",
              "      <td>120.000000</td>\n",
              "      <td>173.250000</td>\n",
              "      <td>0.000000</td>\n",
              "      <td>120.000000</td>\n",
              "      <td>0.000000</td>\n",
              "      <td>0.000000</td>\n",
              "    </tr>\n",
              "    <tr>\n",
              "      <th>50%</th>\n",
              "      <td>54.000000</td>\n",
              "      <td>130.000000</td>\n",
              "      <td>223.000000</td>\n",
              "      <td>0.000000</td>\n",
              "      <td>138.000000</td>\n",
              "      <td>0.600000</td>\n",
              "      <td>1.000000</td>\n",
              "    </tr>\n",
              "    <tr>\n",
              "      <th>75%</th>\n",
              "      <td>60.000000</td>\n",
              "      <td>140.000000</td>\n",
              "      <td>267.000000</td>\n",
              "      <td>0.000000</td>\n",
              "      <td>156.000000</td>\n",
              "      <td>1.500000</td>\n",
              "      <td>1.000000</td>\n",
              "    </tr>\n",
              "    <tr>\n",
              "      <th>max</th>\n",
              "      <td>177.000000</td>\n",
              "      <td>200.000000</td>\n",
              "      <td>603.000000</td>\n",
              "      <td>1.000000</td>\n",
              "      <td>202.000000</td>\n",
              "      <td>6.200000</td>\n",
              "      <td>1.000000</td>\n",
              "    </tr>\n",
              "  </tbody>\n",
              "</table>\n",
              "</div>\n",
              "    <div class=\"colab-df-buttons\">\n",
              "\n",
              "  <div class=\"colab-df-container\">\n",
              "    <button class=\"colab-df-convert\" onclick=\"convertToInteractive('df-b7673789-fef2-4cb9-b494-4a84cc551f25')\"\n",
              "            title=\"Convert this dataframe to an interactive table.\"\n",
              "            style=\"display:none;\">\n",
              "\n",
              "  <svg xmlns=\"http://www.w3.org/2000/svg\" height=\"24px\" viewBox=\"0 -960 960 960\">\n",
              "    <path d=\"M120-120v-720h720v720H120Zm60-500h600v-160H180v160Zm220 220h160v-160H400v160Zm0 220h160v-160H400v160ZM180-400h160v-160H180v160Zm440 0h160v-160H620v160ZM180-180h160v-160H180v160Zm440 0h160v-160H620v160Z\"/>\n",
              "  </svg>\n",
              "    </button>\n",
              "\n",
              "  <style>\n",
              "    .colab-df-container {\n",
              "      display:flex;\n",
              "      gap: 12px;\n",
              "    }\n",
              "\n",
              "    .colab-df-convert {\n",
              "      background-color: #E8F0FE;\n",
              "      border: none;\n",
              "      border-radius: 50%;\n",
              "      cursor: pointer;\n",
              "      display: none;\n",
              "      fill: #1967D2;\n",
              "      height: 32px;\n",
              "      padding: 0 0 0 0;\n",
              "      width: 32px;\n",
              "    }\n",
              "\n",
              "    .colab-df-convert:hover {\n",
              "      background-color: #E2EBFA;\n",
              "      box-shadow: 0px 1px 2px rgba(60, 64, 67, 0.3), 0px 1px 3px 1px rgba(60, 64, 67, 0.15);\n",
              "      fill: #174EA6;\n",
              "    }\n",
              "\n",
              "    .colab-df-buttons div {\n",
              "      margin-bottom: 4px;\n",
              "    }\n",
              "\n",
              "    [theme=dark] .colab-df-convert {\n",
              "      background-color: #3B4455;\n",
              "      fill: #D2E3FC;\n",
              "    }\n",
              "\n",
              "    [theme=dark] .colab-df-convert:hover {\n",
              "      background-color: #434B5C;\n",
              "      box-shadow: 0px 1px 3px 1px rgba(0, 0, 0, 0.15);\n",
              "      filter: drop-shadow(0px 1px 2px rgba(0, 0, 0, 0.3));\n",
              "      fill: #FFFFFF;\n",
              "    }\n",
              "  </style>\n",
              "\n",
              "    <script>\n",
              "      const buttonEl =\n",
              "        document.querySelector('#df-b7673789-fef2-4cb9-b494-4a84cc551f25 button.colab-df-convert');\n",
              "      buttonEl.style.display =\n",
              "        google.colab.kernel.accessAllowed ? 'block' : 'none';\n",
              "\n",
              "      async function convertToInteractive(key) {\n",
              "        const element = document.querySelector('#df-b7673789-fef2-4cb9-b494-4a84cc551f25');\n",
              "        const dataTable =\n",
              "          await google.colab.kernel.invokeFunction('convertToInteractive',\n",
              "                                                    [key], {});\n",
              "        if (!dataTable) return;\n",
              "\n",
              "        const docLinkHtml = 'Like what you see? Visit the ' +\n",
              "          '<a target=\"_blank\" href=https://colab.research.google.com/notebooks/data_table.ipynb>data table notebook</a>'\n",
              "          + ' to learn more about interactive tables.';\n",
              "        element.innerHTML = '';\n",
              "        dataTable['output_type'] = 'display_data';\n",
              "        await google.colab.output.renderOutput(dataTable, element);\n",
              "        const docLink = document.createElement('div');\n",
              "        docLink.innerHTML = docLinkHtml;\n",
              "        element.appendChild(docLink);\n",
              "      }\n",
              "    </script>\n",
              "  </div>\n",
              "\n",
              "\n",
              "    <div id=\"df-70e55328-42dc-4263-9012-c4462c08b414\">\n",
              "      <button class=\"colab-df-quickchart\" onclick=\"quickchart('df-70e55328-42dc-4263-9012-c4462c08b414')\"\n",
              "                title=\"Suggest charts\"\n",
              "                style=\"display:none;\">\n",
              "\n",
              "<svg xmlns=\"http://www.w3.org/2000/svg\" height=\"24px\"viewBox=\"0 0 24 24\"\n",
              "     width=\"24px\">\n",
              "    <g>\n",
              "        <path d=\"M19 3H5c-1.1 0-2 .9-2 2v14c0 1.1.9 2 2 2h14c1.1 0 2-.9 2-2V5c0-1.1-.9-2-2-2zM9 17H7v-7h2v7zm4 0h-2V7h2v10zm4 0h-2v-4h2v4z\"/>\n",
              "    </g>\n",
              "</svg>\n",
              "      </button>\n",
              "\n",
              "<style>\n",
              "  .colab-df-quickchart {\n",
              "      --bg-color: #E8F0FE;\n",
              "      --fill-color: #1967D2;\n",
              "      --hover-bg-color: #E2EBFA;\n",
              "      --hover-fill-color: #174EA6;\n",
              "      --disabled-fill-color: #AAA;\n",
              "      --disabled-bg-color: #DDD;\n",
              "  }\n",
              "\n",
              "  [theme=dark] .colab-df-quickchart {\n",
              "      --bg-color: #3B4455;\n",
              "      --fill-color: #D2E3FC;\n",
              "      --hover-bg-color: #434B5C;\n",
              "      --hover-fill-color: #FFFFFF;\n",
              "      --disabled-bg-color: #3B4455;\n",
              "      --disabled-fill-color: #666;\n",
              "  }\n",
              "\n",
              "  .colab-df-quickchart {\n",
              "    background-color: var(--bg-color);\n",
              "    border: none;\n",
              "    border-radius: 50%;\n",
              "    cursor: pointer;\n",
              "    display: none;\n",
              "    fill: var(--fill-color);\n",
              "    height: 32px;\n",
              "    padding: 0;\n",
              "    width: 32px;\n",
              "  }\n",
              "\n",
              "  .colab-df-quickchart:hover {\n",
              "    background-color: var(--hover-bg-color);\n",
              "    box-shadow: 0 1px 2px rgba(60, 64, 67, 0.3), 0 1px 3px 1px rgba(60, 64, 67, 0.15);\n",
              "    fill: var(--button-hover-fill-color);\n",
              "  }\n",
              "\n",
              "  .colab-df-quickchart-complete:disabled,\n",
              "  .colab-df-quickchart-complete:disabled:hover {\n",
              "    background-color: var(--disabled-bg-color);\n",
              "    fill: var(--disabled-fill-color);\n",
              "    box-shadow: none;\n",
              "  }\n",
              "\n",
              "  .colab-df-spinner {\n",
              "    border: 2px solid var(--fill-color);\n",
              "    border-color: transparent;\n",
              "    border-bottom-color: var(--fill-color);\n",
              "    animation:\n",
              "      spin 1s steps(1) infinite;\n",
              "  }\n",
              "\n",
              "  @keyframes spin {\n",
              "    0% {\n",
              "      border-color: transparent;\n",
              "      border-bottom-color: var(--fill-color);\n",
              "      border-left-color: var(--fill-color);\n",
              "    }\n",
              "    20% {\n",
              "      border-color: transparent;\n",
              "      border-left-color: var(--fill-color);\n",
              "      border-top-color: var(--fill-color);\n",
              "    }\n",
              "    30% {\n",
              "      border-color: transparent;\n",
              "      border-left-color: var(--fill-color);\n",
              "      border-top-color: var(--fill-color);\n",
              "      border-right-color: var(--fill-color);\n",
              "    }\n",
              "    40% {\n",
              "      border-color: transparent;\n",
              "      border-right-color: var(--fill-color);\n",
              "      border-top-color: var(--fill-color);\n",
              "    }\n",
              "    60% {\n",
              "      border-color: transparent;\n",
              "      border-right-color: var(--fill-color);\n",
              "    }\n",
              "    80% {\n",
              "      border-color: transparent;\n",
              "      border-right-color: var(--fill-color);\n",
              "      border-bottom-color: var(--fill-color);\n",
              "    }\n",
              "    90% {\n",
              "      border-color: transparent;\n",
              "      border-bottom-color: var(--fill-color);\n",
              "    }\n",
              "  }\n",
              "</style>\n",
              "\n",
              "      <script>\n",
              "        async function quickchart(key) {\n",
              "          const quickchartButtonEl =\n",
              "            document.querySelector('#' + key + ' button');\n",
              "          quickchartButtonEl.disabled = true;  // To prevent multiple clicks.\n",
              "          quickchartButtonEl.classList.add('colab-df-spinner');\n",
              "          try {\n",
              "            const charts = await google.colab.kernel.invokeFunction(\n",
              "                'suggestCharts', [key], {});\n",
              "          } catch (error) {\n",
              "            console.error('Error during call to suggestCharts:', error);\n",
              "          }\n",
              "          quickchartButtonEl.classList.remove('colab-df-spinner');\n",
              "          quickchartButtonEl.classList.add('colab-df-quickchart-complete');\n",
              "        }\n",
              "        (() => {\n",
              "          let quickchartButtonEl =\n",
              "            document.querySelector('#df-70e55328-42dc-4263-9012-c4462c08b414 button');\n",
              "          quickchartButtonEl.style.display =\n",
              "            google.colab.kernel.accessAllowed ? 'block' : 'none';\n",
              "        })();\n",
              "      </script>\n",
              "    </div>\n",
              "\n",
              "    </div>\n",
              "  </div>\n"
            ],
            "application/vnd.google.colaboratory.intrinsic+json": {
              "type": "dataframe",
              "summary": "{\n  \"name\": \"df\",\n  \"rows\": 8,\n  \"fields\": [\n    {\n      \"column\": \"Age\",\n      \"properties\": {\n        \"dtype\": \"number\",\n        \"std\": 306.25828629418766,\n        \"min\": 0.0,\n        \"max\": 911.0,\n        \"num_unique_values\": 8,\n        \"samples\": [\n          54.102085620197585,\n          54.0,\n          911.0\n        ],\n        \"semantic_type\": \"\",\n        \"description\": \"\"\n      }\n    },\n    {\n      \"column\": \"RestingBP\",\n      \"properties\": {\n        \"dtype\": \"number\",\n        \"std\": 294.5935541913639,\n        \"min\": 0.0,\n        \"max\": 918.0,\n        \"num_unique_values\": 8,\n        \"samples\": [\n          132.39651416122004,\n          130.0,\n          918.0\n        ],\n        \"semantic_type\": \"\",\n        \"description\": \"\"\n      }\n    },\n    {\n      \"column\": \"Cholesterol\",\n      \"properties\": {\n        \"dtype\": \"number\",\n        \"std\": 300.55294190735805,\n        \"min\": 0.0,\n        \"max\": 918.0,\n        \"num_unique_values\": 8,\n        \"samples\": [\n          198.7995642701525,\n          223.0,\n          918.0\n        ],\n        \"semantic_type\": \"\",\n        \"description\": \"\"\n      }\n    },\n    {\n      \"column\": \"FastingBS\",\n      \"properties\": {\n        \"dtype\": \"number\",\n        \"std\": 324.4785490336432,\n        \"min\": 0.0,\n        \"max\": 918.0,\n        \"num_unique_values\": 5,\n        \"samples\": [\n          0.23311546840958605,\n          1.0,\n          0.423045624739302\n        ],\n        \"semantic_type\": \"\",\n        \"description\": \"\"\n      }\n    },\n    {\n      \"column\": \"MaxHR\",\n      \"properties\": {\n        \"dtype\": \"number\",\n        \"std\": 287.52953225319146,\n        \"min\": 25.460334138250293,\n        \"max\": 918.0,\n        \"num_unique_values\": 8,\n        \"samples\": [\n          136.80936819172112,\n          138.0,\n          918.0\n        ],\n        \"semantic_type\": \"\",\n        \"description\": \"\"\n      }\n    },\n    {\n      \"column\": \"Oldpeak\",\n      \"properties\": {\n        \"dtype\": \"number\",\n        \"std\": 324.18454495166225,\n        \"min\": -2.6,\n        \"max\": 918.0,\n        \"num_unique_values\": 8,\n        \"samples\": [\n          0.8873638344226579,\n          0.6,\n          918.0\n        ],\n        \"semantic_type\": \"\",\n        \"description\": \"\"\n      }\n    },\n    {\n      \"column\": \"HeartDisease\",\n      \"properties\": {\n        \"dtype\": \"number\",\n        \"std\": 324.35768309524013,\n        \"min\": 0.0,\n        \"max\": 918.0,\n        \"num_unique_values\": 5,\n        \"samples\": [\n          0.5533769063180828,\n          1.0,\n          0.4974137382845986\n        ],\n        \"semantic_type\": \"\",\n        \"description\": \"\"\n      }\n    }\n  ]\n}"
            }
          },
          "metadata": {},
          "execution_count": 6
        }
      ],
      "source": [
        "df.describe() # statistik deskriptif"
      ]
    },
    {
      "cell_type": "markdown",
      "id": "a3d193d6-a387-4839-b046-e8df02b9c7ec",
      "metadata": {
        "id": "a3d193d6-a387-4839-b046-e8df02b9c7ec"
      },
      "source": [
        "Pada variabel yang dibaca numerik, variabel age memiliki nilai pencilan atau outlier karena ada pasien yang umurnya 0 tahun (min age) dan 177 tahun (max age), yang mana hal tersebut tidak mungkin. Variabel restingBP, Cholesterol memiliki nilai 0 pada nilai minimum. Kedua variabel tersebut tidak mungkin memiliki nilai 0. Ketika resting blood preasure (tensi) bernilai 0, maka orang tersebut jantungnya tidak berdetak (meninggal). Seorang pasien tidak akan memiliki nilai kadar kolesterol bernilai 0. Variabel FastingBS sepertinya variabel kategorik karena nilai minimum dan maksimumnya adalah 0 dan 1. Sementara, variabel MaxHR dan Oldpeak belum ada masalah. Variabel HeartDisease merupakan variabel kategorik yang terbaca numerik karena variabel heart disease merupakan variabel target atau label target. Variabel target yang akan diprediksi pada metode klasifikasi adalah variabel kategorik.\n",
        "<br><br>\n",
        "Setelah melihat type data dan statistik deskriptif untuk variabel numerik, berikut akan mengeksplorasi variabel kategorik dan eksplorasi data secara keseluruhan. Langkah selanjutnya adalah melihat keunikan indikator pada variabel kategorik. Dengan melihat keunikan indikator, kita dapat melihat apakah ada nan atau Null pada variabel tersebut. Melihat keunikan indikator dapat dilakukan dengan code `df['variable'].unique()`, seperti pada coding di bawah ini."
      ]
    },
    {
      "cell_type": "code",
      "execution_count": 7,
      "id": "89aa6819-b2be-4107-832a-4600b7c4c3f8",
      "metadata": {
        "colab": {
          "base_uri": "https://localhost:8080/",
          "height": 0
        },
        "id": "89aa6819-b2be-4107-832a-4600b7c4c3f8",
        "outputId": "c397ca11-b4ce-4cc8-c44e-d0b15572cbff"
      },
      "outputs": [
        {
          "output_type": "stream",
          "name": "stdout",
          "text": [
            "['M' 'F' nan]\n",
            "['Normal' 'ST' 'LVH']\n",
            "['ATA' 'NAP' 'ASY' 'TA']\n",
            "['N' 'Y']\n",
            "['Up' 'Flat' 'Down']\n"
          ]
        }
      ],
      "source": [
        "#bar plot untuk variabel kategorik\n",
        "# variabel kategorik pada data  : RestingECG Sex\tChestPainType  ExerciseAngina ST_Slope\n",
        "print(df['Sex'].unique())\n",
        "print(df['RestingECG'].unique())\n",
        "print(df['ChestPainType'].unique())\n",
        "print(df['ExerciseAngina'].unique())\n",
        "print(df['ST_Slope'].unique())"
      ]
    },
    {
      "cell_type": "markdown",
      "id": "263405fb-e622-48a3-aa4e-46f980f8ef01",
      "metadata": {
        "id": "263405fb-e622-48a3-aa4e-46f980f8ef01"
      },
      "source": [
        "Pada hasil output, dapat dilihat bahwa Sex tidak memiliki nilai Nan, maka nanti akan perlu mengatasi nilai NaN. Unutk mengetahui berapa banyaknya null pada setiap variabel data, dapat melakukan code `df.isnull().sum()`, seperti di bawah ini."
      ]
    },
    {
      "cell_type": "code",
      "execution_count": 8,
      "id": "71f4f3e6-40bc-4771-90e8-e4fdb744b90d",
      "metadata": {
        "colab": {
          "base_uri": "https://localhost:8080/",
          "height": 460
        },
        "id": "71f4f3e6-40bc-4771-90e8-e4fdb744b90d",
        "outputId": "290c6d96-9905-4b8e-fe47-2144dce38264"
      },
      "outputs": [
        {
          "output_type": "execute_result",
          "data": {
            "text/plain": [
              "Age                7\n",
              "Sex               10\n",
              "ChestPainType      0\n",
              "RestingBP          0\n",
              "Cholesterol        0\n",
              "FastingBS          0\n",
              "RestingECG         0\n",
              "MaxHR              0\n",
              "ExerciseAngina     0\n",
              "Oldpeak            0\n",
              "ST_Slope           0\n",
              "HeartDisease       0\n",
              "dtype: int64"
            ],
            "text/html": [
              "<div>\n",
              "<style scoped>\n",
              "    .dataframe tbody tr th:only-of-type {\n",
              "        vertical-align: middle;\n",
              "    }\n",
              "\n",
              "    .dataframe tbody tr th {\n",
              "        vertical-align: top;\n",
              "    }\n",
              "\n",
              "    .dataframe thead th {\n",
              "        text-align: right;\n",
              "    }\n",
              "</style>\n",
              "<table border=\"1\" class=\"dataframe\">\n",
              "  <thead>\n",
              "    <tr style=\"text-align: right;\">\n",
              "      <th></th>\n",
              "      <th>0</th>\n",
              "    </tr>\n",
              "  </thead>\n",
              "  <tbody>\n",
              "    <tr>\n",
              "      <th>Age</th>\n",
              "      <td>7</td>\n",
              "    </tr>\n",
              "    <tr>\n",
              "      <th>Sex</th>\n",
              "      <td>10</td>\n",
              "    </tr>\n",
              "    <tr>\n",
              "      <th>ChestPainType</th>\n",
              "      <td>0</td>\n",
              "    </tr>\n",
              "    <tr>\n",
              "      <th>RestingBP</th>\n",
              "      <td>0</td>\n",
              "    </tr>\n",
              "    <tr>\n",
              "      <th>Cholesterol</th>\n",
              "      <td>0</td>\n",
              "    </tr>\n",
              "    <tr>\n",
              "      <th>FastingBS</th>\n",
              "      <td>0</td>\n",
              "    </tr>\n",
              "    <tr>\n",
              "      <th>RestingECG</th>\n",
              "      <td>0</td>\n",
              "    </tr>\n",
              "    <tr>\n",
              "      <th>MaxHR</th>\n",
              "      <td>0</td>\n",
              "    </tr>\n",
              "    <tr>\n",
              "      <th>ExerciseAngina</th>\n",
              "      <td>0</td>\n",
              "    </tr>\n",
              "    <tr>\n",
              "      <th>Oldpeak</th>\n",
              "      <td>0</td>\n",
              "    </tr>\n",
              "    <tr>\n",
              "      <th>ST_Slope</th>\n",
              "      <td>0</td>\n",
              "    </tr>\n",
              "    <tr>\n",
              "      <th>HeartDisease</th>\n",
              "      <td>0</td>\n",
              "    </tr>\n",
              "  </tbody>\n",
              "</table>\n",
              "</div><br><label><b>dtype:</b> int64</label>"
            ]
          },
          "metadata": {},
          "execution_count": 8
        }
      ],
      "source": [
        "df.isnull().sum()"
      ]
    },
    {
      "cell_type": "markdown",
      "id": "e3aa2970-0d33-4fef-bdad-5e9410442ebe",
      "metadata": {
        "id": "e3aa2970-0d33-4fef-bdad-5e9410442ebe"
      },
      "source": [
        "Pada hasil jumlah banyaknya null, didapatkan bahwa variabel age memiliki nilai null sebanyak 7 dan sex memiliki null sebanyak 10. Karena adanya Null pada data masih dikatakan sedikit, untuk mengatasi nilai Null pada data akan melakukan penghapusan baris yang memiliki nilai Null. Unutk menghapus nilai Null, diperlukan code `df.dropna()`. Setelah dikeluarkan baris yang memiliki Null, akan dilakukan crosscheck lagi apakah masih terdapat nilai Null atau tidak pada data."
      ]
    },
    {
      "cell_type": "code",
      "execution_count": 9,
      "id": "d048c686-3b0f-4e45-8cad-65bb5cc191c8",
      "metadata": {
        "colab": {
          "base_uri": "https://localhost:8080/",
          "height": 460
        },
        "id": "d048c686-3b0f-4e45-8cad-65bb5cc191c8",
        "outputId": "29f69e75-4277-4673-d411-edb7fcb41f4c"
      },
      "outputs": [
        {
          "output_type": "execute_result",
          "data": {
            "text/plain": [
              "Age               0\n",
              "Sex               0\n",
              "ChestPainType     0\n",
              "RestingBP         0\n",
              "Cholesterol       0\n",
              "FastingBS         0\n",
              "RestingECG        0\n",
              "MaxHR             0\n",
              "ExerciseAngina    0\n",
              "Oldpeak           0\n",
              "ST_Slope          0\n",
              "HeartDisease      0\n",
              "dtype: int64"
            ],
            "text/html": [
              "<div>\n",
              "<style scoped>\n",
              "    .dataframe tbody tr th:only-of-type {\n",
              "        vertical-align: middle;\n",
              "    }\n",
              "\n",
              "    .dataframe tbody tr th {\n",
              "        vertical-align: top;\n",
              "    }\n",
              "\n",
              "    .dataframe thead th {\n",
              "        text-align: right;\n",
              "    }\n",
              "</style>\n",
              "<table border=\"1\" class=\"dataframe\">\n",
              "  <thead>\n",
              "    <tr style=\"text-align: right;\">\n",
              "      <th></th>\n",
              "      <th>0</th>\n",
              "    </tr>\n",
              "  </thead>\n",
              "  <tbody>\n",
              "    <tr>\n",
              "      <th>Age</th>\n",
              "      <td>0</td>\n",
              "    </tr>\n",
              "    <tr>\n",
              "      <th>Sex</th>\n",
              "      <td>0</td>\n",
              "    </tr>\n",
              "    <tr>\n",
              "      <th>ChestPainType</th>\n",
              "      <td>0</td>\n",
              "    </tr>\n",
              "    <tr>\n",
              "      <th>RestingBP</th>\n",
              "      <td>0</td>\n",
              "    </tr>\n",
              "    <tr>\n",
              "      <th>Cholesterol</th>\n",
              "      <td>0</td>\n",
              "    </tr>\n",
              "    <tr>\n",
              "      <th>FastingBS</th>\n",
              "      <td>0</td>\n",
              "    </tr>\n",
              "    <tr>\n",
              "      <th>RestingECG</th>\n",
              "      <td>0</td>\n",
              "    </tr>\n",
              "    <tr>\n",
              "      <th>MaxHR</th>\n",
              "      <td>0</td>\n",
              "    </tr>\n",
              "    <tr>\n",
              "      <th>ExerciseAngina</th>\n",
              "      <td>0</td>\n",
              "    </tr>\n",
              "    <tr>\n",
              "      <th>Oldpeak</th>\n",
              "      <td>0</td>\n",
              "    </tr>\n",
              "    <tr>\n",
              "      <th>ST_Slope</th>\n",
              "      <td>0</td>\n",
              "    </tr>\n",
              "    <tr>\n",
              "      <th>HeartDisease</th>\n",
              "      <td>0</td>\n",
              "    </tr>\n",
              "  </tbody>\n",
              "</table>\n",
              "</div><br><label><b>dtype:</b> int64</label>"
            ]
          },
          "metadata": {},
          "execution_count": 9
        }
      ],
      "source": [
        "df = df.dropna()\n",
        "df.isnull().sum()"
      ]
    },
    {
      "cell_type": "markdown",
      "id": "0feb07b7-96b9-4cb5-aa0f-65ddeb59da04",
      "metadata": {
        "id": "0feb07b7-96b9-4cb5-aa0f-65ddeb59da04"
      },
      "source": [
        "Data heart sudah tidak memiliki nilai Null. Kita bisa lanjutkan untuk melihat visualisasi untuk menyiapkan data untuk diklasifikasikan. Selanjutnya untuk mempersiapkan variabel, akan melakukan visualisasi. Bar plot untuk variabel kategorik dan histogram untuk variabel numerik, serta boxplot untuk mendeteksi outlier (variabel numerik) pada data.\n",
        "\n",
        "Visualisasi variabel kategorik menggunakan barplot untuk variabel sex, restingecg, chest pain type dan st slope dijabarkan pada coding di bawah ini menggunakan library `seaborn` dan `matplotlib`."
      ]
    },
    {
      "cell_type": "code",
      "execution_count": 10,
      "id": "ec7cc26d-0b94-4a75-aad1-0d8a50e2e47d",
      "metadata": {
        "colab": {
          "base_uri": "https://localhost:8080/",
          "height": 492
        },
        "id": "ec7cc26d-0b94-4a75-aad1-0d8a50e2e47d",
        "outputId": "0564002a-6232-442c-d37d-38d0eeb2a29e"
      },
      "outputs": [
        {
          "output_type": "display_data",
          "data": {
            "text/plain": [
              "<Figure size 640x480 with 6 Axes>"
            ],
            "image/png": "[encoded data removed]"
          },
          "metadata": {}
        }
      ],
      "source": [
        "import seaborn as sns\n",
        "\n",
        "plt.subplot(2,3, 1)\n",
        "sns.countplot(x='Sex',data=df)\n",
        "plt.title('Jenis Kelamin')\n",
        "\n",
        "plt.subplot(2,3, 2)\n",
        "sns.countplot(x='RestingECG',data=df)\n",
        "plt.title('RestingECG')\n",
        "\n",
        "plt.subplot(2,3, 3)\n",
        "sns.countplot(x='ChestPainType',data=df)\n",
        "plt.title('Chest Pain Type')\n",
        "\n",
        "plt.subplot(2,3, 4)\n",
        "sns.countplot(x='ExerciseAngina',data=df)\n",
        "plt.title('Exercise Angina')\n",
        "\n",
        "plt.subplot(2,3, 5)\n",
        "sns.countplot(x='ST_Slope',data=df)\n",
        "plt.title('ST Slope')\n",
        "\n",
        "plt.subplot(2,3, 6)\n",
        "sns.countplot(x='HeartDisease',data=df)\n",
        "plt.title('Heart Disease')\n",
        "\n",
        "plt.suptitle(\"Distribusi Variabel Kategorik Heart Data\")\n",
        "plt.tight_layout()\n",
        "plt.show()\n"
      ]
    },
    {
      "cell_type": "markdown",
      "id": "cff8a697-27fa-430e-b43b-0a20f9e44b22",
      "metadata": {
        "id": "cff8a697-27fa-430e-b43b-0a20f9e44b22"
      },
      "source": [
        "Distribusi variabel kategorik data heart. secara keseluruhan, pasien pada data ini kebanyakan laki-laki. RestingECG pasien didominasi oleh indikator normal. Tipe chestpain yang dialami pasien kebanyakan ASY dan tipe indikator yang paling sedikit adalah TA. Pada variabel excercise angina pasien kebnayakan tidak sakit ketika olahraga. Pada variabel ST slope, pasien didominasi oleh indikator flat dan up. Pada variabel heart disease, pasien kebnayakan mengalami serangan jantung atau penyakit jantung.\n",
        "<br><br>\n",
        "Selanjutnya, untuk mengecek distribusi variabel numerik, akan menggunakan histogram. Histogram akan dibuat menggunakan library dari `matplotlib`."
      ]
    },
    {
      "cell_type": "code",
      "execution_count": 11,
      "id": "170c1af8-e0af-4f4f-82c3-3eab8b0e489a",
      "metadata": {
        "colab": {
          "base_uri": "https://localhost:8080/",
          "height": 492
        },
        "id": "170c1af8-e0af-4f4f-82c3-3eab8b0e489a",
        "outputId": "0ddd7a09-8028-4748-9519-328391d896ce"
      },
      "outputs": [
        {
          "output_type": "display_data",
          "data": {
            "text/plain": [
              "<Figure size 640x480 with 6 Axes>"
            ],
            "image/png": "[encoded data removed]"
          },
          "metadata": {}
        }
      ],
      "source": [
        "# Membuat histogram\n",
        "\n",
        "plt.subplot(3,2, 1)\n",
        "#RestingBP\n",
        "from matplotlib import pyplot as plt\n",
        "plt.hist(df['RestingBP'], bins=50, color='skyblue',\n",
        "              edgecolor='black')\n",
        "plt.ylabel('Jumlah Pasien')\n",
        "plt.title('Resting BP')\n",
        "\n",
        "#Cholesterol\n",
        "plt.subplot(3,2, 2)\n",
        "plt.hist(df['Cholesterol'], bins=50, color='teal',\n",
        "              edgecolor='black')\n",
        "plt.ylabel('Jumlah Pasien')\n",
        "plt.title('Cholesterol')\n",
        "\n",
        "# MaxHR\n",
        "plt.subplot(3,2, 3)\n",
        "plt.hist(df['MaxHR'], bins=50, color='yellowgreen',\n",
        "              edgecolor='black')\n",
        "plt.ylabel('Jumlah Pasien')\n",
        "plt.title('Maksimum Blood Preassure')\n",
        "\n",
        "\n",
        "# Oldpeak\n",
        "plt.subplot(3,2, 4)\n",
        "plt.hist(df['Oldpeak'], bins=50, color='bisque',\n",
        "              edgecolor='black')\n",
        "plt.ylabel('Jumlah Pasien')\n",
        "plt.title('Oldpeak')\n",
        "\n",
        "\n",
        "plt.subplot(3,2, 5)\n",
        "plt.hist(df['Age'], bins=50, color='bisque',\n",
        "              edgecolor='black')\n",
        "plt.title('Age')\n",
        "plt.ylabel('Jumlah Pasien')\n",
        "\n",
        "plt.subplot(3,2, 6)\n",
        "plt.hist(df['FastingBS'], bins=50, color='bisque',\n",
        "              edgecolor='black')\n",
        "plt.title('Fasting BS')\n",
        "\n",
        "\n",
        "plt.suptitle(\"Distribusi Variabel Numerik Heart Data\")\n",
        "plt.tight_layout()\n",
        "plt.show()\n",
        "# fasting BS itu rupanya kategorik"
      ]
    },
    {
      "cell_type": "markdown",
      "id": "f804cdcc-26af-4135-a118-6fe822cd692a",
      "metadata": {
        "id": "f804cdcc-26af-4135-a118-6fe822cd692a"
      },
      "source": [
        "Distribusi variabel numerik data heart.\n",
        "\n",
        "Pada histogram variabel-variabel numerik di atas.\n",
        "variabel resting bp, age, dan cholesterol terlihat bentuk agak 'bel' distribusi normal. Tetapi bentuk belnya tidak di tengah, yang berarti data skew dan data terdapat outlier yang agak jauh dibandingkan distribusinya.\n",
        "\n",
        "- Pada Variabel Resting BP, distribusi datanya left skew atau lebih banyak daerah di sekitaran 100-175an.\n",
        "- Pada variabel kolesterol, terdapat puncak yang sangat tinggi di antara 0, yang berarti frekuensi nilai 0 sangat tinggi. Maka dari itu bisa dikatakan variabel kolesterol memiliki outlier yang sangat banyak pada lowerbound. Variabel kolesterol sepertinya memiliki ekor kanan yang lumayan panjang, maka sepertinya memiliki outlier juga yang melewati upperbound.\n",
        "- Pada variabel Maksimum Blood Preassure, distribusi histogramnya tidak berbentuk bel yang tinggi seperti puncak, melainkan seperti pegunungan (tidak terlalu tinggi puncaknya).\n",
        "- Distribusi variabel age terlihat seperti bel, tetapi terdapat beberapa variabel yang membuat variabel age seperti rightskewed. Dapat dilihat bahwa terdapat pasien yang dideteksi 177 tahun. maka, Variabel age terdapat pencilan atau outlier.\n",
        "- Variabel oldpeak tidak berdistribusi normal, dan sepertinya memiliki nilai outlier karena frekuensi diantara nilai 0 sangatlah tinggi, bahkan hingga mendominasi.\n",
        "- Pada variabel fasting BS, dapat dikatakan bahwa nilai hanya 0 dan 1, maka, variabel Fasting BS merupakan variabel kategorik. Maka, akan dibuat barplot untuk variabel Fasting BS pada gambar di bawah ini."
      ]
    },
    {
      "cell_type": "code",
      "execution_count": 12,
      "id": "32ddbf1e-1243-4e88-ad03-b3a5cc2aa158",
      "metadata": {
        "colab": {
          "base_uri": "https://localhost:8080/",
          "height": 489
        },
        "id": "32ddbf1e-1243-4e88-ad03-b3a5cc2aa158",
        "outputId": "138d40ce-375d-4f29-f047-da8b778355fd"
      },
      "outputs": [
        {
          "output_type": "execute_result",
          "data": {
            "text/plain": [
              "Text(0.5, 1.0, 'FastingBS')"
            ]
          },
          "metadata": {},
          "execution_count": 12
        },
        {
          "output_type": "display_data",
          "data": {
            "text/plain": [
              "<Figure size 640x480 with 1 Axes>"
            ],
            "image/png": "[encoded data removed]"
          },
          "metadata": {}
        }
      ],
      "source": [
        "sns.countplot(x='FastingBS',data=df)\n",
        "plt.title('FastingBS')"
      ]
    },
    {
      "cell_type": "markdown",
      "id": "52b52ada-b888-4345-97d3-919eab43ede1",
      "metadata": {
        "id": "52b52ada-b888-4345-97d3-919eab43ede1"
      },
      "source": [
        "Pada variabel fasting BS, pasien didominasi memiliki indikator 0 hampir mencapai 700 pasien.\n",
        "\n",
        "\n",
        "Setelah melihat distribusi variabel numerik, maka diperlukan pengecekan outlier dan cara mengatasinya"
      ]
    },
    {
      "cell_type": "code",
      "execution_count": 13,
      "id": "169f5459-1aa3-4697-9eb7-a19716cf20dd",
      "metadata": {
        "colab": {
          "base_uri": "https://localhost:8080/",
          "height": 607
        },
        "id": "169f5459-1aa3-4697-9eb7-a19716cf20dd",
        "outputId": "9f012204-5d02-4467-a3c0-d1d54e7f4753"
      },
      "outputs": [
        {
          "output_type": "display_data",
          "data": {
            "text/plain": [
              "<Figure size 1000x600 with 1 Axes>"
            ],
            "image/png": "[encoded data removed]"
          },
          "metadata": {}
        }
      ],
      "source": [
        "# Select the numerical columns for the box plots\n",
        "numerical_cols = ['Age', 'RestingBP', 'Cholesterol', 'MaxHR', 'Oldpeak']\n",
        "\n",
        "# Create a single figure and axes for the box plots\n",
        "plt.figure(figsize=(10, 6))\n",
        "\n",
        "# Iterate through the numerical columns and create a box plot for each on the same axes\n",
        "sns.boxplot(data=df[numerical_cols])\n",
        "\n",
        "plt.title('Box Plots of Numerical Features')\n",
        "plt.ylabel('Value')\n",
        "plt.xlabel('Numerical Features')\n",
        "plt.xticks(rotation=45, ha='right')\n",
        "plt.tight_layout() # Adjust layout to prevent labels overlapping\n",
        "plt.show()"
      ]
    },
    {
      "cell_type": "markdown",
      "id": "bb46e2d1-3624-4500-82ab-6855373d04c0",
      "metadata": {
        "id": "bb46e2d1-3624-4500-82ab-6855373d04c0"
      },
      "source": [
        "Pada gambar boxplot di atas, semua variabel numerik memiliki outlier. Untuk mengatasi outlier atau pencilan, dapat dilakukan dengan dua cara, yaitu mengganti nilai outlier dengan lower atau upper bound, atau menghapus nilai oulier. Tujuan utama untuk mengatasi outlier adalah mempertahankan baris atau sample sebanyak-banyaknya. Menghapus nilai outlier digunakan ketika jumlah outlier pada variabel tersebut tidak besar. Mengganti nilai outlier dengan lower atau upper bound ketika nilai dari outlier variabel tersebut memiliki nilai yang cukup besar.\n",
        "<br><br>\n",
        "Variabel yang banyak memiliki pencilan adalah variabel RestingBP dan cholesterol. Hal tersebut ditandakan dengan bulatan yang lumayan pekat pada outlier. Khusus kedua variabel tersebut, outlier akan diatasi dengan mengganti outlier dengan upper atau lower bound."
      ]
    },
    {
      "cell_type": "code",
      "execution_count": 14,
      "id": "80da8a77-7192-4796-b474-c3a75a9c702b",
      "metadata": {
        "colab": {
          "base_uri": "https://localhost:8080/",
          "height": 0
        },
        "id": "80da8a77-7192-4796-b474-c3a75a9c702b",
        "outputId": "3ec35d55-a8fe-48c4-d438-318323774f03"
      },
      "outputs": [
        {
          "output_type": "execute_result",
          "data": {
            "text/plain": [
              "183"
            ]
          },
          "metadata": {},
          "execution_count": 14
        }
      ],
      "source": [
        "# outlier cholesterol\n",
        "Q1_c = df['Cholesterol'].quantile(0.25)\n",
        "Q3_c = df['Cholesterol'].quantile(0.75)\n",
        "IQR_c = Q3_c - Q1_c\n",
        "# Menentukan batas untuk data pencilan variabel kolesterol\n",
        "lower_bound_c = Q1_c - 1.5 * IQR_c\n",
        "upper_bound_c = Q3_c + 1.5 * IQR_c\n",
        "# Mengidentifikasi data pencilan variabel kolesterol\n",
        "outliers_c = df[(df['Cholesterol'] < lower_bound_c) | (df['Cholesterol'] > upper_bound_c)]\n",
        "len(outliers_c) # banyak outliernya"
      ]
    },
    {
      "cell_type": "markdown",
      "id": "647ce2ef-7dd2-4734-beb5-2f24338c3009",
      "metadata": {
        "id": "647ce2ef-7dd2-4734-beb5-2f24338c3009"
      },
      "source": [
        "Pada variabel kolesterol, terdapat 183 outlier. 183 sample berarti hampir 20% data dikeluarkan. Maka yang akan dilakukan adalah mengganti nilai outlier dengan upper dan lowerbound."
      ]
    },
    {
      "cell_type": "code",
      "execution_count": 15,
      "id": "d6700f8b-1620-4caf-8451-6aa7f467a537",
      "metadata": {
        "colab": {
          "base_uri": "https://localhost:8080/",
          "height": 515
        },
        "id": "d6700f8b-1620-4caf-8451-6aa7f467a537",
        "outputId": "7b332b81-4319-42e9-eef2-7af6bc62158b"
      },
      "outputs": [
        {
          "output_type": "stream",
          "name": "stderr",
          "text": [
            "<ipython-input-15-fddc34a84213>:1: SettingWithCopyWarning: \n",
            "A value is trying to be set on a copy of a slice from a DataFrame.\n",
            "Try using .loc[row_indexer,col_indexer] = value instead\n",
            "\n",
            "See the caveats in the documentation: https://pandas.pydata.org/pandas-docs/stable/user_guide/indexing.html#returning-a-view-versus-a-copy\n",
            "  df['Cholesterol'] = np.where(df['Cholesterol'] > upper_bound_c, lower_bound_c,\n"
          ]
        },
        {
          "output_type": "display_data",
          "data": {
            "text/plain": [
              "<Figure size 300x400 with 1 Axes>"
            ],
            "image/png": "[encoded data removed]"
          },
          "metadata": {}
        }
      ],
      "source": [
        "df['Cholesterol'] = np.where(df['Cholesterol'] > upper_bound_c, lower_bound_c,\n",
        "                                np.where(df['Cholesterol'] < lower_bound_c, upper_bound_c , df['Cholesterol']))\n",
        "plt.figure(figsize=(3, 4))\n",
        "df['Cholesterol'].plot(kind='box')\n",
        "plt.title('Box plot of Cholesterol after Outlier Handling')\n",
        "plt.show()"
      ]
    },
    {
      "cell_type": "markdown",
      "id": "777721de-f8bf-49fc-be6b-85103ebb9ec5",
      "metadata": {
        "id": "777721de-f8bf-49fc-be6b-85103ebb9ec5"
      },
      "source": [
        "Setelah dilakukan penanganan outlier menggunakan mengganti upper dan lower bound, pada boxplot masih terdapat outlier, maka akan dilakukan ulang penanganan outlier."
      ]
    },
    {
      "cell_type": "code",
      "execution_count": 16,
      "id": "ed25805c-51c1-498c-8ec4-a88180791f81",
      "metadata": {
        "colab": {
          "base_uri": "https://localhost:8080/",
          "height": 515
        },
        "id": "ed25805c-51c1-498c-8ec4-a88180791f81",
        "outputId": "44a1be9a-2174-4d62-96c5-4e71d0b12ee2"
      },
      "outputs": [
        {
          "output_type": "stream",
          "name": "stderr",
          "text": [
            "<ipython-input-16-9cbfb209282b>:8: SettingWithCopyWarning: \n",
            "A value is trying to be set on a copy of a slice from a DataFrame.\n",
            "Try using .loc[row_indexer,col_indexer] = value instead\n",
            "\n",
            "See the caveats in the documentation: https://pandas.pydata.org/pandas-docs/stable/user_guide/indexing.html#returning-a-view-versus-a-copy\n",
            "  df['Cholesterol'] = np.where(df['Cholesterol'] > upper_bound_c, lower_bound_c,\n"
          ]
        },
        {
          "output_type": "display_data",
          "data": {
            "text/plain": [
              "<Figure size 300x400 with 1 Axes>"
            ],
            "image/png": "[encoded data removed]"
          },
          "metadata": {}
        }
      ],
      "source": [
        "# penangan outlier 2x dengan mengganti upper dan lower bound\n",
        "Q1_c = df['Cholesterol'].quantile(0.25)\n",
        "Q3_c = df['Cholesterol'].quantile(0.75)\n",
        "IQR_c = Q3_c - Q1_c\n",
        "# Menentukan batas untuk data pencilan variabel kolesterol\n",
        "lower_bound_c = Q1_c - 1.5 * IQR_c\n",
        "upper_bound_c = Q3_c + 1.5 * IQR_c\n",
        "df['Cholesterol'] = np.where(df['Cholesterol'] > upper_bound_c, lower_bound_c,\n",
        "                                np.where(df['Cholesterol'] < lower_bound_c, upper_bound_c , df['Cholesterol']))\n",
        "\n",
        "# Make a boxplot for 'Cholesterol' after handling outliers\n",
        "plt.figure(figsize=(3, 4))\n",
        "df['Cholesterol'].plot(kind='box')\n",
        "plt.title('Box plot of Cholesterol after Outlier Handling 2x')\n",
        "plt.show()"
      ]
    },
    {
      "cell_type": "markdown",
      "id": "6cb5ddd5-a504-4cb1-a5fa-229c4904bcf4",
      "metadata": {
        "id": "6cb5ddd5-a504-4cb1-a5fa-229c4904bcf4"
      },
      "source": [
        "Dapat dilihat pada boxplot variabel kolesterol, tidak ada outlier lagi atau sudah diatasi outliernya, selanjutnya adalah variabel restingBP."
      ]
    },
    {
      "cell_type": "code",
      "execution_count": 17,
      "id": "41c0566c-928b-45ea-9fa4-7d1650548f97",
      "metadata": {
        "colab": {
          "base_uri": "https://localhost:8080/",
          "height": 515
        },
        "id": "41c0566c-928b-45ea-9fa4-7d1650548f97",
        "outputId": "bc2898fe-873d-4553-84e1-7890d15f89b1"
      },
      "outputs": [
        {
          "output_type": "stream",
          "name": "stderr",
          "text": [
            "<ipython-input-17-841a6b741f16>:9: SettingWithCopyWarning: \n",
            "A value is trying to be set on a copy of a slice from a DataFrame.\n",
            "Try using .loc[row_indexer,col_indexer] = value instead\n",
            "\n",
            "See the caveats in the documentation: https://pandas.pydata.org/pandas-docs/stable/user_guide/indexing.html#returning-a-view-versus-a-copy\n",
            "  df['RestingBP'] = np.where(df['RestingBP'] > upper_bound_rbp, lower_bound_rbp,\n"
          ]
        },
        {
          "output_type": "display_data",
          "data": {
            "text/plain": [
              "<Figure size 300x400 with 1 Axes>"
            ],
            "image/png": "[encoded data removed]"
          },
          "metadata": {}
        }
      ],
      "source": [
        "# outlier  resting bp\n",
        "Q1_rbp = df['RestingBP'].quantile(0.25)\n",
        "Q3_rbp = df['RestingBP'].quantile(0.75)\n",
        "IQR_rbp = Q3_rbp - Q1_rbp\n",
        "# Menentukan batas untuk data pencilan variabel rbp\n",
        "lower_bound_rbp = Q1_rbp - 1.5 * IQR_rbp\n",
        "upper_bound_rbp = Q3_rbp + 1.5 * IQR_rbp\n",
        "\n",
        "df['RestingBP'] = np.where(df['RestingBP'] > upper_bound_rbp, lower_bound_rbp,\n",
        "                                np.where(df['RestingBP'] < lower_bound_rbp, upper_bound_rbp , df['RestingBP']))\n",
        "\n",
        "plt.figure(figsize=(3, 4))\n",
        "df['RestingBP'].plot(kind='box')\n",
        "plt.title('Box plot of RestingBP after Outlier Handling')\n",
        "plt.show()"
      ]
    },
    {
      "cell_type": "markdown",
      "id": "b79d4857-d14e-4a6f-b64d-09f15e0c7e0d",
      "metadata": {
        "id": "b79d4857-d14e-4a6f-b64d-09f15e0c7e0d"
      },
      "source": [
        "Dapat dilihat pada boxplot variabel RestingBP, tidak ada outlier lagi atau sudah diatasi outliernya, selanjutnya adalah variabel Age."
      ]
    },
    {
      "cell_type": "code",
      "execution_count": 18,
      "id": "82cccc64-6137-42f2-9306-a9021e0f2da6",
      "metadata": {
        "colab": {
          "base_uri": "https://localhost:8080/",
          "height": 0
        },
        "id": "82cccc64-6137-42f2-9306-a9021e0f2da6",
        "outputId": "3098562e-5ce9-4bf4-f31b-5a2ca9209404"
      },
      "outputs": [
        {
          "output_type": "execute_result",
          "data": {
            "text/plain": [
              "7"
            ]
          },
          "metadata": {},
          "execution_count": 18
        }
      ],
      "source": [
        "# Create arrays of Boolean values indicating the outlier rows\n",
        "Q1 = df['Age'].quantile(0.25)\n",
        "Q3 = df['Age'].quantile(0.75)\n",
        "IQR = Q3 - Q1\n",
        "lower = Q1 - 1.5*IQR\n",
        "upper = Q3 + 1.5*IQR\n",
        "outliers_c = df[(df['Age'] < lower) | (df['Age'] > upper)]\n",
        "len(outliers_c) # banyak outliernya"
      ]
    },
    {
      "cell_type": "markdown",
      "id": "b8dcc5c1-f874-4fa6-9413-8717677bf7ed",
      "metadata": {
        "id": "b8dcc5c1-f874-4fa6-9413-8717677bf7ed"
      },
      "source": [
        "Pada variabel age, outlier yang dihasilkan adalah 7, karena outlier pada variabel age sedikit, penanganan outlier yang dilakukan adalah menghapus outlier. 7 sample dapat dihapus karena jumlahnya masih sedikit jika dibandingkan dengan data total yaitu 918 sample."
      ]
    },
    {
      "cell_type": "code",
      "execution_count": 19,
      "id": "8e5e47d9-9e17-4e2e-99c5-f8772f11fc2a",
      "metadata": {
        "id": "8e5e47d9-9e17-4e2e-99c5-f8772f11fc2a"
      },
      "outputs": [],
      "source": [
        "df_no_outliers = df[(df['Age'] >= lower) & (df['Age'] <= upper)]"
      ]
    },
    {
      "cell_type": "markdown",
      "id": "a5398b47-ac68-42b8-9fa2-0aa76373a190",
      "metadata": {
        "id": "a5398b47-ac68-42b8-9fa2-0aa76373a190"
      },
      "source": [
        "Selanjutnya, akan dilanjutkan dengan penangan outlier variabel MaxHR."
      ]
    },
    {
      "cell_type": "code",
      "execution_count": 20,
      "id": "3636f896-4e60-4ef6-803c-9fba7b075140",
      "metadata": {
        "colab": {
          "base_uri": "https://localhost:8080/",
          "height": 0
        },
        "id": "3636f896-4e60-4ef6-803c-9fba7b075140",
        "outputId": "855061f2-8814-4219-f21d-9fd321ea152b"
      },
      "outputs": [
        {
          "output_type": "stream",
          "name": "stdout",
          "text": [
            "2\n"
          ]
        }
      ],
      "source": [
        "Q1 = df['MaxHR'].quantile(0.25)\n",
        "Q3 = df['MaxHR'].quantile(0.75)\n",
        "IQR = Q3 - Q1\n",
        "lower = Q1 - 1.5*IQR\n",
        "upper = Q3 + 1.5*IQR\n",
        "outliers_c = df[(df['MaxHR'] < lower) | (df['MaxHR'] > upper)]\n",
        "print(len(outliers_c)) # banyak outliernya\n",
        "\n",
        "df_no_outliers = df_no_outliers[(df_no_outliers['MaxHR'] >= lower) & (df_no_outliers['MaxHR'] <= upper)]"
      ]
    },
    {
      "cell_type": "markdown",
      "id": "422f7f3d-5b62-43bd-82f6-1526efb91048",
      "metadata": {
        "id": "422f7f3d-5b62-43bd-82f6-1526efb91048"
      },
      "source": [
        "Banyaknya outlier pada variabel maxHR adalah 2 sample, maka yang dilakukan adalah menghilangkan outlier."
      ]
    },
    {
      "cell_type": "code",
      "execution_count": 21,
      "id": "1b6d5ca7-ef78-4c57-89ac-2452693cf365",
      "metadata": {
        "colab": {
          "base_uri": "https://localhost:8080/",
          "height": 0
        },
        "id": "1b6d5ca7-ef78-4c57-89ac-2452693cf365",
        "outputId": "a72fd5b8-87e8-4a72-e0fa-2dab3c3aa738"
      },
      "outputs": [
        {
          "output_type": "execute_result",
          "data": {
            "text/plain": [
              "16"
            ]
          },
          "metadata": {},
          "execution_count": 21
        }
      ],
      "source": [
        "\n",
        "Q1 = df['Oldpeak'].quantile(0.25)\n",
        "Q3 = df['Oldpeak'].quantile(0.75)\n",
        "IQR = Q3 - Q1\n",
        "lower = Q1 - 1.5*IQR\n",
        "upper = Q3 + 1.5*IQR\n",
        "outliers_c = df[(df['Oldpeak'] < lower) | (df['Oldpeak'] > upper)]\n",
        "len(outliers_c) # banyak outliernya"
      ]
    },
    {
      "cell_type": "markdown",
      "id": "ab8d114b-542f-4898-b460-6098fe1c03be",
      "metadata": {
        "id": "ab8d114b-542f-4898-b460-6098fe1c03be"
      },
      "source": [
        "Banyaknya outlier pada variabel oldpeak adalah 16 sample, masih cenderung sedikit dibandingkan dengan keseluruhan data maka yang dilakukan adalah menghilangkan outlier."
      ]
    },
    {
      "cell_type": "code",
      "execution_count": 22,
      "id": "46fd77d0-ec51-4e68-ac6d-dc58b0a2f4b6",
      "metadata": {
        "colab": {
          "base_uri": "https://localhost:8080/",
          "height": 0
        },
        "id": "46fd77d0-ec51-4e68-ac6d-dc58b0a2f4b6",
        "outputId": "fe31ea39-3a78-4394-84c8-f096ea7854ae"
      },
      "outputs": [
        {
          "output_type": "execute_result",
          "data": {
            "text/plain": [
              "877"
            ]
          },
          "metadata": {},
          "execution_count": 22
        }
      ],
      "source": [
        "df_no_outliers = df_no_outliers[(df_no_outliers['Oldpeak'] >= lower) & (df_no_outliers['Oldpeak'] <= upper)]\n",
        "len(df_no_outliers)"
      ]
    },
    {
      "cell_type": "markdown",
      "id": "d93fa2cb-e051-4f88-b5c9-4433115e99db",
      "metadata": {
        "id": "d93fa2cb-e051-4f88-b5c9-4433115e99db"
      },
      "source": [
        "Setelah mengatasi outlier pada data numerik, data yang sudah tidak ada outlier terdapat 877 baris. Sample yang tidak terlalu banyak. Untuk memastikan outlier telah kita akan cek ulang apakah variabel sudah siap untuk lanjut ke tahap berikutnya."
      ]
    },
    {
      "cell_type": "code",
      "execution_count": 23,
      "id": "3625b2ce-544e-4121-a8ab-5a9888298660",
      "metadata": {
        "colab": {
          "base_uri": "https://localhost:8080/",
          "height": 607
        },
        "id": "3625b2ce-544e-4121-a8ab-5a9888298660",
        "outputId": "66e1e2f6-f189-4bde-b5bb-47009446f24d"
      },
      "outputs": [
        {
          "output_type": "display_data",
          "data": {
            "text/plain": [
              "<Figure size 1000x600 with 1 Axes>"
            ],
            "image/png": "[encoded data removed]"
          },
          "metadata": {}
        }
      ],
      "source": [
        "numerical_cols = ['Age', 'RestingBP', 'Cholesterol', 'MaxHR', 'Oldpeak']\n",
        "\n",
        "plt.figure(figsize=(10, 6))\n",
        "sns.boxplot(data=df_no_outliers[numerical_cols])\n",
        "\n",
        "plt.title('Box Plots of Numerical Features After Outlier Detection')\n",
        "plt.ylabel('Value')\n",
        "plt.xlabel('Numerical Features')\n",
        "plt.xticks(rotation=45, ha='right')\n",
        "plt.tight_layout() # Adjust layout to prevent labels overlapping\n",
        "plt.show()"
      ]
    },
    {
      "cell_type": "markdown",
      "id": "c3d5da5b-57e3-4977-9913-59a3eed12897",
      "metadata": {
        "id": "c3d5da5b-57e3-4977-9913-59a3eed12897"
      },
      "source": [
        "Semua variabel numerik telah siap untuk dilakukan ke tahap berikutnya yaitu feature engineering."
      ]
    },
    {
      "cell_type": "markdown",
      "id": "d0891a2c-9163-42e8-9244-f367505a4dc5",
      "metadata": {
        "id": "d0891a2c-9163-42e8-9244-f367505a4dc5"
      },
      "source": [
        "Setelah semua variabel sudah siap, sebelum masuk ke dalam model, untuk memudahkan model klasifikasi, variabel kategorik perlu ditransformasi. Transformasi yang dilakukan adalah mengganti tipe data, yang awalnya dari type object (kategorik), menjadi type integer(numerik). Type integer ini berbeda dengan numerik, karena bilangan integer tidak memiliki koma. integer merupakan bilangan bulat. Untuk melakukan trnasformasi data, library yang diperlukan adalah `sklearn`. Pada tahap ini, variabel sex, chestpaintype, restingecg, excerciseangina dan stslope akan diubah type variabelnya menjadi integer. Tahapan transformasi data ditunjukkan pada code di bawah ini."
      ]
    },
    {
      "cell_type": "code",
      "execution_count": 24,
      "id": "150e006a-82cd-4a51-9591-0c7a11107615",
      "metadata": {
        "colab": {
          "base_uri": "https://localhost:8080/",
          "height": 0
        },
        "id": "150e006a-82cd-4a51-9591-0c7a11107615",
        "outputId": "8c37597a-45f0-4142-bf91-6504db80d50f"
      },
      "outputs": [
        {
          "output_type": "stream",
          "name": "stdout",
          "text": [
            "<class 'pandas.core.frame.DataFrame'>\n",
            "Index: 877 entries, 1 to 917\n",
            "Data columns (total 12 columns):\n",
            " #   Column          Non-Null Count  Dtype  \n",
            "---  ------          --------------  -----  \n",
            " 0   Age             877 non-null    float64\n",
            " 1   Sex             877 non-null    int64  \n",
            " 2   ChestPainType   877 non-null    int64  \n",
            " 3   RestingBP       877 non-null    float64\n",
            " 4   Cholesterol     877 non-null    float64\n",
            " 5   FastingBS       877 non-null    int64  \n",
            " 6   RestingECG      877 non-null    int64  \n",
            " 7   MaxHR           877 non-null    int64  \n",
            " 8   ExerciseAngina  877 non-null    int64  \n",
            " 9   Oldpeak         877 non-null    float64\n",
            " 10  ST_Slope        877 non-null    int64  \n",
            " 11  HeartDisease    877 non-null    int64  \n",
            "dtypes: float64(4), int64(8)\n",
            "memory usage: 89.1 KB\n"
          ]
        }
      ],
      "source": [
        "# transformasi\n",
        "from sklearn.preprocessing import LabelEncoder\n",
        "le = LabelEncoder()\n",
        "df_no_outliers['Sex'] = le.fit_transform(df_no_outliers['Sex'])\n",
        "df_no_outliers['ChestPainType'] = le.fit_transform(df_no_outliers['ChestPainType'])\n",
        "df_no_outliers['RestingECG'] = le.fit_transform(df_no_outliers['RestingECG'])\n",
        "df_no_outliers['ExerciseAngina'] = le.fit_transform(df_no_outliers['ExerciseAngina'])\n",
        "df_no_outliers['ST_Slope'] = le.fit_transform(df_no_outliers['ST_Slope'])\n",
        "df_no_outliers.info()"
      ]
    },
    {
      "cell_type": "markdown",
      "id": "6f341e15-4895-4234-906f-a49f7bfe0c19",
      "metadata": {
        "id": "6f341e15-4895-4234-906f-a49f7bfe0c19"
      },
      "source": [
        "Variabel kategorik sudah ditransformasi menjadi bilangan integer. Maka, data sudah siap untuk dilakukan penyeleksian data untuk dimasukkan ke dalam model klasifikasi."
      ]
    },
    {
      "cell_type": "markdown",
      "id": "f8387f0a-11b6-4515-bae9-03ee7c9778e8",
      "metadata": {
        "id": "f8387f0a-11b6-4515-bae9-03ee7c9778e8"
      },
      "source": [
        "Pemilihan variabel data dapat menggunakan 3 cara, yaitu korelasi, feature importance dan shap. Penentuan variabel yang akan digunakan menggunakan korelasi sebagai berikut"
      ]
    },
    {
      "cell_type": "code",
      "execution_count": 25,
      "id": "26f9226e-d3a7-4217-a778-5193987a0dda",
      "metadata": {
        "colab": {
          "base_uri": "https://localhost:8080/",
          "height": 544
        },
        "id": "26f9226e-d3a7-4217-a778-5193987a0dda",
        "outputId": "11b48af6-b95c-45bf-b78a-07850fb80ae7"
      },
      "outputs": [
        {
          "output_type": "display_data",
          "data": {
            "text/plain": [
              "<Figure size 640x480 with 2 Axes>"
            ],
            "image/png": "[encoded data removed]"
          },
          "metadata": {}
        }
      ],
      "source": [
        "# korelasi\n",
        "import seaborn as sns\n",
        "sns.heatmap(df_no_outliers.corr(), annot=True,\n",
        "            cmap=\"coolwarm\",fmt=\".2f\")\n",
        "plt.title(\"Correlation Matrix\")\n",
        "plt.show()"
      ]
    },
    {
      "cell_type": "markdown",
      "id": "83fae35e-5520-403e-b85d-917e36176103",
      "metadata": {
        "id": "83fae35e-5520-403e-b85d-917e36176103"
      },
      "source": [
        "yang digunakan adalah korelasi nilai yang paling tinggi dengan variabel heart disease. Urutan korelasi yang terbesar dengan heart disease adalah ST_slope sebesar -0,56, exercise angina dengan nilai 0,5. Variabel yang digunakan adalah korelasi yang tinggi atau lebih dari 0,5. ST slope memiliki hubungan negatif terhadap heart disease. korelasi st slope dengan heart disease sebesar 0,56 yang berarti hubungan linear kedua variabel tersebut lumayan kuat negatif.  excercise angina memiliki hubungan positif terhadap heart disease. korelasi excercise angina dengan heart disease sebesar 0,50 yang berarti hubungan linear kedua variabel tersebut lumayan kuat positif.  \n",
        "<br><br>\n",
        "Selanjutnya, akan memilih variabel menggunakan feature performance. Feature performance menghitung seberapa penting atau pengatuh atau kontribusi setiap variabel tersebut pada variabel target atau heart disease. Penentuan variabel feature performance dengan mengambil variabel yang memiliki nilai atau skor feature performance yang besar."
      ]
    },
    {
      "cell_type": "code",
      "execution_count": 26,
      "id": "71900d33-5955-4c6c-890d-1e371bc33cab",
      "metadata": {
        "colab": {
          "base_uri": "https://localhost:8080/",
          "height": 663
        },
        "id": "71900d33-5955-4c6c-890d-1e371bc33cab",
        "outputId": "b5d3217a-7eb3-4283-8f9c-0fafee11ccde"
      },
      "outputs": [
        {
          "output_type": "stream",
          "name": "stdout",
          "text": [
            "['ST_Slope', 0.5262897]\n",
            "['ChestPainType', 0.11749022]\n",
            "['ExerciseAngina', 0.07886804]\n",
            "['Sex', 0.051937286]\n",
            "['FastingBS', 0.0497923]\n",
            "['Oldpeak', 0.04040199]\n",
            "['Cholesterol', 0.029786948]\n",
            "['MaxHR', 0.027528342]\n",
            "['RestingECG', 0.027212983]\n",
            "['RestingBP', 0.02697174]\n",
            "['Age', 0.023720501]\n"
          ]
        },
        {
          "output_type": "display_data",
          "data": {
            "text/plain": [
              "<Figure size 640x480 with 1 Axes>"
            ],
            "image/png": "[encoded data removed]"
          },
          "metadata": {}
        }
      ],
      "source": [
        "# Membagi variabel menjadi variabel dependent dan independent\n",
        "X = df_no_outliers.drop('HeartDisease', axis=1)\n",
        "y = df_no_outliers['HeartDisease']\n",
        "# Membagi data menjadi data training dan data testing\n",
        "from sklearn.model_selection import train_test_split\n",
        "X_train, X_test, y_train, y_test = train_test_split(X, y,test_size=0.2, random_state=42)\n",
        "# Mentraining model XGBOOST\n",
        "from xgboost import XGBClassifier, plot_importance\n",
        "model = XGBClassifier()\n",
        "model.fit(X_train, y_train)\n",
        "\n",
        "sorted_idx = np.argsort(model.feature_importances_)[::-1]\n",
        "for index in sorted_idx:\n",
        "    print([X_train.columns[index], model.feature_importances_[index]])\n",
        "plot_importance(model, max_num_features = 15)\n",
        "plt.show()\n"
      ]
    },
    {
      "cell_type": "markdown",
      "id": "584b2494-2eba-4f71-a4f1-9b12518382a0",
      "metadata": {
        "id": "584b2494-2eba-4f71-a4f1-9b12518382a0"
      },
      "source": [
        "Berdasarkan pemilihan variabel menggunakan featur importance, variabel yang memiliki pengaruh atau kontribusi yang besar adalah cholesterol, max HR, resting BP, age dan oldpeak. Maka variabel yang akan digunakan adalah kelima variabel tersebut.\n",
        "\n",
        "Senajutnya, akna melakukan pemilihan variabel dengan SHAP. SHAP adalah metode yang digunakan untuk mengukur kontribusi setiap fitur terhadap hasil prediksi model machine learning. SHAP menggunakan konsep seperti game. variabel merupakan pemain dan tujuan dari pemain itu adalah menang. dalam dalam konsep ini game yang dimaksud adalah menghasilkan prediksi yang akurat. Untuk menggunakan shap, memerlukan library `shap`."
      ]
    },
    {
      "cell_type": "code",
      "execution_count": 27,
      "id": "17992a3c-bf97-4510-a72c-1830c96346a3",
      "metadata": {
        "colab": {
          "base_uri": "https://localhost:8080/",
          "height": 597
        },
        "id": "17992a3c-bf97-4510-a72c-1830c96346a3",
        "outputId": "aa37dd3a-21f9-49bd-b235-20226e9e7bd0"
      },
      "outputs": [
        {
          "output_type": "display_data",
          "data": {
            "text/plain": [
              "<Figure size 800x590 with 1 Axes>"
            ],
            "image/png": "[encoded data removed]"
          },
          "metadata": {}
        }
      ],
      "source": [
        "import shap\n",
        "from xgboost import XGBClassifier, plot_importance\n",
        "model = XGBClassifier()\n",
        "model.fit(X_train, y_train)\n",
        "# Menghitung skor SHAP\n",
        "explainer = shap.TreeExplainer(model)\n",
        "shap_values = explainer.shap_values(X_test)\n",
        "shap.summary_plot(shap_values, X_test, plot_type=\"bar\")"
      ]
    },
    {
      "cell_type": "markdown",
      "id": "6b019323-e70b-42c6-9aab-f47009a8e181",
      "metadata": {
        "id": "6b019323-e70b-42c6-9aab-f47009a8e181"
      },
      "source": [
        "Berdasarkan shap, ST slope mememiliki kontribusi yang dominan dibandingkan dengan variabel lain. untuk itu, akan menggunakan ST lope pada model shap nantinya. Maka dari itu, nanti tidak akan ada pemodelan SHAP karena perbedaan antara ST slope dengan variabel lainnya terlalu jauh. Sehingga, tidak akan memodelkan klasifikasi hanya menggunakan satu variabel.\n",
        "\n",
        "\n",
        "Selanjutnya, untuk memilih model, perlu diketahui berapa variabel yang cocok untuk dimasukkan ke dalam model. untuk mencapai tujuan tersebut,, dapat menggunakan principal component analysis (PCA). PCA mengurangi dimensi data. jadi data yang digunakan dalam model bisa optimum, dan tidak ada informasi yang hilang. penentuan dengan PCA dengan melihat scree plot, yang mana jumlah variabel yang optimum adalah ketika grafik scree plotnya membentuk siku-siku."
      ]
    },
    {
      "cell_type": "code",
      "execution_count": 28,
      "id": "01d9c982-aeb8-49c4-bf03-d3a4d80a486c",
      "metadata": {
        "colab": {
          "base_uri": "https://localhost:8080/",
          "height": 446
        },
        "id": "01d9c982-aeb8-49c4-bf03-d3a4d80a486c",
        "outputId": "f32c5b0e-2b92-4681-ebd1-5d27c9dd9750"
      },
      "outputs": [
        {
          "output_type": "display_data",
          "data": {
            "text/plain": [
              "<Figure size 640x480 with 1 Axes>"
            ],
            "image/png": "[encoded data removed]"
          },
          "metadata": {}
        }
      ],
      "source": [
        "## PCA Principal Component analysis\n",
        "from sklearn import preprocessing\n",
        "from sklearn.decomposition import PCA\n",
        "standardized_X = preprocessing.scale(df_no_outliers)\n",
        "plt.style.use('ggplot')\n",
        "pca = PCA(n_components=11)\n",
        "# Hasil transformasi data\n",
        "NewX = pca.fit_transform(standardized_X)\n",
        "prop_var = pca.explained_variance_ratio_\n",
        "eigenvalues = pca.explained_variance_\n",
        "PC_numbers = np.arange(pca.n_components_) + 1\n",
        "plt.plot(PC_numbers, prop_var, 'ro-')\n",
        "plt.title('SCREE PLOT', fontsize=8)\n",
        "plt.ylabel('PROPORSI VARIANS', fontsize=8)\n",
        "plt.show()"
      ]
    },
    {
      "cell_type": "markdown",
      "id": "326cd520-d2b1-42e4-a21b-ac966c8cd6d8",
      "metadata": {
        "id": "326cd520-d2b1-42e4-a21b-ac966c8cd6d8"
      },
      "source": [
        "Scree plot pada PCA menghasilkan bahwa pada data, vairabel yang cocok dimasukkan ke dalam model adalah 2 variabel. Maka, untuk pembuatan model, variabel yang akan dicoba adalah 2 variabel. Setelah mengetahui berapa banyak variabel dan variabel apa saja yang akan digunakan pada model. Tahap berikutnya adalah memodelkan model klasifikasi. Model klasifikasi yang akan digunakan adalah decision tree dengan library `sklearn`dan model klasifikasi dengan bantuan `pycaret`.\n",
        "\n",
        "Model yang akan pertama kali dibuat adalah model dengan semua variabel. Model ini akan digunakan sebagai pembanding model-model yang lainnya. Sebagai pembanding model-model klasifikasi, akan menggunakan akurasi sebagai pembanding utama."
      ]
    },
    {
      "cell_type": "code",
      "execution_count": 29,
      "id": "a3de607e-ce00-4214-9a53-ee16a92a8966",
      "metadata": {
        "colab": {
          "base_uri": "https://localhost:8080/",
          "height": 0
        },
        "id": "a3de607e-ce00-4214-9a53-ee16a92a8966",
        "outputId": "48ab9feb-9766-4350-e020-c360e09c35c9"
      },
      "outputs": [
        {
          "output_type": "stream",
          "name": "stdout",
          "text": [
            "Accuracy: 0.7727272727272727\n",
            "Precision: 0.8390804597701149\n",
            "Recall: 0.7373737373737373\n",
            "F1-Score: 0.7849462365591398\n",
            "AUC-ROC: 0.7777777777777777\n"
          ]
        }
      ],
      "source": [
        "from sklearn.tree import DecisionTreeClassifier\n",
        "from sklearn.metrics import accuracy_score, precision_score, recall_score, f1_score, roc_auc_score\n",
        "\n",
        "model = DecisionTreeClassifier(criterion='gini', max_depth=7)\n",
        "\n",
        "model.fit(X_train, y_train)\n",
        "y_pred = model.predict(X_test)\n",
        "\n",
        "# evaluation\n",
        "accuracy = accuracy_score(y_test, y_pred)\n",
        "precision = precision_score(y_test, y_pred)\n",
        "recall = recall_score(y_test, y_pred)\n",
        "f1 = f1_score(y_test, y_pred)\n",
        "auc_roc = roc_auc_score(y_test, y_pred)\n",
        "\n",
        "print(\"Accuracy:\", accuracy)\n",
        "print(\"Precision:\", precision)\n",
        "print(\"Recall:\", recall)\n",
        "print(\"F1-Score:\", f1)\n",
        "print(\"AUC-ROC:\", auc_roc)"
      ]
    },
    {
      "cell_type": "markdown",
      "id": "01f4a995-39ca-493e-adc7-4ff2223a940e",
      "metadata": {
        "id": "01f4a995-39ca-493e-adc7-4ff2223a940e"
      },
      "source": [
        "Berdasarkan model decision tree semua variabel untuk memprediksi heart disease, model decision tree tersebut mmemiliki nilai akurasi memprediksi benar sebesar 73,86%. Dari semua prediksi positif yang dibuat (presisi), 80.5% benar-benar positif. Dari semua data yang seharusnya positif (recall), model menghasilkan 70,7% benar. Keseimbangan model dapat dilihat dengan F1 score sebesar 75,26%.\n",
        "\n",
        "Selanjutnya menggunakan variabel  st_slope, excercise angina yang ditemukan pada korelasi."
      ]
    },
    {
      "cell_type": "code",
      "execution_count": 30,
      "id": "e7bb7b11-5633-4065-93db-4bf733860ac6",
      "metadata": {
        "colab": {
          "base_uri": "https://localhost:8080/",
          "height": 0
        },
        "id": "e7bb7b11-5633-4065-93db-4bf733860ac6",
        "outputId": "c555d3a1-ba22-4582-cbff-05a925a0f937"
      },
      "outputs": [
        {
          "output_type": "stream",
          "name": "stdout",
          "text": [
            "Accuracy: 0.7670454545454546\n",
            "Precision: 0.7735849056603774\n",
            "Recall: 0.8282828282828283\n",
            "F1-Score: 0.8\n",
            "AUC-ROC: 0.7582972582972584\n"
          ]
        }
      ],
      "source": [
        "df_cor = df_no_outliers[['ST_Slope', 'ExerciseAngina','HeartDisease']]\n",
        "X_cor = df_cor.drop('HeartDisease', axis=1) # matriks variabel independen\n",
        "y_cor = df_cor['HeartDisease'] # vektor target\n",
        "from sklearn.model_selection import train_test_split\n",
        "X_train, X_test, y_train, y_test = train_test_split(X_cor, y_cor,test_size=0.2, random_state=42)\n",
        "\n",
        "model = DecisionTreeClassifier(criterion='gini', max_depth=3)\n",
        "\n",
        "model.fit(X_train, y_train)\n",
        "y_pred = model.predict(X_test)\n",
        "\n",
        "# evaluation\n",
        "accuracy = accuracy_score(y_test, y_pred)\n",
        "precision = precision_score(y_test, y_pred)\n",
        "recall = recall_score(y_test, y_pred)\n",
        "f1 = f1_score(y_test, y_pred)\n",
        "auc_roc = roc_auc_score(y_test, y_pred)\n",
        "print(\"Accuracy:\", accuracy)\n",
        "print(\"Precision:\", precision)\n",
        "print(\"Recall:\", recall)\n",
        "print(\"F1-Score:\", f1)\n",
        "print(\"AUC-ROC:\", auc_roc)"
      ]
    },
    {
      "cell_type": "markdown",
      "id": "cc60e8c5-153c-43db-9962-205f26dcc276",
      "metadata": {
        "id": "cc60e8c5-153c-43db-9962-205f26dcc276"
      },
      "source": [
        "Berdasarkan model decision tree dari korelasi untuk memprediksi heart disease, model decision tree tersebut memiliki nilai akurasi memprediksi benar sebesar 76,70%. Dari semua prediksi positif yang dibuat (presisi), 77,35% benar-benar positif. Dari semua data yang seharusnya positif (recall), model menghasilkan 82,82% benar. Keseimbangan model dapat dilihat dengan F1 score sebesar 80%. Model ini lebih besar akurasinya dibandingkan dengan model dengan semua variabel.\n",
        "\n",
        "Selanjutnya menggunakan variabel cholesterol dan maxHR yang ditemukan pada feature importance."
      ]
    },
    {
      "cell_type": "code",
      "execution_count": 31,
      "id": "a96e2e36-f633-4b21-a201-dac70be2e306",
      "metadata": {
        "colab": {
          "base_uri": "https://localhost:8080/",
          "height": 0
        },
        "id": "a96e2e36-f633-4b21-a201-dac70be2e306",
        "outputId": "2b595557-053e-442e-9c01-5996abc4212c"
      },
      "outputs": [
        {
          "output_type": "stream",
          "name": "stdout",
          "text": [
            "Accuracy: 0.7613636363636364\n",
            "Precision: 0.7478260869565218\n",
            "Recall: 0.8686868686868687\n",
            "F1-Score: 0.8037383177570093\n",
            "AUC-ROC: 0.746031746031746\n"
          ]
        }
      ],
      "source": [
        "df_fi = df_no_outliers[['Cholesterol', 'MaxHR','HeartDisease']]\n",
        "X_fi = df_fi.drop('HeartDisease', axis=1) # matriks variabel independen\n",
        "y_fi = df_fi['HeartDisease'] # vektor target\n",
        "from sklearn.model_selection import train_test_split\n",
        "X_train, X_test, y_train, y_test = train_test_split(X_fi, y_fi,test_size=0.2, random_state=42)\n",
        "\n",
        "model = DecisionTreeClassifier(criterion='gini', max_depth=5)\n",
        "\n",
        "model.fit(X_train, y_train)\n",
        "y_pred = model.predict(X_test)\n",
        "\n",
        "# evaluation\n",
        "accuracy = accuracy_score(y_test, y_pred)\n",
        "precision = precision_score(y_test, y_pred)\n",
        "recall = recall_score(y_test, y_pred)\n",
        "f1 = f1_score(y_test, y_pred)\n",
        "auc_roc = roc_auc_score(y_test, y_pred)\n",
        "print(\"Accuracy:\", accuracy)\n",
        "print(\"Precision:\", precision)\n",
        "print(\"Recall:\", recall)\n",
        "print(\"F1-Score:\", f1)\n",
        "print(\"AUC-ROC:\", auc_roc)"
      ]
    },
    {
      "cell_type": "markdown",
      "id": "fa9f742f-0500-460e-bf7f-c174cda3b94a",
      "metadata": {
        "id": "fa9f742f-0500-460e-bf7f-c174cda3b94a"
      },
      "source": [
        "Berdasarkan model decision tree dari feature importance untuk memprediksi heart disease, model decision tree tersebut memiliki nilai akurasi memprediksi benar sebesar 76,70%. Dari semua prediksi positif yang dibuat (presisi), 75% benar-benar positif. Dari semua data yang seharusnya positif (recall), model menghasilkan 87,87% benar. Keseimbangan model dapat dilihat dengan F1 score sebesar 80,93%. Model ini lebih besar akurasinya dibandingkan dengan model dengan semua variabel. Model ini tidak memiliki akurasi lebih bagus dibandingkan dengan model korelasi. Pada model ini, yang dipilih adalah 2 variabel tertinggi karena menggunakan acuan PCA. Untuk melihat variabel yang memiliki pengaruh pada model, maka akan memodelkan menggunakan kelima variabel yang tertinggi pada feature importance. Selanjutnya pemodelan decision tree menggunakan variabel cholesterol dan maxHR, restingBP, age dan oldpeak."
      ]
    },
    {
      "cell_type": "code",
      "execution_count": 32,
      "id": "cb289b6d-6c0d-431d-8bd0-dc9f3f8913bc",
      "metadata": {
        "colab": {
          "base_uri": "https://localhost:8080/",
          "height": 0
        },
        "id": "cb289b6d-6c0d-431d-8bd0-dc9f3f8913bc",
        "outputId": "81457fe2-31ca-47f6-af49-29312c0f2098"
      },
      "outputs": [
        {
          "output_type": "stream",
          "name": "stdout",
          "text": [
            "Accuracy: 0.8011363636363636\n",
            "Precision: 0.8478260869565217\n",
            "Recall: 0.7878787878787878\n",
            "F1-Score: 0.8167539267015707\n",
            "AUC-ROC: 0.803030303030303\n"
          ]
        }
      ],
      "source": [
        "df_fi2 = df_no_outliers[['Cholesterol', 'MaxHR','RestingBP','Age','Oldpeak','HeartDisease']]\n",
        "X_fi2 = df_fi2.drop('HeartDisease', axis=1) # matriks variabel independen\n",
        "y_fi2 = df_fi2['HeartDisease'] # vektor target\n",
        "from sklearn.model_selection import train_test_split\n",
        "X_train, X_test, y_train, y_test = train_test_split(X_fi2, y_fi2,test_size=0.2, random_state=42)\n",
        "\n",
        "model = DecisionTreeClassifier(criterion='gini', max_depth=5)\n",
        "\n",
        "model.fit(X_train, y_train)\n",
        "y_pred = model.predict(X_test)\n",
        "\n",
        "# evaluation\n",
        "accuracy = accuracy_score(y_test, y_pred)\n",
        "precision = precision_score(y_test, y_pred)\n",
        "recall = recall_score(y_test, y_pred)\n",
        "f1 = f1_score(y_test, y_pred)\n",
        "auc_roc = roc_auc_score(y_test, y_pred)\n",
        "print(\"Accuracy:\", accuracy)\n",
        "print(\"Precision:\", precision)\n",
        "print(\"Recall:\", recall)\n",
        "print(\"F1-Score:\", f1)\n",
        "print(\"AUC-ROC:\", auc_roc)"
      ]
    },
    {
      "cell_type": "markdown",
      "id": "451c7302-7012-4be5-ae16-24d837a99e45",
      "metadata": {
        "id": "451c7302-7012-4be5-ae16-24d837a99e45"
      },
      "source": [
        "Berdasarkan model decision tree kelima variabel tertinggi dari feature importance untuk memprediksi heart disease, model decision tree tersebut memiliki nilai akurasi memprediksi benar sebesar 80,11%. Dari semua prediksi positif yang dibuat (presisi), 84,78% benar-benar positif. Dari semua data yang seharusnya positif (recall), model menghasilkan 78,78% benar. Keseimbangan model dapat dilihat dengan F1 score sebesar 81,67%. Model ini lebih besar akurasinya dibandingkan dengan model dengan semua variabel. Model feature importance kelima variabel lebih bagus akusasinya dibandingkan semua model yang telah dimodelkan. Sejauh ini, model Decision tree kelima variabel feature importance merupakan model terbaik.\n",
        "\n",
        "Selanjutnya menggunakan variabel semua variabel untuk mencari model terbaik menggunakan `pycaret`."
      ]
    },
    {
      "cell_type": "code",
      "execution_count": 33,
      "id": "d7Qga4U4sfan",
      "metadata": {
        "id": "d7Qga4U4sfan"
      },
      "outputs": [],
      "source": [
        "from pycaret.classification import *"
      ]
    },
    {
      "cell_type": "code",
      "execution_count": 34,
      "id": "b530ac95-0ee1-4db0-b691-6bbb576261bf",
      "metadata": {
        "colab": {
          "base_uri": "https://localhost:8080/",
          "height": 1304,
          "referenced_widgets": [
            "384618214bfb41a6abcb76e8f50f49cc",
            "96198efcc16446c9a677f4dead882e51",
            "01f674448a08458981ebaf4d7c709258",
            "46907054f26847c194d784e6a5613473",
            "854ee8adfa8b491ca34f59c8b6f8e5db",
            "561836735e1b414585ada3a9128b7a9b",
            "136281c5cdcc400db19af6de9dcc73f6",
            "573e98f2af594164bdb037162d8c7e0f",
            "f22e17b7b1cc4a79ac0181755b58293c",
            "48338c66515e43b4869ae979cdc695a1",
            "c04aea339e46415e855609179a1a45bb"
          ]
        },
        "id": "b530ac95-0ee1-4db0-b691-6bbb576261bf",
        "outputId": "3afd0e56-9b25-40e1-9e80-81b8a5da581d"
      },
      "outputs": [
        {
          "output_type": "display_data",
          "data": {
            "text/plain": [
              "<pandas.io.formats.style.Styler at 0x7d24252f3f50>"
            ],
            "text/html": [
              "<style type=\"text/css\">\n",
              "#T_4879d_row8_col1 {\n",
              "  background-color: lightgreen;\n",
              "}\n",
              "</style>\n",
              "<table id=\"T_4879d\" class=\"dataframe\">\n",
              "  <thead>\n",
              "    <tr>\n",
              "      <th class=\"blank level0\" >&nbsp;</th>\n",
              "      <th id=\"T_4879d_level0_col0\" class=\"col_heading level0 col0\" >Description</th>\n",
              "      <th id=\"T_4879d_level0_col1\" class=\"col_heading level0 col1\" >Value</th>\n",
              "    </tr>\n",
              "  </thead>\n",
              "  <tbody>\n",
              "    <tr>\n",
              "      <th id=\"T_4879d_level0_row0\" class=\"row_heading level0 row0\" >0</th>\n",
              "      <td id=\"T_4879d_row0_col0\" class=\"data row0 col0\" >Session id</td>\n",
              "      <td id=\"T_4879d_row0_col1\" class=\"data row0 col1\" >123</td>\n",
              "    </tr>\n",
              "    <tr>\n",
              "      <th id=\"T_4879d_level0_row1\" class=\"row_heading level0 row1\" >1</th>\n",
              "      <td id=\"T_4879d_row1_col0\" class=\"data row1 col0\" >Target</td>\n",
              "      <td id=\"T_4879d_row1_col1\" class=\"data row1 col1\" >HeartDisease</td>\n",
              "    </tr>\n",
              "    <tr>\n",
              "      <th id=\"T_4879d_level0_row2\" class=\"row_heading level0 row2\" >2</th>\n",
              "      <td id=\"T_4879d_row2_col0\" class=\"data row2 col0\" >Target type</td>\n",
              "      <td id=\"T_4879d_row2_col1\" class=\"data row2 col1\" >Binary</td>\n",
              "    </tr>\n",
              "    <tr>\n",
              "      <th id=\"T_4879d_level0_row3\" class=\"row_heading level0 row3\" >3</th>\n",
              "      <td id=\"T_4879d_row3_col0\" class=\"data row3 col0\" >Original data shape</td>\n",
              "      <td id=\"T_4879d_row3_col1\" class=\"data row3 col1\" >(877, 12)</td>\n",
              "    </tr>\n",
              "    <tr>\n",
              "      <th id=\"T_4879d_level0_row4\" class=\"row_heading level0 row4\" >4</th>\n",
              "      <td id=\"T_4879d_row4_col0\" class=\"data row4 col0\" >Transformed data shape</td>\n",
              "      <td id=\"T_4879d_row4_col1\" class=\"data row4 col1\" >(877, 12)</td>\n",
              "    </tr>\n",
              "    <tr>\n",
              "      <th id=\"T_4879d_level0_row5\" class=\"row_heading level0 row5\" >5</th>\n",
              "      <td id=\"T_4879d_row5_col0\" class=\"data row5 col0\" >Transformed train set shape</td>\n",
              "      <td id=\"T_4879d_row5_col1\" class=\"data row5 col1\" >(613, 12)</td>\n",
              "    </tr>\n",
              "    <tr>\n",
              "      <th id=\"T_4879d_level0_row6\" class=\"row_heading level0 row6\" >6</th>\n",
              "      <td id=\"T_4879d_row6_col0\" class=\"data row6 col0\" >Transformed test set shape</td>\n",
              "      <td id=\"T_4879d_row6_col1\" class=\"data row6 col1\" >(264, 12)</td>\n",
              "    </tr>\n",
              "    <tr>\n",
              "      <th id=\"T_4879d_level0_row7\" class=\"row_heading level0 row7\" >7</th>\n",
              "      <td id=\"T_4879d_row7_col0\" class=\"data row7 col0\" >Numeric features</td>\n",
              "      <td id=\"T_4879d_row7_col1\" class=\"data row7 col1\" >11</td>\n",
              "    </tr>\n",
              "    <tr>\n",
              "      <th id=\"T_4879d_level0_row8\" class=\"row_heading level0 row8\" >8</th>\n",
              "      <td id=\"T_4879d_row8_col0\" class=\"data row8 col0\" >Preprocess</td>\n",
              "      <td id=\"T_4879d_row8_col1\" class=\"data row8 col1\" >True</td>\n",
              "    </tr>\n",
              "    <tr>\n",
              "      <th id=\"T_4879d_level0_row9\" class=\"row_heading level0 row9\" >9</th>\n",
              "      <td id=\"T_4879d_row9_col0\" class=\"data row9 col0\" >Imputation type</td>\n",
              "      <td id=\"T_4879d_row9_col1\" class=\"data row9 col1\" >simple</td>\n",
              "    </tr>\n",
              "    <tr>\n",
              "      <th id=\"T_4879d_level0_row10\" class=\"row_heading level0 row10\" >10</th>\n",
              "      <td id=\"T_4879d_row10_col0\" class=\"data row10 col0\" >Numeric imputation</td>\n",
              "      <td id=\"T_4879d_row10_col1\" class=\"data row10 col1\" >mean</td>\n",
              "    </tr>\n",
              "    <tr>\n",
              "      <th id=\"T_4879d_level0_row11\" class=\"row_heading level0 row11\" >11</th>\n",
              "      <td id=\"T_4879d_row11_col0\" class=\"data row11 col0\" >Categorical imputation</td>\n",
              "      <td id=\"T_4879d_row11_col1\" class=\"data row11 col1\" >mode</td>\n",
              "    </tr>\n",
              "    <tr>\n",
              "      <th id=\"T_4879d_level0_row12\" class=\"row_heading level0 row12\" >12</th>\n",
              "      <td id=\"T_4879d_row12_col0\" class=\"data row12 col0\" >Fold Generator</td>\n",
              "      <td id=\"T_4879d_row12_col1\" class=\"data row12 col1\" >StratifiedKFold</td>\n",
              "    </tr>\n",
              "    <tr>\n",
              "      <th id=\"T_4879d_level0_row13\" class=\"row_heading level0 row13\" >13</th>\n",
              "      <td id=\"T_4879d_row13_col0\" class=\"data row13 col0\" >Fold Number</td>\n",
              "      <td id=\"T_4879d_row13_col1\" class=\"data row13 col1\" >10</td>\n",
              "    </tr>\n",
              "    <tr>\n",
              "      <th id=\"T_4879d_level0_row14\" class=\"row_heading level0 row14\" >14</th>\n",
              "      <td id=\"T_4879d_row14_col0\" class=\"data row14 col0\" >CPU Jobs</td>\n",
              "      <td id=\"T_4879d_row14_col1\" class=\"data row14 col1\" >-1</td>\n",
              "    </tr>\n",
              "    <tr>\n",
              "      <th id=\"T_4879d_level0_row15\" class=\"row_heading level0 row15\" >15</th>\n",
              "      <td id=\"T_4879d_row15_col0\" class=\"data row15 col0\" >Use GPU</td>\n",
              "      <td id=\"T_4879d_row15_col1\" class=\"data row15 col1\" >False</td>\n",
              "    </tr>\n",
              "    <tr>\n",
              "      <th id=\"T_4879d_level0_row16\" class=\"row_heading level0 row16\" >16</th>\n",
              "      <td id=\"T_4879d_row16_col0\" class=\"data row16 col0\" >Log Experiment</td>\n",
              "      <td id=\"T_4879d_row16_col1\" class=\"data row16 col1\" >False</td>\n",
              "    </tr>\n",
              "    <tr>\n",
              "      <th id=\"T_4879d_level0_row17\" class=\"row_heading level0 row17\" >17</th>\n",
              "      <td id=\"T_4879d_row17_col0\" class=\"data row17 col0\" >Experiment Name</td>\n",
              "      <td id=\"T_4879d_row17_col1\" class=\"data row17 col1\" >clf-default-name</td>\n",
              "    </tr>\n",
              "    <tr>\n",
              "      <th id=\"T_4879d_level0_row18\" class=\"row_heading level0 row18\" >18</th>\n",
              "      <td id=\"T_4879d_row18_col0\" class=\"data row18 col0\" >USI</td>\n",
              "      <td id=\"T_4879d_row18_col1\" class=\"data row18 col1\" >d0d0</td>\n",
              "    </tr>\n",
              "  </tbody>\n",
              "</table>\n"
            ]
          },
          "metadata": {}
        },
        {
          "output_type": "display_data",
          "data": {
            "text/plain": [
              "<IPython.core.display.HTML object>"
            ],
            "text/html": []
          },
          "metadata": {}
        },
        {
          "output_type": "display_data",
          "data": {
            "text/plain": [
              "<pandas.io.formats.style.Styler at 0x7d2423fe9850>"
            ],
            "text/html": [
              "<style type=\"text/css\">\n",
              "#T_e68b3 th {\n",
              "  text-align: left;\n",
              "}\n",
              "#T_e68b3_row0_col0, #T_e68b3_row0_col2, #T_e68b3_row0_col3, #T_e68b3_row0_col4, #T_e68b3_row1_col0, #T_e68b3_row1_col1, #T_e68b3_row1_col2, #T_e68b3_row1_col3, #T_e68b3_row1_col4, #T_e68b3_row1_col5, #T_e68b3_row1_col6, #T_e68b3_row1_col7, #T_e68b3_row2_col0, #T_e68b3_row2_col1, #T_e68b3_row2_col2, #T_e68b3_row2_col3, #T_e68b3_row2_col5, #T_e68b3_row2_col6, #T_e68b3_row2_col7, #T_e68b3_row3_col0, #T_e68b3_row3_col1, #T_e68b3_row3_col2, #T_e68b3_row3_col3, #T_e68b3_row3_col4, #T_e68b3_row3_col5, #T_e68b3_row3_col6, #T_e68b3_row3_col7, #T_e68b3_row4_col0, #T_e68b3_row4_col1, #T_e68b3_row4_col3, #T_e68b3_row4_col4, #T_e68b3_row4_col5, #T_e68b3_row4_col6, #T_e68b3_row4_col7, #T_e68b3_row5_col0, #T_e68b3_row5_col1, #T_e68b3_row5_col2, #T_e68b3_row5_col3, #T_e68b3_row5_col4, #T_e68b3_row5_col5, #T_e68b3_row5_col6, #T_e68b3_row5_col7, #T_e68b3_row6_col0, #T_e68b3_row6_col1, #T_e68b3_row6_col2, #T_e68b3_row6_col3, #T_e68b3_row6_col4, #T_e68b3_row6_col5, #T_e68b3_row6_col6, #T_e68b3_row6_col7, #T_e68b3_row7_col0, #T_e68b3_row7_col1, #T_e68b3_row7_col2, #T_e68b3_row7_col3, #T_e68b3_row7_col4, #T_e68b3_row7_col5, #T_e68b3_row7_col6, #T_e68b3_row7_col7, #T_e68b3_row8_col0, #T_e68b3_row8_col1, #T_e68b3_row8_col2, #T_e68b3_row8_col3, #T_e68b3_row8_col4, #T_e68b3_row8_col5, #T_e68b3_row8_col6, #T_e68b3_row8_col7, #T_e68b3_row9_col0, #T_e68b3_row9_col1, #T_e68b3_row9_col2, #T_e68b3_row9_col3, #T_e68b3_row9_col4, #T_e68b3_row9_col5, #T_e68b3_row9_col6, #T_e68b3_row9_col7, #T_e68b3_row10_col0, #T_e68b3_row10_col1, #T_e68b3_row10_col2, #T_e68b3_row10_col3, #T_e68b3_row10_col4, #T_e68b3_row10_col5, #T_e68b3_row10_col6, #T_e68b3_row10_col7, #T_e68b3_row11_col0, #T_e68b3_row11_col1, #T_e68b3_row11_col2, #T_e68b3_row11_col3, #T_e68b3_row11_col4, #T_e68b3_row11_col5, #T_e68b3_row11_col6, #T_e68b3_row11_col7, #T_e68b3_row12_col0, #T_e68b3_row12_col1, #T_e68b3_row12_col2, #T_e68b3_row12_col3, #T_e68b3_row12_col4, #T_e68b3_row12_col5, #T_e68b3_row12_col6, #T_e68b3_row12_col7, #T_e68b3_row13_col0, #T_e68b3_row13_col1, #T_e68b3_row13_col2, #T_e68b3_row13_col3, #T_e68b3_row13_col4, #T_e68b3_row13_col5, #T_e68b3_row13_col6, #T_e68b3_row13_col7, #T_e68b3_row14_col0, #T_e68b3_row14_col1, #T_e68b3_row14_col2, #T_e68b3_row14_col4, #T_e68b3_row14_col5, #T_e68b3_row14_col6, #T_e68b3_row14_col7 {\n",
              "  text-align: left;\n",
              "}\n",
              "#T_e68b3_row0_col1, #T_e68b3_row0_col5, #T_e68b3_row0_col6, #T_e68b3_row0_col7, #T_e68b3_row2_col4, #T_e68b3_row4_col2, #T_e68b3_row14_col3 {\n",
              "  text-align: left;\n",
              "  background-color: yellow;\n",
              "}\n",
              "#T_e68b3_row0_col8, #T_e68b3_row1_col8, #T_e68b3_row2_col8, #T_e68b3_row3_col8, #T_e68b3_row4_col8, #T_e68b3_row5_col8, #T_e68b3_row6_col8, #T_e68b3_row7_col8, #T_e68b3_row8_col8, #T_e68b3_row9_col8, #T_e68b3_row10_col8, #T_e68b3_row11_col8, #T_e68b3_row12_col8, #T_e68b3_row13_col8 {\n",
              "  text-align: left;\n",
              "  background-color: lightgrey;\n",
              "}\n",
              "#T_e68b3_row14_col8 {\n",
              "  text-align: left;\n",
              "  background-color: yellow;\n",
              "  background-color: lightgrey;\n",
              "}\n",
              "</style>\n",
              "<table id=\"T_e68b3\" class=\"dataframe\">\n",
              "  <thead>\n",
              "    <tr>\n",
              "      <th class=\"blank level0\" >&nbsp;</th>\n",
              "      <th id=\"T_e68b3_level0_col0\" class=\"col_heading level0 col0\" >Model</th>\n",
              "      <th id=\"T_e68b3_level0_col1\" class=\"col_heading level0 col1\" >Accuracy</th>\n",
              "      <th id=\"T_e68b3_level0_col2\" class=\"col_heading level0 col2\" >AUC</th>\n",
              "      <th id=\"T_e68b3_level0_col3\" class=\"col_heading level0 col3\" >Recall</th>\n",
              "      <th id=\"T_e68b3_level0_col4\" class=\"col_heading level0 col4\" >Prec.</th>\n",
              "      <th id=\"T_e68b3_level0_col5\" class=\"col_heading level0 col5\" >F1</th>\n",
              "      <th id=\"T_e68b3_level0_col6\" class=\"col_heading level0 col6\" >Kappa</th>\n",
              "      <th id=\"T_e68b3_level0_col7\" class=\"col_heading level0 col7\" >MCC</th>\n",
              "      <th id=\"T_e68b3_level0_col8\" class=\"col_heading level0 col8\" >TT (Sec)</th>\n",
              "    </tr>\n",
              "  </thead>\n",
              "  <tbody>\n",
              "    <tr>\n",
              "      <th id=\"T_e68b3_level0_row0\" class=\"row_heading level0 row0\" >gbc</th>\n",
              "      <td id=\"T_e68b3_row0_col0\" class=\"data row0 col0\" >Gradient Boosting Classifier</td>\n",
              "      <td id=\"T_e68b3_row0_col1\" class=\"data row0 col1\" >0.8725</td>\n",
              "      <td id=\"T_e68b3_row0_col2\" class=\"data row0 col2\" >0.9218</td>\n",
              "      <td id=\"T_e68b3_row0_col3\" class=\"data row0 col3\" >0.9040</td>\n",
              "      <td id=\"T_e68b3_row0_col4\" class=\"data row0 col4\" >0.8694</td>\n",
              "      <td id=\"T_e68b3_row0_col5\" class=\"data row0 col5\" >0.8849</td>\n",
              "      <td id=\"T_e68b3_row0_col6\" class=\"data row0 col6\" >0.7419</td>\n",
              "      <td id=\"T_e68b3_row0_col7\" class=\"data row0 col7\" >0.7455</td>\n",
              "      <td id=\"T_e68b3_row0_col8\" class=\"data row0 col8\" >0.1560</td>\n",
              "    </tr>\n",
              "    <tr>\n",
              "      <th id=\"T_e68b3_level0_row1\" class=\"row_heading level0 row1\" >rf</th>\n",
              "      <td id=\"T_e68b3_row1_col0\" class=\"data row1 col0\" >Random Forest Classifier</td>\n",
              "      <td id=\"T_e68b3_row1_col1\" class=\"data row1 col1\" >0.8661</td>\n",
              "      <td id=\"T_e68b3_row1_col2\" class=\"data row1 col2\" >0.9219</td>\n",
              "      <td id=\"T_e68b3_row1_col3\" class=\"data row1 col3\" >0.8889</td>\n",
              "      <td id=\"T_e68b3_row1_col4\" class=\"data row1 col4\" >0.8710</td>\n",
              "      <td id=\"T_e68b3_row1_col5\" class=\"data row1 col5\" >0.8772</td>\n",
              "      <td id=\"T_e68b3_row1_col6\" class=\"data row1 col6\" >0.7294</td>\n",
              "      <td id=\"T_e68b3_row1_col7\" class=\"data row1 col7\" >0.7347</td>\n",
              "      <td id=\"T_e68b3_row1_col8\" class=\"data row1 col8\" >0.5130</td>\n",
              "    </tr>\n",
              "    <tr>\n",
              "      <th id=\"T_e68b3_level0_row2\" class=\"row_heading level0 row2\" >lightgbm</th>\n",
              "      <td id=\"T_e68b3_row2_col0\" class=\"data row2 col0\" >Light Gradient Boosting Machine</td>\n",
              "      <td id=\"T_e68b3_row2_col1\" class=\"data row2 col1\" >0.8660</td>\n",
              "      <td id=\"T_e68b3_row2_col2\" class=\"data row2 col2\" >0.9215</td>\n",
              "      <td id=\"T_e68b3_row2_col3\" class=\"data row2 col3\" >0.8830</td>\n",
              "      <td id=\"T_e68b3_row2_col4\" class=\"data row2 col4\" >0.8778</td>\n",
              "      <td id=\"T_e68b3_row2_col5\" class=\"data row2 col5\" >0.8774</td>\n",
              "      <td id=\"T_e68b3_row2_col6\" class=\"data row2 col6\" >0.7293</td>\n",
              "      <td id=\"T_e68b3_row2_col7\" class=\"data row2 col7\" >0.7344</td>\n",
              "      <td id=\"T_e68b3_row2_col8\" class=\"data row2 col8\" >0.5460</td>\n",
              "    </tr>\n",
              "    <tr>\n",
              "      <th id=\"T_e68b3_level0_row3\" class=\"row_heading level0 row3\" >xgboost</th>\n",
              "      <td id=\"T_e68b3_row3_col0\" class=\"data row3 col0\" >Extreme Gradient Boosting</td>\n",
              "      <td id=\"T_e68b3_row3_col1\" class=\"data row3 col1\" >0.8644</td>\n",
              "      <td id=\"T_e68b3_row3_col2\" class=\"data row3 col2\" >0.9204</td>\n",
              "      <td id=\"T_e68b3_row3_col3\" class=\"data row3 col3\" >0.9070</td>\n",
              "      <td id=\"T_e68b3_row3_col4\" class=\"data row3 col4\" >0.8593</td>\n",
              "      <td id=\"T_e68b3_row3_col5\" class=\"data row3 col5\" >0.8792</td>\n",
              "      <td id=\"T_e68b3_row3_col6\" class=\"data row3 col6\" >0.7244</td>\n",
              "      <td id=\"T_e68b3_row3_col7\" class=\"data row3 col7\" >0.7324</td>\n",
              "      <td id=\"T_e68b3_row3_col8\" class=\"data row3 col8\" >0.1210</td>\n",
              "    </tr>\n",
              "    <tr>\n",
              "      <th id=\"T_e68b3_level0_row4\" class=\"row_heading level0 row4\" >et</th>\n",
              "      <td id=\"T_e68b3_row4_col0\" class=\"data row4 col0\" >Extra Trees Classifier</td>\n",
              "      <td id=\"T_e68b3_row4_col1\" class=\"data row4 col1\" >0.8613</td>\n",
              "      <td id=\"T_e68b3_row4_col2\" class=\"data row4 col2\" >0.9225</td>\n",
              "      <td id=\"T_e68b3_row4_col3\" class=\"data row4 col3\" >0.8772</td>\n",
              "      <td id=\"T_e68b3_row4_col4\" class=\"data row4 col4\" >0.8719</td>\n",
              "      <td id=\"T_e68b3_row4_col5\" class=\"data row4 col5\" >0.8713</td>\n",
              "      <td id=\"T_e68b3_row4_col6\" class=\"data row4 col6\" >0.7203</td>\n",
              "      <td id=\"T_e68b3_row4_col7\" class=\"data row4 col7\" >0.7257</td>\n",
              "      <td id=\"T_e68b3_row4_col8\" class=\"data row4 col8\" >0.2120</td>\n",
              "    </tr>\n",
              "    <tr>\n",
              "      <th id=\"T_e68b3_level0_row5\" class=\"row_heading level0 row5\" >ada</th>\n",
              "      <td id=\"T_e68b3_row5_col0\" class=\"data row5 col0\" >Ada Boost Classifier</td>\n",
              "      <td id=\"T_e68b3_row5_col1\" class=\"data row5 col1\" >0.8563</td>\n",
              "      <td id=\"T_e68b3_row5_col2\" class=\"data row5 col2\" >0.9001</td>\n",
              "      <td id=\"T_e68b3_row5_col3\" class=\"data row5 col3\" >0.8770</td>\n",
              "      <td id=\"T_e68b3_row5_col4\" class=\"data row5 col4\" >0.8645</td>\n",
              "      <td id=\"T_e68b3_row5_col5\" class=\"data row5 col5\" >0.8688</td>\n",
              "      <td id=\"T_e68b3_row5_col6\" class=\"data row5 col6\" >0.7096</td>\n",
              "      <td id=\"T_e68b3_row5_col7\" class=\"data row5 col7\" >0.7130</td>\n",
              "      <td id=\"T_e68b3_row5_col8\" class=\"data row5 col8\" >0.2170</td>\n",
              "    </tr>\n",
              "    <tr>\n",
              "      <th id=\"T_e68b3_level0_row6\" class=\"row_heading level0 row6\" >lr</th>\n",
              "      <td id=\"T_e68b3_row6_col0\" class=\"data row6 col0\" >Logistic Regression</td>\n",
              "      <td id=\"T_e68b3_row6_col1\" class=\"data row6 col1\" >0.8465</td>\n",
              "      <td id=\"T_e68b3_row6_col2\" class=\"data row6 col2\" >0.9067</td>\n",
              "      <td id=\"T_e68b3_row6_col3\" class=\"data row6 col3\" >0.8594</td>\n",
              "      <td id=\"T_e68b3_row6_col4\" class=\"data row6 col4\" >0.8645</td>\n",
              "      <td id=\"T_e68b3_row6_col5\" class=\"data row6 col5\" >0.8590</td>\n",
              "      <td id=\"T_e68b3_row6_col6\" class=\"data row6 col6\" >0.6902</td>\n",
              "      <td id=\"T_e68b3_row6_col7\" class=\"data row6 col7\" >0.6954</td>\n",
              "      <td id=\"T_e68b3_row6_col8\" class=\"data row6 col8\" >1.2240</td>\n",
              "    </tr>\n",
              "    <tr>\n",
              "      <th id=\"T_e68b3_level0_row7\" class=\"row_heading level0 row7\" >ridge</th>\n",
              "      <td id=\"T_e68b3_row7_col0\" class=\"data row7 col0\" >Ridge Classifier</td>\n",
              "      <td id=\"T_e68b3_row7_col1\" class=\"data row7 col1\" >0.8432</td>\n",
              "      <td id=\"T_e68b3_row7_col2\" class=\"data row7 col2\" >0.9064</td>\n",
              "      <td id=\"T_e68b3_row7_col3\" class=\"data row7 col3\" >0.8562</td>\n",
              "      <td id=\"T_e68b3_row7_col4\" class=\"data row7 col4\" >0.8614</td>\n",
              "      <td id=\"T_e68b3_row7_col5\" class=\"data row7 col5\" >0.8554</td>\n",
              "      <td id=\"T_e68b3_row7_col6\" class=\"data row7 col6\" >0.6838</td>\n",
              "      <td id=\"T_e68b3_row7_col7\" class=\"data row7 col7\" >0.6900</td>\n",
              "      <td id=\"T_e68b3_row7_col8\" class=\"data row7 col8\" >0.0550</td>\n",
              "    </tr>\n",
              "    <tr>\n",
              "      <th id=\"T_e68b3_level0_row8\" class=\"row_heading level0 row8\" >lda</th>\n",
              "      <td id=\"T_e68b3_row8_col0\" class=\"data row8 col0\" >Linear Discriminant Analysis</td>\n",
              "      <td id=\"T_e68b3_row8_col1\" class=\"data row8 col1\" >0.8432</td>\n",
              "      <td id=\"T_e68b3_row8_col2\" class=\"data row8 col2\" >0.9060</td>\n",
              "      <td id=\"T_e68b3_row8_col3\" class=\"data row8 col3\" >0.8562</td>\n",
              "      <td id=\"T_e68b3_row8_col4\" class=\"data row8 col4\" >0.8614</td>\n",
              "      <td id=\"T_e68b3_row8_col5\" class=\"data row8 col5\" >0.8554</td>\n",
              "      <td id=\"T_e68b3_row8_col6\" class=\"data row8 col6\" >0.6838</td>\n",
              "      <td id=\"T_e68b3_row8_col7\" class=\"data row8 col7\" >0.6900</td>\n",
              "      <td id=\"T_e68b3_row8_col8\" class=\"data row8 col8\" >0.0280</td>\n",
              "    </tr>\n",
              "    <tr>\n",
              "      <th id=\"T_e68b3_level0_row9\" class=\"row_heading level0 row9\" >nb</th>\n",
              "      <td id=\"T_e68b3_row9_col0\" class=\"data row9 col0\" >Naive Bayes</td>\n",
              "      <td id=\"T_e68b3_row9_col1\" class=\"data row9 col1\" >0.8416</td>\n",
              "      <td id=\"T_e68b3_row9_col2\" class=\"data row9 col2\" >0.9077</td>\n",
              "      <td id=\"T_e68b3_row9_col3\" class=\"data row9 col3\" >0.8472</td>\n",
              "      <td id=\"T_e68b3_row9_col4\" class=\"data row9 col4\" >0.8647</td>\n",
              "      <td id=\"T_e68b3_row9_col5\" class=\"data row9 col5\" >0.8536</td>\n",
              "      <td id=\"T_e68b3_row9_col6\" class=\"data row9 col6\" >0.6807</td>\n",
              "      <td id=\"T_e68b3_row9_col7\" class=\"data row9 col7\" >0.6844</td>\n",
              "      <td id=\"T_e68b3_row9_col8\" class=\"data row9 col8\" >0.0430</td>\n",
              "    </tr>\n",
              "    <tr>\n",
              "      <th id=\"T_e68b3_level0_row10\" class=\"row_heading level0 row10\" >qda</th>\n",
              "      <td id=\"T_e68b3_row10_col0\" class=\"data row10 col0\" >Quadratic Discriminant Analysis</td>\n",
              "      <td id=\"T_e68b3_row10_col1\" class=\"data row10 col1\" >0.8336</td>\n",
              "      <td id=\"T_e68b3_row10_col2\" class=\"data row10 col2\" >0.9092</td>\n",
              "      <td id=\"T_e68b3_row10_col3\" class=\"data row10 col3\" >0.8535</td>\n",
              "      <td id=\"T_e68b3_row10_col4\" class=\"data row10 col4\" >0.8451</td>\n",
              "      <td id=\"T_e68b3_row10_col5\" class=\"data row10 col5\" >0.8478</td>\n",
              "      <td id=\"T_e68b3_row10_col6\" class=\"data row10 col6\" >0.6637</td>\n",
              "      <td id=\"T_e68b3_row10_col7\" class=\"data row10 col7\" >0.6663</td>\n",
              "      <td id=\"T_e68b3_row10_col8\" class=\"data row10 col8\" >0.0560</td>\n",
              "    </tr>\n",
              "    <tr>\n",
              "      <th id=\"T_e68b3_level0_row11\" class=\"row_heading level0 row11\" >dt</th>\n",
              "      <td id=\"T_e68b3_row11_col0\" class=\"data row11 col0\" >Decision Tree Classifier</td>\n",
              "      <td id=\"T_e68b3_row11_col1\" class=\"data row11 col1\" >0.7895</td>\n",
              "      <td id=\"T_e68b3_row11_col2\" class=\"data row11 col2\" >0.7858</td>\n",
              "      <td id=\"T_e68b3_row11_col3\" class=\"data row11 col3\" >0.8198</td>\n",
              "      <td id=\"T_e68b3_row11_col4\" class=\"data row11 col4\" >0.8022</td>\n",
              "      <td id=\"T_e68b3_row11_col5\" class=\"data row11 col5\" >0.8077</td>\n",
              "      <td id=\"T_e68b3_row11_col6\" class=\"data row11 col6\" >0.5742</td>\n",
              "      <td id=\"T_e68b3_row11_col7\" class=\"data row11 col7\" >0.5805</td>\n",
              "      <td id=\"T_e68b3_row11_col8\" class=\"data row11 col8\" >0.0690</td>\n",
              "    </tr>\n",
              "    <tr>\n",
              "      <th id=\"T_e68b3_level0_row12\" class=\"row_heading level0 row12\" >svm</th>\n",
              "      <td id=\"T_e68b3_row12_col0\" class=\"data row12 col0\" >SVM - Linear Kernel</td>\n",
              "      <td id=\"T_e68b3_row12_col1\" class=\"data row12 col1\" >0.7050</td>\n",
              "      <td id=\"T_e68b3_row12_col2\" class=\"data row12 col2\" >0.8059</td>\n",
              "      <td id=\"T_e68b3_row12_col3\" class=\"data row12 col3\" >0.8256</td>\n",
              "      <td id=\"T_e68b3_row12_col4\" class=\"data row12 col4\" >0.7152</td>\n",
              "      <td id=\"T_e68b3_row12_col5\" class=\"data row12 col5\" >0.7455</td>\n",
              "      <td id=\"T_e68b3_row12_col6\" class=\"data row12 col6\" >0.3900</td>\n",
              "      <td id=\"T_e68b3_row12_col7\" class=\"data row12 col7\" >0.4330</td>\n",
              "      <td id=\"T_e68b3_row12_col8\" class=\"data row12 col8\" >0.0730</td>\n",
              "    </tr>\n",
              "    <tr>\n",
              "      <th id=\"T_e68b3_level0_row13\" class=\"row_heading level0 row13\" >knn</th>\n",
              "      <td id=\"T_e68b3_row13_col0\" class=\"data row13 col0\" >K Neighbors Classifier</td>\n",
              "      <td id=\"T_e68b3_row13_col1\" class=\"data row13 col1\" >0.6981</td>\n",
              "      <td id=\"T_e68b3_row13_col2\" class=\"data row13 col2\" >0.7353</td>\n",
              "      <td id=\"T_e68b3_row13_col3\" class=\"data row13 col3\" >0.7431</td>\n",
              "      <td id=\"T_e68b3_row13_col4\" class=\"data row13 col4\" >0.7165</td>\n",
              "      <td id=\"T_e68b3_row13_col5\" class=\"data row13 col5\" >0.7284</td>\n",
              "      <td id=\"T_e68b3_row13_col6\" class=\"data row13 col6\" >0.3881</td>\n",
              "      <td id=\"T_e68b3_row13_col7\" class=\"data row13 col7\" >0.3902</td>\n",
              "      <td id=\"T_e68b3_row13_col8\" class=\"data row13 col8\" >0.1100</td>\n",
              "    </tr>\n",
              "    <tr>\n",
              "      <th id=\"T_e68b3_level0_row14\" class=\"row_heading level0 row14\" >dummy</th>\n",
              "      <td id=\"T_e68b3_row14_col0\" class=\"data row14 col0\" >Dummy Classifier</td>\n",
              "      <td id=\"T_e68b3_row14_col1\" class=\"data row14 col1\" >0.5465</td>\n",
              "      <td id=\"T_e68b3_row14_col2\" class=\"data row14 col2\" >0.5000</td>\n",
              "      <td id=\"T_e68b3_row14_col3\" class=\"data row14 col3\" >1.0000</td>\n",
              "      <td id=\"T_e68b3_row14_col4\" class=\"data row14 col4\" >0.5465</td>\n",
              "      <td id=\"T_e68b3_row14_col5\" class=\"data row14 col5\" >0.7067</td>\n",
              "      <td id=\"T_e68b3_row14_col6\" class=\"data row14 col6\" >0.0000</td>\n",
              "      <td id=\"T_e68b3_row14_col7\" class=\"data row14 col7\" >0.0000</td>\n",
              "      <td id=\"T_e68b3_row14_col8\" class=\"data row14 col8\" >0.0240</td>\n",
              "    </tr>\n",
              "  </tbody>\n",
              "</table>\n"
            ]
          },
          "metadata": {}
        },
        {
          "output_type": "display_data",
          "data": {
            "text/plain": [
              "Processing:   0%|          | 0/65 [00:00<?, ?it/s]"
            ],
            "application/vnd.jupyter.widget-view+json": {
              "version_major": 2,
              "version_minor": 0,
              "model_id": "384618214bfb41a6abcb76e8f50f49cc"
            }
          },
          "metadata": {
            "application/vnd.jupyter.widget-view+json": {
              "colab": {
                "custom_widget_manager": {
                  "url": "https://ssl.gstatic.com/colaboratory-static/widgets/colab-cdn-widget-manager/2b70e893a8ba7c0f/manager.min.js"
                }
              }
            }
          }
        },
        {
          "output_type": "display_data",
          "data": {
            "text/plain": [
              "<IPython.core.display.HTML object>"
            ],
            "text/html": []
          },
          "metadata": {}
        },
        {
          "output_type": "stream",
          "name": "stdout",
          "text": [
            "GradientBoostingClassifier(ccp_alpha=0.0, criterion='friedman_mse', init=None,\n",
            "                           learning_rate=0.1, loss='log_loss', max_depth=3,\n",
            "                           max_features=None, max_leaf_nodes=None,\n",
            "                           min_impurity_decrease=0.0, min_samples_leaf=1,\n",
            "                           min_samples_split=2, min_weight_fraction_leaf=0.0,\n",
            "                           n_estimators=100, n_iter_no_change=None,\n",
            "                           random_state=123, subsample=1.0, tol=0.0001,\n",
            "                           validation_fraction=0.1, verbose=0,\n",
            "                           warm_start=False)\n"
          ]
        }
      ],
      "source": [
        "clf = setup(data=df_no_outliers, target='HeartDisease', session_id=123)\n",
        "\n",
        "# Bandingkan model dan pilih yang terbaik\n",
        "best_model = compare_models()\n",
        "\n",
        "# Tampilkan hasil evaluasi model terbaik\n",
        "print(best_model)"
      ]
    },
    {
      "cell_type": "markdown",
      "id": "cfc4b66b-7517-4120-a103-a6a60d4f9e7e",
      "metadata": {
        "id": "cfc4b66b-7517-4120-a103-a6a60d4f9e7e"
      },
      "source": [
        "Berdasarkan model klasifikasi menggunakan `pycaret` pada semua model, model yang terbaik secara akurasi adalah model gradient boosting classification sebesar 87,25%. Model berhasil menangkap 90,40% dari semua data positif yang sebenarnya (recall). Dari semua prediksi positif yang dibuat model, 86,94% benar-benar positif (precision), menunjukkan bahwa model juga tidak banyak menghasilkan false positives. Dan model memiliki keseimbangan yang baik sebesar 88,49%.\n",
        "Sejauh ini, model ini merupakan yang terbaik. Untuk membuat model dengan variabel lain, model tersebut dilihat feature importancenya, dan memilih nilai yang besar."
      ]
    },
    {
      "cell_type": "code",
      "execution_count": 35,
      "id": "4d1bc4c2-052a-45c4-9d41-3098ddc39534",
      "metadata": {
        "id": "4d1bc4c2-052a-45c4-9d41-3098ddc39534"
      },
      "outputs": [],
      "source": [
        "#pip install pycaret"
      ]
    },
    {
      "cell_type": "code",
      "execution_count": 36,
      "id": "pfKKKo8_vEFe",
      "metadata": {
        "colab": {
          "base_uri": "https://localhost:8080/",
          "height": 0
        },
        "id": "pfKKKo8_vEFe",
        "outputId": "55226437-0906-48d9-c132-d364db18bbcb"
      },
      "outputs": [
        {
          "output_type": "execute_result",
          "data": {
            "text/plain": [
              "array([0.02024646, 0.04762322, 0.14820456, 0.02023663, 0.10079747,\n",
              "       0.03700058, 0.01136456, 0.10812609, 0.04563866, 0.08523982,\n",
              "       0.37552196])"
            ]
          },
          "metadata": {},
          "execution_count": 36
        }
      ],
      "source": [
        "best_model.feature_importances_"
      ]
    },
    {
      "cell_type": "code",
      "execution_count": 37,
      "id": "mE7ZoReRvQEv",
      "metadata": {
        "colab": {
          "base_uri": "https://localhost:8080/",
          "height": 0
        },
        "id": "mE7ZoReRvQEv",
        "outputId": "0d981787-1e26-4e6a-df66-e17e2860ce31"
      },
      "outputs": [
        {
          "output_type": "execute_result",
          "data": {
            "text/plain": [
              "array(['Age', 'Sex', 'ChestPainType', 'RestingBP', 'Cholesterol',\n",
              "       'FastingBS', 'RestingECG', 'MaxHR', 'ExerciseAngina', 'Oldpeak',\n",
              "       'ST_Slope'], dtype=object)"
            ]
          },
          "metadata": {},
          "execution_count": 37
        }
      ],
      "source": [
        "best_model.feature_names_in_"
      ]
    },
    {
      "cell_type": "markdown",
      "id": "639a1a55-fbef-4746-a181-fd936e18a8f2",
      "metadata": {
        "id": "639a1a55-fbef-4746-a181-fd936e18a8f2"
      },
      "source": [
        "Berdasarkan feature importance pada model tersebut, akan membuat model baru menggunakan `pycaret` juga. Variabel yang memiliki nilai feature importance lebih dari 0,1 adalah chest pain type, cholesterol, maxHR, oldpeak dan st slope. Berikut pemodelan dengan kelima variabel tersebut."
      ]
    },
    {
      "cell_type": "code",
      "execution_count": 38,
      "id": "hTAll4gfxKl8",
      "metadata": {
        "colab": {
          "base_uri": "https://localhost:8080/",
          "height": 1304,
          "referenced_widgets": [
            "2442e68659674203b5eeef10c037c4ce",
            "874d21221a004109b7b4c113c5d0b711",
            "da5e38ee1ebc4860910daa04c625e5d9",
            "522d06588fc84f449eff521322a79f2d",
            "c4d9add6a0364e5a8cdc74d483a43bf4",
            "f8e3ef0471a74847bd974df5e7bc8fa2",
            "9f0ff22aee894ba6919afc3fd7229896",
            "f8ff290ae3f34fa0a8678a3af9e1d033",
            "9aacdb66bea049c0b833cc999dc50144",
            "666836e68faa4ed19ffaf6b2bb24ef91",
            "9d10f01a595c4c37b09261a977251ea7"
          ]
        },
        "id": "hTAll4gfxKl8",
        "outputId": "bf517531-51d3-46eb-9801-794c984a4c68"
      },
      "outputs": [
        {
          "output_type": "display_data",
          "data": {
            "text/plain": [
              "<pandas.io.formats.style.Styler at 0x7d24254ded10>"
            ],
            "text/html": [
              "<style type=\"text/css\">\n",
              "#T_ad63c_row8_col1 {\n",
              "  background-color: lightgreen;\n",
              "}\n",
              "</style>\n",
              "<table id=\"T_ad63c\" class=\"dataframe\">\n",
              "  <thead>\n",
              "    <tr>\n",
              "      <th class=\"blank level0\" >&nbsp;</th>\n",
              "      <th id=\"T_ad63c_level0_col0\" class=\"col_heading level0 col0\" >Description</th>\n",
              "      <th id=\"T_ad63c_level0_col1\" class=\"col_heading level0 col1\" >Value</th>\n",
              "    </tr>\n",
              "  </thead>\n",
              "  <tbody>\n",
              "    <tr>\n",
              "      <th id=\"T_ad63c_level0_row0\" class=\"row_heading level0 row0\" >0</th>\n",
              "      <td id=\"T_ad63c_row0_col0\" class=\"data row0 col0\" >Session id</td>\n",
              "      <td id=\"T_ad63c_row0_col1\" class=\"data row0 col1\" >123</td>\n",
              "    </tr>\n",
              "    <tr>\n",
              "      <th id=\"T_ad63c_level0_row1\" class=\"row_heading level0 row1\" >1</th>\n",
              "      <td id=\"T_ad63c_row1_col0\" class=\"data row1 col0\" >Target</td>\n",
              "      <td id=\"T_ad63c_row1_col1\" class=\"data row1 col1\" >HeartDisease</td>\n",
              "    </tr>\n",
              "    <tr>\n",
              "      <th id=\"T_ad63c_level0_row2\" class=\"row_heading level0 row2\" >2</th>\n",
              "      <td id=\"T_ad63c_row2_col0\" class=\"data row2 col0\" >Target type</td>\n",
              "      <td id=\"T_ad63c_row2_col1\" class=\"data row2 col1\" >Binary</td>\n",
              "    </tr>\n",
              "    <tr>\n",
              "      <th id=\"T_ad63c_level0_row3\" class=\"row_heading level0 row3\" >3</th>\n",
              "      <td id=\"T_ad63c_row3_col0\" class=\"data row3 col0\" >Original data shape</td>\n",
              "      <td id=\"T_ad63c_row3_col1\" class=\"data row3 col1\" >(877, 6)</td>\n",
              "    </tr>\n",
              "    <tr>\n",
              "      <th id=\"T_ad63c_level0_row4\" class=\"row_heading level0 row4\" >4</th>\n",
              "      <td id=\"T_ad63c_row4_col0\" class=\"data row4 col0\" >Transformed data shape</td>\n",
              "      <td id=\"T_ad63c_row4_col1\" class=\"data row4 col1\" >(877, 6)</td>\n",
              "    </tr>\n",
              "    <tr>\n",
              "      <th id=\"T_ad63c_level0_row5\" class=\"row_heading level0 row5\" >5</th>\n",
              "      <td id=\"T_ad63c_row5_col0\" class=\"data row5 col0\" >Transformed train set shape</td>\n",
              "      <td id=\"T_ad63c_row5_col1\" class=\"data row5 col1\" >(613, 6)</td>\n",
              "    </tr>\n",
              "    <tr>\n",
              "      <th id=\"T_ad63c_level0_row6\" class=\"row_heading level0 row6\" >6</th>\n",
              "      <td id=\"T_ad63c_row6_col0\" class=\"data row6 col0\" >Transformed test set shape</td>\n",
              "      <td id=\"T_ad63c_row6_col1\" class=\"data row6 col1\" >(264, 6)</td>\n",
              "    </tr>\n",
              "    <tr>\n",
              "      <th id=\"T_ad63c_level0_row7\" class=\"row_heading level0 row7\" >7</th>\n",
              "      <td id=\"T_ad63c_row7_col0\" class=\"data row7 col0\" >Numeric features</td>\n",
              "      <td id=\"T_ad63c_row7_col1\" class=\"data row7 col1\" >5</td>\n",
              "    </tr>\n",
              "    <tr>\n",
              "      <th id=\"T_ad63c_level0_row8\" class=\"row_heading level0 row8\" >8</th>\n",
              "      <td id=\"T_ad63c_row8_col0\" class=\"data row8 col0\" >Preprocess</td>\n",
              "      <td id=\"T_ad63c_row8_col1\" class=\"data row8 col1\" >True</td>\n",
              "    </tr>\n",
              "    <tr>\n",
              "      <th id=\"T_ad63c_level0_row9\" class=\"row_heading level0 row9\" >9</th>\n",
              "      <td id=\"T_ad63c_row9_col0\" class=\"data row9 col0\" >Imputation type</td>\n",
              "      <td id=\"T_ad63c_row9_col1\" class=\"data row9 col1\" >simple</td>\n",
              "    </tr>\n",
              "    <tr>\n",
              "      <th id=\"T_ad63c_level0_row10\" class=\"row_heading level0 row10\" >10</th>\n",
              "      <td id=\"T_ad63c_row10_col0\" class=\"data row10 col0\" >Numeric imputation</td>\n",
              "      <td id=\"T_ad63c_row10_col1\" class=\"data row10 col1\" >mean</td>\n",
              "    </tr>\n",
              "    <tr>\n",
              "      <th id=\"T_ad63c_level0_row11\" class=\"row_heading level0 row11\" >11</th>\n",
              "      <td id=\"T_ad63c_row11_col0\" class=\"data row11 col0\" >Categorical imputation</td>\n",
              "      <td id=\"T_ad63c_row11_col1\" class=\"data row11 col1\" >mode</td>\n",
              "    </tr>\n",
              "    <tr>\n",
              "      <th id=\"T_ad63c_level0_row12\" class=\"row_heading level0 row12\" >12</th>\n",
              "      <td id=\"T_ad63c_row12_col0\" class=\"data row12 col0\" >Fold Generator</td>\n",
              "      <td id=\"T_ad63c_row12_col1\" class=\"data row12 col1\" >StratifiedKFold</td>\n",
              "    </tr>\n",
              "    <tr>\n",
              "      <th id=\"T_ad63c_level0_row13\" class=\"row_heading level0 row13\" >13</th>\n",
              "      <td id=\"T_ad63c_row13_col0\" class=\"data row13 col0\" >Fold Number</td>\n",
              "      <td id=\"T_ad63c_row13_col1\" class=\"data row13 col1\" >10</td>\n",
              "    </tr>\n",
              "    <tr>\n",
              "      <th id=\"T_ad63c_level0_row14\" class=\"row_heading level0 row14\" >14</th>\n",
              "      <td id=\"T_ad63c_row14_col0\" class=\"data row14 col0\" >CPU Jobs</td>\n",
              "      <td id=\"T_ad63c_row14_col1\" class=\"data row14 col1\" >-1</td>\n",
              "    </tr>\n",
              "    <tr>\n",
              "      <th id=\"T_ad63c_level0_row15\" class=\"row_heading level0 row15\" >15</th>\n",
              "      <td id=\"T_ad63c_row15_col0\" class=\"data row15 col0\" >Use GPU</td>\n",
              "      <td id=\"T_ad63c_row15_col1\" class=\"data row15 col1\" >False</td>\n",
              "    </tr>\n",
              "    <tr>\n",
              "      <th id=\"T_ad63c_level0_row16\" class=\"row_heading level0 row16\" >16</th>\n",
              "      <td id=\"T_ad63c_row16_col0\" class=\"data row16 col0\" >Log Experiment</td>\n",
              "      <td id=\"T_ad63c_row16_col1\" class=\"data row16 col1\" >False</td>\n",
              "    </tr>\n",
              "    <tr>\n",
              "      <th id=\"T_ad63c_level0_row17\" class=\"row_heading level0 row17\" >17</th>\n",
              "      <td id=\"T_ad63c_row17_col0\" class=\"data row17 col0\" >Experiment Name</td>\n",
              "      <td id=\"T_ad63c_row17_col1\" class=\"data row17 col1\" >clf-default-name</td>\n",
              "    </tr>\n",
              "    <tr>\n",
              "      <th id=\"T_ad63c_level0_row18\" class=\"row_heading level0 row18\" >18</th>\n",
              "      <td id=\"T_ad63c_row18_col0\" class=\"data row18 col0\" >USI</td>\n",
              "      <td id=\"T_ad63c_row18_col1\" class=\"data row18 col1\" >bbac</td>\n",
              "    </tr>\n",
              "  </tbody>\n",
              "</table>\n"
            ]
          },
          "metadata": {}
        },
        {
          "output_type": "display_data",
          "data": {
            "text/plain": [
              "<IPython.core.display.HTML object>"
            ],
            "text/html": []
          },
          "metadata": {}
        },
        {
          "output_type": "display_data",
          "data": {
            "text/plain": [
              "<pandas.io.formats.style.Styler at 0x7d2424743f90>"
            ],
            "text/html": [
              "<style type=\"text/css\">\n",
              "#T_126de th {\n",
              "  text-align: left;\n",
              "}\n",
              "#T_126de_row0_col0, #T_126de_row0_col3, #T_126de_row0_col4, #T_126de_row1_col0, #T_126de_row1_col1, #T_126de_row1_col2, #T_126de_row1_col3, #T_126de_row1_col4, #T_126de_row1_col5, #T_126de_row1_col6, #T_126de_row1_col7, #T_126de_row2_col0, #T_126de_row2_col1, #T_126de_row2_col2, #T_126de_row2_col3, #T_126de_row2_col4, #T_126de_row2_col5, #T_126de_row2_col6, #T_126de_row2_col7, #T_126de_row3_col0, #T_126de_row3_col1, #T_126de_row3_col2, #T_126de_row3_col3, #T_126de_row3_col4, #T_126de_row3_col5, #T_126de_row3_col6, #T_126de_row3_col7, #T_126de_row4_col0, #T_126de_row4_col1, #T_126de_row4_col2, #T_126de_row4_col3, #T_126de_row4_col4, #T_126de_row4_col5, #T_126de_row4_col6, #T_126de_row4_col7, #T_126de_row5_col0, #T_126de_row5_col1, #T_126de_row5_col2, #T_126de_row5_col3, #T_126de_row5_col4, #T_126de_row5_col5, #T_126de_row5_col6, #T_126de_row5_col7, #T_126de_row6_col0, #T_126de_row6_col1, #T_126de_row6_col2, #T_126de_row6_col3, #T_126de_row6_col4, #T_126de_row6_col5, #T_126de_row6_col6, #T_126de_row6_col7, #T_126de_row7_col0, #T_126de_row7_col1, #T_126de_row7_col2, #T_126de_row7_col3, #T_126de_row7_col5, #T_126de_row7_col6, #T_126de_row7_col7, #T_126de_row8_col0, #T_126de_row8_col1, #T_126de_row8_col2, #T_126de_row8_col3, #T_126de_row8_col5, #T_126de_row8_col6, #T_126de_row8_col7, #T_126de_row9_col0, #T_126de_row9_col1, #T_126de_row9_col2, #T_126de_row9_col3, #T_126de_row9_col4, #T_126de_row9_col5, #T_126de_row9_col6, #T_126de_row9_col7, #T_126de_row10_col0, #T_126de_row10_col1, #T_126de_row10_col2, #T_126de_row10_col3, #T_126de_row10_col4, #T_126de_row10_col5, #T_126de_row10_col6, #T_126de_row10_col7, #T_126de_row11_col0, #T_126de_row11_col1, #T_126de_row11_col2, #T_126de_row11_col3, #T_126de_row11_col4, #T_126de_row11_col5, #T_126de_row11_col6, #T_126de_row11_col7, #T_126de_row12_col0, #T_126de_row12_col1, #T_126de_row12_col2, #T_126de_row12_col3, #T_126de_row12_col4, #T_126de_row12_col5, #T_126de_row12_col6, #T_126de_row12_col7, #T_126de_row13_col0, #T_126de_row13_col1, #T_126de_row13_col2, #T_126de_row13_col3, #T_126de_row13_col4, #T_126de_row13_col5, #T_126de_row13_col6, #T_126de_row13_col7, #T_126de_row14_col0, #T_126de_row14_col1, #T_126de_row14_col2, #T_126de_row14_col4, #T_126de_row14_col5, #T_126de_row14_col6, #T_126de_row14_col7 {\n",
              "  text-align: left;\n",
              "}\n",
              "#T_126de_row0_col1, #T_126de_row0_col2, #T_126de_row0_col5, #T_126de_row0_col6, #T_126de_row0_col7, #T_126de_row7_col4, #T_126de_row8_col4, #T_126de_row14_col3 {\n",
              "  text-align: left;\n",
              "  background-color: yellow;\n",
              "}\n",
              "#T_126de_row0_col8, #T_126de_row1_col8, #T_126de_row2_col8, #T_126de_row4_col8, #T_126de_row5_col8, #T_126de_row6_col8, #T_126de_row7_col8, #T_126de_row8_col8, #T_126de_row9_col8, #T_126de_row10_col8, #T_126de_row11_col8, #T_126de_row12_col8, #T_126de_row13_col8, #T_126de_row14_col8 {\n",
              "  text-align: left;\n",
              "  background-color: lightgrey;\n",
              "}\n",
              "#T_126de_row3_col8 {\n",
              "  text-align: left;\n",
              "  background-color: yellow;\n",
              "  background-color: lightgrey;\n",
              "}\n",
              "</style>\n",
              "<table id=\"T_126de\" class=\"dataframe\">\n",
              "  <thead>\n",
              "    <tr>\n",
              "      <th class=\"blank level0\" >&nbsp;</th>\n",
              "      <th id=\"T_126de_level0_col0\" class=\"col_heading level0 col0\" >Model</th>\n",
              "      <th id=\"T_126de_level0_col1\" class=\"col_heading level0 col1\" >Accuracy</th>\n",
              "      <th id=\"T_126de_level0_col2\" class=\"col_heading level0 col2\" >AUC</th>\n",
              "      <th id=\"T_126de_level0_col3\" class=\"col_heading level0 col3\" >Recall</th>\n",
              "      <th id=\"T_126de_level0_col4\" class=\"col_heading level0 col4\" >Prec.</th>\n",
              "      <th id=\"T_126de_level0_col5\" class=\"col_heading level0 col5\" >F1</th>\n",
              "      <th id=\"T_126de_level0_col6\" class=\"col_heading level0 col6\" >Kappa</th>\n",
              "      <th id=\"T_126de_level0_col7\" class=\"col_heading level0 col7\" >MCC</th>\n",
              "      <th id=\"T_126de_level0_col8\" class=\"col_heading level0 col8\" >TT (Sec)</th>\n",
              "    </tr>\n",
              "  </thead>\n",
              "  <tbody>\n",
              "    <tr>\n",
              "      <th id=\"T_126de_level0_row0\" class=\"row_heading level0 row0\" >gbc</th>\n",
              "      <td id=\"T_126de_row0_col0\" class=\"data row0 col0\" >Gradient Boosting Classifier</td>\n",
              "      <td id=\"T_126de_row0_col1\" class=\"data row0 col1\" >0.8432</td>\n",
              "      <td id=\"T_126de_row0_col2\" class=\"data row0 col2\" >0.9081</td>\n",
              "      <td id=\"T_126de_row0_col3\" class=\"data row0 col3\" >0.8767</td>\n",
              "      <td id=\"T_126de_row0_col4\" class=\"data row0 col4\" >0.8450</td>\n",
              "      <td id=\"T_126de_row0_col5\" class=\"data row0 col5\" >0.8580</td>\n",
              "      <td id=\"T_126de_row0_col6\" class=\"data row0 col6\" >0.6823</td>\n",
              "      <td id=\"T_126de_row0_col7\" class=\"data row0 col7\" >0.6880</td>\n",
              "      <td id=\"T_126de_row0_col8\" class=\"data row0 col8\" >0.1360</td>\n",
              "    </tr>\n",
              "    <tr>\n",
              "      <th id=\"T_126de_level0_row1\" class=\"row_heading level0 row1\" >rf</th>\n",
              "      <td id=\"T_126de_row1_col0\" class=\"data row1 col0\" >Random Forest Classifier</td>\n",
              "      <td id=\"T_126de_row1_col1\" class=\"data row1 col1\" >0.8399</td>\n",
              "      <td id=\"T_126de_row1_col2\" class=\"data row1 col2\" >0.8999</td>\n",
              "      <td id=\"T_126de_row1_col3\" class=\"data row1 col3\" >0.8797</td>\n",
              "      <td id=\"T_126de_row1_col4\" class=\"data row1 col4\" >0.8396</td>\n",
              "      <td id=\"T_126de_row1_col5\" class=\"data row1 col5\" >0.8567</td>\n",
              "      <td id=\"T_126de_row1_col6\" class=\"data row1 col6\" >0.6749</td>\n",
              "      <td id=\"T_126de_row1_col7\" class=\"data row1 col7\" >0.6812</td>\n",
              "      <td id=\"T_126de_row1_col8\" class=\"data row1 col8\" >0.2280</td>\n",
              "    </tr>\n",
              "    <tr>\n",
              "      <th id=\"T_126de_level0_row2\" class=\"row_heading level0 row2\" >lightgbm</th>\n",
              "      <td id=\"T_126de_row2_col0\" class=\"data row2 col0\" >Light Gradient Boosting Machine</td>\n",
              "      <td id=\"T_126de_row2_col1\" class=\"data row2 col1\" >0.8399</td>\n",
              "      <td id=\"T_126de_row2_col2\" class=\"data row2 col2\" >0.9007</td>\n",
              "      <td id=\"T_126de_row2_col3\" class=\"data row2 col3\" >0.8831</td>\n",
              "      <td id=\"T_126de_row2_col4\" class=\"data row2 col4\" >0.8360</td>\n",
              "      <td id=\"T_126de_row2_col5\" class=\"data row2 col5\" >0.8572</td>\n",
              "      <td id=\"T_126de_row2_col6\" class=\"data row2 col6\" >0.6751</td>\n",
              "      <td id=\"T_126de_row2_col7\" class=\"data row2 col7\" >0.6805</td>\n",
              "      <td id=\"T_126de_row2_col8\" class=\"data row2 col8\" >0.5130</td>\n",
              "    </tr>\n",
              "    <tr>\n",
              "      <th id=\"T_126de_level0_row3\" class=\"row_heading level0 row3\" >qda</th>\n",
              "      <td id=\"T_126de_row3_col0\" class=\"data row3 col0\" >Quadratic Discriminant Analysis</td>\n",
              "      <td id=\"T_126de_row3_col1\" class=\"data row3 col1\" >0.8335</td>\n",
              "      <td id=\"T_126de_row3_col2\" class=\"data row3 col2\" >0.8958</td>\n",
              "      <td id=\"T_126de_row3_col3\" class=\"data row3 col3\" >0.8713</td>\n",
              "      <td id=\"T_126de_row3_col4\" class=\"data row3 col4\" >0.8351</td>\n",
              "      <td id=\"T_126de_row3_col5\" class=\"data row3 col5\" >0.8513</td>\n",
              "      <td id=\"T_126de_row3_col6\" class=\"data row3 col6\" >0.6620</td>\n",
              "      <td id=\"T_126de_row3_col7\" class=\"data row3 col7\" >0.6657</td>\n",
              "      <td id=\"T_126de_row3_col8\" class=\"data row3 col8\" >0.0240</td>\n",
              "    </tr>\n",
              "    <tr>\n",
              "      <th id=\"T_126de_level0_row4\" class=\"row_heading level0 row4\" >nb</th>\n",
              "      <td id=\"T_126de_row4_col0\" class=\"data row4 col0\" >Naive Bayes</td>\n",
              "      <td id=\"T_126de_row4_col1\" class=\"data row4 col1\" >0.8317</td>\n",
              "      <td id=\"T_126de_row4_col2\" class=\"data row4 col2\" >0.8885</td>\n",
              "      <td id=\"T_126de_row4_col3\" class=\"data row4 col3\" >0.8561</td>\n",
              "      <td id=\"T_126de_row4_col4\" class=\"data row4 col4\" >0.8433</td>\n",
              "      <td id=\"T_126de_row4_col5\" class=\"data row4 col5\" >0.8475</td>\n",
              "      <td id=\"T_126de_row4_col6\" class=\"data row4 col6\" >0.6593</td>\n",
              "      <td id=\"T_126de_row4_col7\" class=\"data row4 col7\" >0.6635</td>\n",
              "      <td id=\"T_126de_row4_col8\" class=\"data row4 col8\" >0.0250</td>\n",
              "    </tr>\n",
              "    <tr>\n",
              "      <th id=\"T_126de_level0_row5\" class=\"row_heading level0 row5\" >lr</th>\n",
              "      <td id=\"T_126de_row5_col0\" class=\"data row5 col0\" >Logistic Regression</td>\n",
              "      <td id=\"T_126de_row5_col1\" class=\"data row5 col1\" >0.8253</td>\n",
              "      <td id=\"T_126de_row5_col2\" class=\"data row5 col2\" >0.8866</td>\n",
              "      <td id=\"T_126de_row5_col3\" class=\"data row5 col3\" >0.8445</td>\n",
              "      <td id=\"T_126de_row5_col4\" class=\"data row5 col4\" >0.8426</td>\n",
              "      <td id=\"T_126de_row5_col5\" class=\"data row5 col5\" >0.8413</td>\n",
              "      <td id=\"T_126de_row5_col6\" class=\"data row5 col6\" >0.6466</td>\n",
              "      <td id=\"T_126de_row5_col7\" class=\"data row5 col7\" >0.6508</td>\n",
              "      <td id=\"T_126de_row5_col8\" class=\"data row5 col8\" >0.0380</td>\n",
              "    </tr>\n",
              "    <tr>\n",
              "      <th id=\"T_126de_level0_row6\" class=\"row_heading level0 row6\" >xgboost</th>\n",
              "      <td id=\"T_126de_row6_col0\" class=\"data row6 col0\" >Extreme Gradient Boosting</td>\n",
              "      <td id=\"T_126de_row6_col1\" class=\"data row6 col1\" >0.8253</td>\n",
              "      <td id=\"T_126de_row6_col2\" class=\"data row6 col2\" >0.8926</td>\n",
              "      <td id=\"T_126de_row6_col3\" class=\"data row6 col3\" >0.8472</td>\n",
              "      <td id=\"T_126de_row6_col4\" class=\"data row6 col4\" >0.8374</td>\n",
              "      <td id=\"T_126de_row6_col5\" class=\"data row6 col5\" >0.8407</td>\n",
              "      <td id=\"T_126de_row6_col6\" class=\"data row6 col6\" >0.6469</td>\n",
              "      <td id=\"T_126de_row6_col7\" class=\"data row6 col7\" >0.6504</td>\n",
              "      <td id=\"T_126de_row6_col8\" class=\"data row6 col8\" >0.0620</td>\n",
              "    </tr>\n",
              "    <tr>\n",
              "      <th id=\"T_126de_level0_row7\" class=\"row_heading level0 row7\" >ridge</th>\n",
              "      <td id=\"T_126de_row7_col0\" class=\"data row7 col0\" >Ridge Classifier</td>\n",
              "      <td id=\"T_126de_row7_col1\" class=\"data row7 col1\" >0.8236</td>\n",
              "      <td id=\"T_126de_row7_col2\" class=\"data row7 col2\" >0.8879</td>\n",
              "      <td id=\"T_126de_row7_col3\" class=\"data row7 col3\" >0.8384</td>\n",
              "      <td id=\"T_126de_row7_col4\" class=\"data row7 col4\" >0.8454</td>\n",
              "      <td id=\"T_126de_row7_col5\" class=\"data row7 col5\" >0.8389</td>\n",
              "      <td id=\"T_126de_row7_col6\" class=\"data row7 col6\" >0.6436</td>\n",
              "      <td id=\"T_126de_row7_col7\" class=\"data row7 col7\" >0.6489</td>\n",
              "      <td id=\"T_126de_row7_col8\" class=\"data row7 col8\" >0.0440</td>\n",
              "    </tr>\n",
              "    <tr>\n",
              "      <th id=\"T_126de_level0_row8\" class=\"row_heading level0 row8\" >lda</th>\n",
              "      <td id=\"T_126de_row8_col0\" class=\"data row8 col0\" >Linear Discriminant Analysis</td>\n",
              "      <td id=\"T_126de_row8_col1\" class=\"data row8 col1\" >0.8236</td>\n",
              "      <td id=\"T_126de_row8_col2\" class=\"data row8 col2\" >0.8881</td>\n",
              "      <td id=\"T_126de_row8_col3\" class=\"data row8 col3\" >0.8384</td>\n",
              "      <td id=\"T_126de_row8_col4\" class=\"data row8 col4\" >0.8454</td>\n",
              "      <td id=\"T_126de_row8_col5\" class=\"data row8 col5\" >0.8389</td>\n",
              "      <td id=\"T_126de_row8_col6\" class=\"data row8 col6\" >0.6436</td>\n",
              "      <td id=\"T_126de_row8_col7\" class=\"data row8 col7\" >0.6489</td>\n",
              "      <td id=\"T_126de_row8_col8\" class=\"data row8 col8\" >0.0250</td>\n",
              "    </tr>\n",
              "    <tr>\n",
              "      <th id=\"T_126de_level0_row9\" class=\"row_heading level0 row9\" >ada</th>\n",
              "      <td id=\"T_126de_row9_col0\" class=\"data row9 col0\" >Ada Boost Classifier</td>\n",
              "      <td id=\"T_126de_row9_col1\" class=\"data row9 col1\" >0.8204</td>\n",
              "      <td id=\"T_126de_row9_col2\" class=\"data row9 col2\" >0.8757</td>\n",
              "      <td id=\"T_126de_row9_col3\" class=\"data row9 col3\" >0.8354</td>\n",
              "      <td id=\"T_126de_row9_col4\" class=\"data row9 col4\" >0.8370</td>\n",
              "      <td id=\"T_126de_row9_col5\" class=\"data row9 col5\" >0.8357</td>\n",
              "      <td id=\"T_126de_row9_col6\" class=\"data row9 col6\" >0.6373</td>\n",
              "      <td id=\"T_126de_row9_col7\" class=\"data row9 col7\" >0.6383</td>\n",
              "      <td id=\"T_126de_row9_col8\" class=\"data row9 col8\" >0.1110</td>\n",
              "    </tr>\n",
              "    <tr>\n",
              "      <th id=\"T_126de_level0_row10\" class=\"row_heading level0 row10\" >et</th>\n",
              "      <td id=\"T_126de_row10_col0\" class=\"data row10 col0\" >Extra Trees Classifier</td>\n",
              "      <td id=\"T_126de_row10_col1\" class=\"data row10 col1\" >0.8204</td>\n",
              "      <td id=\"T_126de_row10_col2\" class=\"data row10 col2\" >0.8961</td>\n",
              "      <td id=\"T_126de_row10_col3\" class=\"data row10 col3\" >0.8561</td>\n",
              "      <td id=\"T_126de_row10_col4\" class=\"data row10 col4\" >0.8267</td>\n",
              "      <td id=\"T_126de_row10_col5\" class=\"data row10 col5\" >0.8389</td>\n",
              "      <td id=\"T_126de_row10_col6\" class=\"data row10 col6\" >0.6356</td>\n",
              "      <td id=\"T_126de_row10_col7\" class=\"data row10 col7\" >0.6404</td>\n",
              "      <td id=\"T_126de_row10_col8\" class=\"data row10 col8\" >0.1750</td>\n",
              "    </tr>\n",
              "    <tr>\n",
              "      <th id=\"T_126de_level0_row11\" class=\"row_heading level0 row11\" >dt</th>\n",
              "      <td id=\"T_126de_row11_col0\" class=\"data row11 col0\" >Decision Tree Classifier</td>\n",
              "      <td id=\"T_126de_row11_col1\" class=\"data row11 col1\" >0.7632</td>\n",
              "      <td id=\"T_126de_row11_col2\" class=\"data row11 col2\" >0.7604</td>\n",
              "      <td id=\"T_126de_row11_col3\" class=\"data row11 col3\" >0.7904</td>\n",
              "      <td id=\"T_126de_row11_col4\" class=\"data row11 col4\" >0.7817</td>\n",
              "      <td id=\"T_126de_row11_col5\" class=\"data row11 col5\" >0.7843</td>\n",
              "      <td id=\"T_126de_row11_col6\" class=\"data row11 col6\" >0.5216</td>\n",
              "      <td id=\"T_126de_row11_col7\" class=\"data row11 col7\" >0.5248</td>\n",
              "      <td id=\"T_126de_row11_col8\" class=\"data row11 col8\" >0.0360</td>\n",
              "    </tr>\n",
              "    <tr>\n",
              "      <th id=\"T_126de_level0_row12\" class=\"row_heading level0 row12\" >knn</th>\n",
              "      <td id=\"T_126de_row12_col0\" class=\"data row12 col0\" >K Neighbors Classifier</td>\n",
              "      <td id=\"T_126de_row12_col1\" class=\"data row12 col1\" >0.7017</td>\n",
              "      <td id=\"T_126de_row12_col2\" class=\"data row12 col2\" >0.7367</td>\n",
              "      <td id=\"T_126de_row12_col3\" class=\"data row12 col3\" >0.7342</td>\n",
              "      <td id=\"T_126de_row12_col4\" class=\"data row12 col4\" >0.7267</td>\n",
              "      <td id=\"T_126de_row12_col5\" class=\"data row12 col5\" >0.7289</td>\n",
              "      <td id=\"T_126de_row12_col6\" class=\"data row12 col6\" >0.3967</td>\n",
              "      <td id=\"T_126de_row12_col7\" class=\"data row12 col7\" >0.3987</td>\n",
              "      <td id=\"T_126de_row12_col8\" class=\"data row12 col8\" >0.0410</td>\n",
              "    </tr>\n",
              "    <tr>\n",
              "      <th id=\"T_126de_level0_row13\" class=\"row_heading level0 row13\" >svm</th>\n",
              "      <td id=\"T_126de_row13_col0\" class=\"data row13 col0\" >SVM - Linear Kernel</td>\n",
              "      <td id=\"T_126de_row13_col1\" class=\"data row13 col1\" >0.5514</td>\n",
              "      <td id=\"T_126de_row13_col2\" class=\"data row13 col2\" >0.8012</td>\n",
              "      <td id=\"T_126de_row13_col3\" class=\"data row13 col3\" >0.5135</td>\n",
              "      <td id=\"T_126de_row13_col4\" class=\"data row13 col4\" >0.4800</td>\n",
              "      <td id=\"T_126de_row13_col5\" class=\"data row13 col5\" >0.4303</td>\n",
              "      <td id=\"T_126de_row13_col6\" class=\"data row13 col6\" >0.1060</td>\n",
              "      <td id=\"T_126de_row13_col7\" class=\"data row13 col7\" >0.1473</td>\n",
              "      <td id=\"T_126de_row13_col8\" class=\"data row13 col8\" >0.0470</td>\n",
              "    </tr>\n",
              "    <tr>\n",
              "      <th id=\"T_126de_level0_row14\" class=\"row_heading level0 row14\" >dummy</th>\n",
              "      <td id=\"T_126de_row14_col0\" class=\"data row14 col0\" >Dummy Classifier</td>\n",
              "      <td id=\"T_126de_row14_col1\" class=\"data row14 col1\" >0.5465</td>\n",
              "      <td id=\"T_126de_row14_col2\" class=\"data row14 col2\" >0.5000</td>\n",
              "      <td id=\"T_126de_row14_col3\" class=\"data row14 col3\" >1.0000</td>\n",
              "      <td id=\"T_126de_row14_col4\" class=\"data row14 col4\" >0.5465</td>\n",
              "      <td id=\"T_126de_row14_col5\" class=\"data row14 col5\" >0.7067</td>\n",
              "      <td id=\"T_126de_row14_col6\" class=\"data row14 col6\" >0.0000</td>\n",
              "      <td id=\"T_126de_row14_col7\" class=\"data row14 col7\" >0.0000</td>\n",
              "      <td id=\"T_126de_row14_col8\" class=\"data row14 col8\" >0.0250</td>\n",
              "    </tr>\n",
              "  </tbody>\n",
              "</table>\n"
            ]
          },
          "metadata": {}
        },
        {
          "output_type": "display_data",
          "data": {
            "text/plain": [
              "Processing:   0%|          | 0/65 [00:00<?, ?it/s]"
            ],
            "application/vnd.jupyter.widget-view+json": {
              "version_major": 2,
              "version_minor": 0,
              "model_id": "2442e68659674203b5eeef10c037c4ce"
            }
          },
          "metadata": {
            "application/vnd.jupyter.widget-view+json": {
              "colab": {
                "custom_widget_manager": {
                  "url": "https://ssl.gstatic.com/colaboratory-static/widgets/colab-cdn-widget-manager/2b70e893a8ba7c0f/manager.min.js"
                }
              }
            }
          }
        },
        {
          "output_type": "display_data",
          "data": {
            "text/plain": [
              "<IPython.core.display.HTML object>"
            ],
            "text/html": []
          },
          "metadata": {}
        },
        {
          "output_type": "stream",
          "name": "stdout",
          "text": [
            "GradientBoostingClassifier(ccp_alpha=0.0, criterion='friedman_mse', init=None,\n",
            "                           learning_rate=0.1, loss='log_loss', max_depth=3,\n",
            "                           max_features=None, max_leaf_nodes=None,\n",
            "                           min_impurity_decrease=0.0, min_samples_leaf=1,\n",
            "                           min_samples_split=2, min_weight_fraction_leaf=0.0,\n",
            "                           n_estimators=100, n_iter_no_change=None,\n",
            "                           random_state=123, subsample=1.0, tol=0.0001,\n",
            "                           validation_fraction=0.1, verbose=0,\n",
            "                           warm_start=False)\n"
          ]
        }
      ],
      "source": [
        "mfi = df_no_outliers[['ChestPainType', 'Cholesterol', 'MaxHR','Oldpeak','ST_Slope','HeartDisease']]\n",
        "clf = setup(data=mfi , target='HeartDisease', session_id=123)\n",
        "\n",
        "# Bandingkan model dan pilih yang terbaik\n",
        "best_model = compare_models()\n",
        "\n",
        "# Tampilkan hasil evaluasi model terbaik\n",
        "print(best_model)"
      ]
    },
    {
      "cell_type": "markdown",
      "id": "136bad64-1c42-4ec0-9584-ca100fb80ab5",
      "metadata": {
        "id": "136bad64-1c42-4ec0-9584-ca100fb80ab5"
      },
      "source": [
        "Berdasarkan hasil model `pycaret` menggunakan variabel dengan skor feature importance, model yang terbaik yang dihasilkan adalah model klasifikasi dengan greadient boosting classifier dengan akurasi sebesar 84,32%. Model berhasil menangkap 87.7% dari semua data positif yang sebenarnya. Dari semua prediksi positif yang dibuat model, 84.5% benar-benar positif, menunjukkan bahwa model juga tidak banyak menghasilkan false positives. Dan model memiliki keseimbangan yang baik sebesar 85,8%.\n",
        "\n",
        "Model ini secara akurasi lebih buruk dibandingkan dengan model `pycaret` semua variabel. Maka dibandingkan dengan semua model yang telah di buat, model yang terbaik adalah model Gradient Boosting Classifier\tdengan semua variabel yang didapatkan oleh `pycaret`."
      ]
    }
  ],
  "metadata": {
    "colab": {
      "gpuType": "T4",
      "provenance": [],
      "include_colab_link": true
    },
    "kernelspec": {
      "display_name": "Python 3 (ipykernel)",
      "language": "python",
      "name": "python3"
    },
    "language_info": {
      "codemirror_mode": {
        "name": "ipython",
        "version": 3
      },
      "file_extension": ".py",
      "mimetype": "text/x-python",
      "name": "python",
      "nbconvert_exporter": "python",
      "pygments_lexer": "ipython3",
      "version": "3.12.4"
    },
    "widgets": {
      "application/vnd.jupyter.widget-state+json": {
        "384618214bfb41a6abcb76e8f50f49cc": {
          "model_module": "@jupyter-widgets/controls",
          "model_name": "HBoxModel",
          "model_module_version": "1.5.0",
          "state": {
            "_dom_classes": [],
            "_model_module": "@jupyter-widgets/controls",
            "_model_module_version": "1.5.0",
            "_model_name": "HBoxModel",
            "_view_count": null,
            "_view_module": "@jupyter-widgets/controls",
            "_view_module_version": "1.5.0",
            "_view_name": "HBoxView",
            "box_style": "",
            "children": [
              "IPY_MODEL_96198efcc16446c9a677f4dead882e51",
              "IPY_MODEL_01f674448a08458981ebaf4d7c709258",
              "IPY_MODEL_46907054f26847c194d784e6a5613473"
            ],
            "layout": "IPY_MODEL_854ee8adfa8b491ca34f59c8b6f8e5db"
          }
        },
        "96198efcc16446c9a677f4dead882e51": {
          "model_module": "@jupyter-widgets/controls",
          "model_name": "HTMLModel",
          "model_module_version": "1.5.0",
          "state": {
            "_dom_classes": [],
            "_model_module": "@jupyter-widgets/controls",
            "_model_module_version": "1.5.0",
            "_model_name": "HTMLModel",
            "_view_count": null,
            "_view_module": "@jupyter-widgets/controls",
            "_view_module_version": "1.5.0",
            "_view_name": "HTMLView",
            "description": "",
            "description_tooltip": null,
            "layout": "IPY_MODEL_561836735e1b414585ada3a9128b7a9b",
            "placeholder": "​",
            "style": "IPY_MODEL_136281c5cdcc400db19af6de9dcc73f6",
            "value": "Processing: 100%"
          }
        },
        "01f674448a08458981ebaf4d7c709258": {
          "model_module": "@jupyter-widgets/controls",
          "model_name": "FloatProgressModel",
          "model_module_version": "1.5.0",
          "state": {
            "_dom_classes": [],
            "_model_module": "@jupyter-widgets/controls",
            "_model_module_version": "1.5.0",
            "_model_name": "FloatProgressModel",
            "_view_count": null,
            "_view_module": "@jupyter-widgets/controls",
            "_view_module_version": "1.5.0",
            "_view_name": "ProgressView",
            "bar_style": "",
            "description": "",
            "description_tooltip": null,
            "layout": "IPY_MODEL_573e98f2af594164bdb037162d8c7e0f",
            "max": 65,
            "min": 0,
            "orientation": "horizontal",
            "style": "IPY_MODEL_f22e17b7b1cc4a79ac0181755b58293c",
            "value": 65
          }
        },
        "46907054f26847c194d784e6a5613473": {
          "model_module": "@jupyter-widgets/controls",
          "model_name": "HTMLModel",
          "model_module_version": "1.5.0",
          "state": {
            "_dom_classes": [],
            "_model_module": "@jupyter-widgets/controls",
            "_model_module_version": "1.5.0",
            "_model_name": "HTMLModel",
            "_view_count": null,
            "_view_module": "@jupyter-widgets/controls",
            "_view_module_version": "1.5.0",
            "_view_name": "HTMLView",
            "description": "",
            "description_tooltip": null,
            "layout": "IPY_MODEL_48338c66515e43b4869ae979cdc695a1",
            "placeholder": "​",
            "style": "IPY_MODEL_c04aea339e46415e855609179a1a45bb",
            "value": " 65/65 [00:43&lt;00:00,  2.46it/s]"
          }
        },
        "854ee8adfa8b491ca34f59c8b6f8e5db": {
          "model_module": "@jupyter-widgets/base",
          "model_name": "LayoutModel",
          "model_module_version": "1.2.0",
          "state": {
            "_model_module": "@jupyter-widgets/base",
            "_model_module_version": "1.2.0",
            "_model_name": "LayoutModel",
            "_view_count": null,
            "_view_module": "@jupyter-widgets/base",
            "_view_module_version": "1.2.0",
            "_view_name": "LayoutView",
            "align_content": null,
            "align_items": null,
            "align_self": null,
            "border": null,
            "bottom": null,
            "display": null,
            "flex": null,
            "flex_flow": null,
            "grid_area": null,
            "grid_auto_columns": null,
            "grid_auto_flow": null,
            "grid_auto_rows": null,
            "grid_column": null,
            "grid_gap": null,
            "grid_row": null,
            "grid_template_areas": null,
            "grid_template_columns": null,
            "grid_template_rows": null,
            "height": null,
            "justify_content": null,
            "justify_items": null,
            "left": null,
            "margin": null,
            "max_height": null,
            "max_width": null,
            "min_height": null,
            "min_width": null,
            "object_fit": null,
            "object_position": null,
            "order": null,
            "overflow": null,
            "overflow_x": null,
            "overflow_y": null,
            "padding": null,
            "right": null,
            "top": null,
            "visibility": "hidden",
            "width": null
          }
        },
        "561836735e1b414585ada3a9128b7a9b": {
          "model_module": "@jupyter-widgets/base",
          "model_name": "LayoutModel",
          "model_module_version": "1.2.0",
          "state": {
            "_model_module": "@jupyter-widgets/base",
            "_model_module_version": "1.2.0",
            "_model_name": "LayoutModel",
            "_view_count": null,
            "_view_module": "@jupyter-widgets/base",
            "_view_module_version": "1.2.0",
            "_view_name": "LayoutView",
            "align_content": null,
            "align_items": null,
            "align_self": null,
            "border": null,
            "bottom": null,
            "display": null,
            "flex": null,
            "flex_flow": null,
            "grid_area": null,
            "grid_auto_columns": null,
            "grid_auto_flow": null,
            "grid_auto_rows": null,
            "grid_column": null,
            "grid_gap": null,
            "grid_row": null,
            "grid_template_areas": null,
            "grid_template_columns": null,
            "grid_template_rows": null,
            "height": null,
            "justify_content": null,
            "justify_items": null,
            "left": null,
            "margin": null,
            "max_height": null,
            "max_width": null,
            "min_height": null,
            "min_width": null,
            "object_fit": null,
            "object_position": null,
            "order": null,
            "overflow": null,
            "overflow_x": null,
            "overflow_y": null,
            "padding": null,
            "right": null,
            "top": null,
            "visibility": null,
            "width": null
          }
        },
        "136281c5cdcc400db19af6de9dcc73f6": {
          "model_module": "@jupyter-widgets/controls",
          "model_name": "DescriptionStyleModel",
          "model_module_version": "1.5.0",
          "state": {
            "_model_module": "@jupyter-widgets/controls",
            "_model_module_version": "1.5.0",
            "_model_name": "DescriptionStyleModel",
            "_view_count": null,
            "_view_module": "@jupyter-widgets/base",
            "_view_module_version": "1.2.0",
            "_view_name": "StyleView",
            "description_width": ""
          }
        },
        "573e98f2af594164bdb037162d8c7e0f": {
          "model_module": "@jupyter-widgets/base",
          "model_name": "LayoutModel",
          "model_module_version": "1.2.0",
          "state": {
            "_model_module": "@jupyter-widgets/base",
            "_model_module_version": "1.2.0",
            "_model_name": "LayoutModel",
            "_view_count": null,
            "_view_module": "@jupyter-widgets/base",
            "_view_module_version": "1.2.0",
            "_view_name": "LayoutView",
            "align_content": null,
            "align_items": null,
            "align_self": null,
            "border": null,
            "bottom": null,
            "display": null,
            "flex": null,
            "flex_flow": null,
            "grid_area": null,
            "grid_auto_columns": null,
            "grid_auto_flow": null,
            "grid_auto_rows": null,
            "grid_column": null,
            "grid_gap": null,
            "grid_row": null,
            "grid_template_areas": null,
            "grid_template_columns": null,
            "grid_template_rows": null,
            "height": null,
            "justify_content": null,
            "justify_items": null,
            "left": null,
            "margin": null,
            "max_height": null,
            "max_width": null,
            "min_height": null,
            "min_width": null,
            "object_fit": null,
            "object_position": null,
            "order": null,
            "overflow": null,
            "overflow_x": null,
            "overflow_y": null,
            "padding": null,
            "right": null,
            "top": null,
            "visibility": null,
            "width": null
          }
        },
        "f22e17b7b1cc4a79ac0181755b58293c": {
          "model_module": "@jupyter-widgets/controls",
          "model_name": "ProgressStyleModel",
          "model_module_version": "1.5.0",
          "state": {
            "_model_module": "@jupyter-widgets/controls",
            "_model_module_version": "1.5.0",
            "_model_name": "ProgressStyleModel",
            "_view_count": null,
            "_view_module": "@jupyter-widgets/base",
            "_view_module_version": "1.2.0",
            "_view_name": "StyleView",
            "bar_color": null,
            "description_width": ""
          }
        },
        "48338c66515e43b4869ae979cdc695a1": {
          "model_module": "@jupyter-widgets/base",
          "model_name": "LayoutModel",
          "model_module_version": "1.2.0",
          "state": {
            "_model_module": "@jupyter-widgets/base",
            "_model_module_version": "1.2.0",
            "_model_name": "LayoutModel",
            "_view_count": null,
            "_view_module": "@jupyter-widgets/base",
            "_view_module_version": "1.2.0",
            "_view_name": "LayoutView",
            "align_content": null,
            "align_items": null,
            "align_self": null,
            "border": null,
            "bottom": null,
            "display": null,
            "flex": null,
            "flex_flow": null,
            "grid_area": null,
            "grid_auto_columns": null,
            "grid_auto_flow": null,
            "grid_auto_rows": null,
            "grid_column": null,
            "grid_gap": null,
            "grid_row": null,
            "grid_template_areas": null,
            "grid_template_columns": null,
            "grid_template_rows": null,
            "height": null,
            "justify_content": null,
            "justify_items": null,
            "left": null,
            "margin": null,
            "max_height": null,
            "max_width": null,
            "min_height": null,
            "min_width": null,
            "object_fit": null,
            "object_position": null,
            "order": null,
            "overflow": null,
            "overflow_x": null,
            "overflow_y": null,
            "padding": null,
            "right": null,
            "top": null,
            "visibility": null,
            "width": null
          }
        },
        "c04aea339e46415e855609179a1a45bb": {
          "model_module": "@jupyter-widgets/controls",
          "model_name": "DescriptionStyleModel",
          "model_module_version": "1.5.0",
          "state": {
            "_model_module": "@jupyter-widgets/controls",
            "_model_module_version": "1.5.0",
            "_model_name": "DescriptionStyleModel",
            "_view_count": null,
            "_view_module": "@jupyter-widgets/base",
            "_view_module_version": "1.2.0",
            "_view_name": "StyleView",
            "description_width": ""
          }
        },
        "2442e68659674203b5eeef10c037c4ce": {
          "model_module": "@jupyter-widgets/controls",
          "model_name": "HBoxModel",
          "model_module_version": "1.5.0",
          "state": {
            "_dom_classes": [],
            "_model_module": "@jupyter-widgets/controls",
            "_model_module_version": "1.5.0",
            "_model_name": "HBoxModel",
            "_view_count": null,
            "_view_module": "@jupyter-widgets/controls",
            "_view_module_version": "1.5.0",
            "_view_name": "HBoxView",
            "box_style": "",
            "children": [
              "IPY_MODEL_874d21221a004109b7b4c113c5d0b711",
              "IPY_MODEL_da5e38ee1ebc4860910daa04c625e5d9",
              "IPY_MODEL_522d06588fc84f449eff521322a79f2d"
            ],
            "layout": "IPY_MODEL_c4d9add6a0364e5a8cdc74d483a43bf4"
          }
        },
        "874d21221a004109b7b4c113c5d0b711": {
          "model_module": "@jupyter-widgets/controls",
          "model_name": "HTMLModel",
          "model_module_version": "1.5.0",
          "state": {
            "_dom_classes": [],
            "_model_module": "@jupyter-widgets/controls",
            "_model_module_version": "1.5.0",
            "_model_name": "HTMLModel",
            "_view_count": null,
            "_view_module": "@jupyter-widgets/controls",
            "_view_module_version": "1.5.0",
            "_view_name": "HTMLView",
            "description": "",
            "description_tooltip": null,
            "layout": "IPY_MODEL_f8e3ef0471a74847bd974df5e7bc8fa2",
            "placeholder": "​",
            "style": "IPY_MODEL_9f0ff22aee894ba6919afc3fd7229896",
            "value": "Processing: 100%"
          }
        },
        "da5e38ee1ebc4860910daa04c625e5d9": {
          "model_module": "@jupyter-widgets/controls",
          "model_name": "FloatProgressModel",
          "model_module_version": "1.5.0",
          "state": {
            "_dom_classes": [],
            "_model_module": "@jupyter-widgets/controls",
            "_model_module_version": "1.5.0",
            "_model_name": "FloatProgressModel",
            "_view_count": null,
            "_view_module": "@jupyter-widgets/controls",
            "_view_module_version": "1.5.0",
            "_view_name": "ProgressView",
            "bar_style": "",
            "description": "",
            "description_tooltip": null,
            "layout": "IPY_MODEL_f8ff290ae3f34fa0a8678a3af9e1d033",
            "max": 65,
            "min": 0,
            "orientation": "horizontal",
            "style": "IPY_MODEL_9aacdb66bea049c0b833cc999dc50144",
            "value": 65
          }
        },
        "522d06588fc84f449eff521322a79f2d": {
          "model_module": "@jupyter-widgets/controls",
          "model_name": "HTMLModel",
          "model_module_version": "1.5.0",
          "state": {
            "_dom_classes": [],
            "_model_module": "@jupyter-widgets/controls",
            "_model_module_version": "1.5.0",
            "_model_name": "HTMLModel",
            "_view_count": null,
            "_view_module": "@jupyter-widgets/controls",
            "_view_module_version": "1.5.0",
            "_view_name": "HTMLView",
            "description": "",
            "description_tooltip": null,
            "layout": "IPY_MODEL_666836e68faa4ed19ffaf6b2bb24ef91",
            "placeholder": "​",
            "style": "IPY_MODEL_9d10f01a595c4c37b09261a977251ea7",
            "value": " 65/65 [00:21&lt;00:00,  2.71it/s]"
          }
        },
        "c4d9add6a0364e5a8cdc74d483a43bf4": {
          "model_module": "@jupyter-widgets/base",
          "model_name": "LayoutModel",
          "model_module_version": "1.2.0",
          "state": {
            "_model_module": "@jupyter-widgets/base",
            "_model_module_version": "1.2.0",
            "_model_name": "LayoutModel",
            "_view_count": null,
            "_view_module": "@jupyter-widgets/base",
            "_view_module_version": "1.2.0",
            "_view_name": "LayoutView",
            "align_content": null,
            "align_items": null,
            "align_self": null,
            "border": null,
            "bottom": null,
            "display": null,
            "flex": null,
            "flex_flow": null,
            "grid_area": null,
            "grid_auto_columns": null,
            "grid_auto_flow": null,
            "grid_auto_rows": null,
            "grid_column": null,
            "grid_gap": null,
            "grid_row": null,
            "grid_template_areas": null,
            "grid_template_columns": null,
            "grid_template_rows": null,
            "height": null,
            "justify_content": null,
            "justify_items": null,
            "left": null,
            "margin": null,
            "max_height": null,
            "max_width": null,
            "min_height": null,
            "min_width": null,
            "object_fit": null,
            "object_position": null,
            "order": null,
            "overflow": null,
            "overflow_x": null,
            "overflow_y": null,
            "padding": null,
            "right": null,
            "top": null,
            "visibility": "hidden",
            "width": null
          }
        },
        "f8e3ef0471a74847bd974df5e7bc8fa2": {
          "model_module": "@jupyter-widgets/base",
          "model_name": "LayoutModel",
          "model_module_version": "1.2.0",
          "state": {
            "_model_module": "@jupyter-widgets/base",
            "_model_module_version": "1.2.0",
            "_model_name": "LayoutModel",
            "_view_count": null,
            "_view_module": "@jupyter-widgets/base",
            "_view_module_version": "1.2.0",
            "_view_name": "LayoutView",
            "align_content": null,
            "align_items": null,
            "align_self": null,
            "border": null,
            "bottom": null,
            "display": null,
            "flex": null,
            "flex_flow": null,
            "grid_area": null,
            "grid_auto_columns": null,
            "grid_auto_flow": null,
            "grid_auto_rows": null,
            "grid_column": null,
            "grid_gap": null,
            "grid_row": null,
            "grid_template_areas": null,
            "grid_template_columns": null,
            "grid_template_rows": null,
            "height": null,
            "justify_content": null,
            "justify_items": null,
            "left": null,
            "margin": null,
            "max_height": null,
            "max_width": null,
            "min_height": null,
            "min_width": null,
            "object_fit": null,
            "object_position": null,
            "order": null,
            "overflow": null,
            "overflow_x": null,
            "overflow_y": null,
            "padding": null,
            "right": null,
            "top": null,
            "visibility": null,
            "width": null
          }
        },
        "9f0ff22aee894ba6919afc3fd7229896": {
          "model_module": "@jupyter-widgets/controls",
          "model_name": "DescriptionStyleModel",
          "model_module_version": "1.5.0",
          "state": {
            "_model_module": "@jupyter-widgets/controls",
            "_model_module_version": "1.5.0",
            "_model_name": "DescriptionStyleModel",
            "_view_count": null,
            "_view_module": "@jupyter-widgets/base",
            "_view_module_version": "1.2.0",
            "_view_name": "StyleView",
            "description_width": ""
          }
        },
        "f8ff290ae3f34fa0a8678a3af9e1d033": {
          "model_module": "@jupyter-widgets/base",
          "model_name": "LayoutModel",
          "model_module_version": "1.2.0",
          "state": {
            "_model_module": "@jupyter-widgets/base",
            "_model_module_version": "1.2.0",
            "_model_name": "LayoutModel",
            "_view_count": null,
            "_view_module": "@jupyter-widgets/base",
            "_view_module_version": "1.2.0",
            "_view_name": "LayoutView",
            "align_content": null,
            "align_items": null,
            "align_self": null,
            "border": null,
            "bottom": null,
            "display": null,
            "flex": null,
            "flex_flow": null,
            "grid_area": null,
            "grid_auto_columns": null,
            "grid_auto_flow": null,
            "grid_auto_rows": null,
            "grid_column": null,
            "grid_gap": null,
            "grid_row": null,
            "grid_template_areas": null,
            "grid_template_columns": null,
            "grid_template_rows": null,
            "height": null,
            "justify_content": null,
            "justify_items": null,
            "left": null,
            "margin": null,
            "max_height": null,
            "max_width": null,
            "min_height": null,
            "min_width": null,
            "object_fit": null,
            "object_position": null,
            "order": null,
            "overflow": null,
            "overflow_x": null,
            "overflow_y": null,
            "padding": null,
            "right": null,
            "top": null,
            "visibility": null,
            "width": null
          }
        },
        "9aacdb66bea049c0b833cc999dc50144": {
          "model_module": "@jupyter-widgets/controls",
          "model_name": "ProgressStyleModel",
          "model_module_version": "1.5.0",
          "state": {
            "_model_module": "@jupyter-widgets/controls",
            "_model_module_version": "1.5.0",
            "_model_name": "ProgressStyleModel",
            "_view_count": null,
            "_view_module": "@jupyter-widgets/base",
            "_view_module_version": "1.2.0",
            "_view_name": "StyleView",
            "bar_color": null,
            "description_width": ""
          }
        },
        "666836e68faa4ed19ffaf6b2bb24ef91": {
          "model_module": "@jupyter-widgets/base",
          "model_name": "LayoutModel",
          "model_module_version": "1.2.0",
          "state": {
            "_model_module": "@jupyter-widgets/base",
            "_model_module_version": "1.2.0",
            "_model_name": "LayoutModel",
            "_view_count": null,
            "_view_module": "@jupyter-widgets/base",
            "_view_module_version": "1.2.0",
            "_view_name": "LayoutView",
            "align_content": null,
            "align_items": null,
            "align_self": null,
            "border": null,
            "bottom": null,
            "display": null,
            "flex": null,
            "flex_flow": null,
            "grid_area": null,
            "grid_auto_columns": null,
            "grid_auto_flow": null,
            "grid_auto_rows": null,
            "grid_column": null,
            "grid_gap": null,
            "grid_row": null,
            "grid_template_areas": null,
            "grid_template_columns": null,
            "grid_template_rows": null,
            "height": null,
            "justify_content": null,
            "justify_items": null,
            "left": null,
            "margin": null,
            "max_height": null,
            "max_width": null,
            "min_height": null,
            "min_width": null,
            "object_fit": null,
            "object_position": null,
            "order": null,
            "overflow": null,
            "overflow_x": null,
            "overflow_y": null,
            "padding": null,
            "right": null,
            "top": null,
            "visibility": null,
            "width": null
          }
        },
        "9d10f01a595c4c37b09261a977251ea7": {
          "model_module": "@jupyter-widgets/controls",
          "model_name": "DescriptionStyleModel",
          "model_module_version": "1.5.0",
          "state": {
            "_model_module": "@jupyter-widgets/controls",
            "_model_module_version": "1.5.0",
            "_model_name": "DescriptionStyleModel",
            "_view_count": null,
            "_view_module": "@jupyter-widgets/base",
            "_view_module_version": "1.2.0",
            "_view_name": "StyleView",
            "description_width": ""
          }
        }
      }
    }
  },
  "nbformat": 4,
  "nbformat_minor": 5
}